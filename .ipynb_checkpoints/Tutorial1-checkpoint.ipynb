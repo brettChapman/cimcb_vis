{
 "cells": [
  {
   "cell_type": "markdown",
   "metadata": {},
   "source": [
    "<img src=\"images/logo_text.png\" width=\"250px\" align=\"right\">\n",
    "\n",
    "# Jupyter Tutorial: Metabolomics Hierarchical Edge Bundle\n",
    "\n",
    "#### <font size=\"3\" color='red'>To begin: Click anywhere in this cell and press 'Run' on the menu bar.<br> The next cell in the notebook is then automatically highlighted. Press 'Run' again.<br>Repeat this process until the end of the notebook.<br> Alternatively click 'Kernel' followed by 'Restart and Run All'.<br> NOTE: Some code cells may take several seconds to execute, please be patient.<br></font>  "
   ]
  },
  {
   "cell_type": "markdown",
   "metadata": {},
   "source": [
    "<div style=\"background-color:rgb(255, 250, 250); padding:5px;  border: 1px solid lightgrey; padding-left: 1em; padding-right: 1em;\">\n",
    "\n",
    "## 1. Import Packages/Modules\n",
    "The first code cell of this tutorial (below this text box) imports packages and modules into the Jupter environment to extend our capability beyond the basic functionality of python. <br>\n",
    "\n",
    "**Run the cell by clicking anywhere in the cell and then clicking \"Run\" in the Menu.** <br>\n",
    "When sucessfully executed the cell will print \"All packages successfully loaded\" in the notebook below the cell.\n",
    "</div>"
   ]
  },
  {
   "cell_type": "code",
   "execution_count": 1,
   "metadata": {},
   "outputs": [
    {
     "name": "stdout",
     "output_type": "stream",
     "text": [
      "All packages successfully loaded\n"
     ]
    }
   ],
   "source": [
    "import os\n",
    "\n",
    "home = os.getcwd() + \"/\"\n",
    "    \n",
    "from beakerx.object import beakerx \n",
    "beakerx.pandas_display_table() # by default display pandas tables as BeakerX interactive tables\n",
    "\n",
    "import numpy as np\n",
    "import pandas as pd\n",
    "from IPython.display import IFrame,HTML\n",
    "import cimcb_lite as cb\n",
    "import cimcb_vis\n",
    "print('All packages successfully loaded')"
   ]
  },
  {
   "cell_type": "markdown",
   "metadata": {},
   "source": [
    "<div style=\"background-color:rgb(255, 250, 250); padding:5px;  border: 1px solid lightgrey; padding-left: 1em; padding-right: 1em;\">\n",
    "\n",
    "## 2. Load Data and Peak sheet\n",
    "The next code cell loads the *Data* and *Peak* sheets from an Excel file:\n",
    "\n",
    "</div>"
   ]
  },
  {
   "cell_type": "code",
   "execution_count": 2,
   "metadata": {},
   "outputs": [
    {
     "name": "stdout",
     "output_type": "stream",
     "text": [
      "Loadings PeakFile: Peak\n",
      "Loadings DataFile: Data\n",
      "Data Table & Peak Table is suitable.\n",
      "TOTAL SAMPLES: 123 TOTAL PEAKS: 149\n",
      "Done!\n"
     ]
    }
   ],
   "source": [
    "#file = 'MTBLS90.xlsx' #'GastricCancer_NMR.xlsx' # expects an excel spreadsheet\n",
    "file = 'GastricCancer_NMR.xlsx' # expects an excel spreadsheet\n",
    "#file = 'MTBLS93.xlsx'\n",
    "#file = 'MTBLS161_urine.xlsx'\n",
    "#file = 'MTBLS404.xlsx'\n",
    "#file = 'MTBLS547.xlsx'\n",
    "\n",
    "DataTable,PeakTable = cb.utils.load_dataXL(home + file, DataSheet='Data', PeakSheet='Peak')"
   ]
  },
  {
   "cell_type": "markdown",
   "metadata": {},
   "source": [
    "<div style=\"background-color:rgb(255, 250, 250); padding:5px;  border: 1px solid lightgrey; padding-left: 1em; padding-right: 1em;\">\n",
    "\n",
    "### Display the Data sheet\n",
    "\n",
    "Using the <b>BeakerX</b> package we can interactively view and check the imported Data table simply by calling the function <span style=\"font-family: monaco; font-size: 14px; background-color:white;\">display(DataTable)</span><br>\n",
    "</div>"
   ]
  },
  {
   "cell_type": "code",
   "execution_count": 3,
   "metadata": {},
   "outputs": [
    {
     "data": {
      "application/vnd.jupyter.widget-view+json": {
       "model_id": "608e7cc653d04503a74bf67a2774111f",
       "version_major": 2,
       "version_minor": 0
      }
     },
     "metadata": {},
     "output_type": "display_data"
    }
   ],
   "source": [
    "display(DataTable)"
   ]
  },
  {
   "cell_type": "markdown",
   "metadata": {},
   "source": [
    "<div style=\"background-color:rgb(255, 250, 250); padding:5px;  border: 1px solid lightgrey; padding-left: 1em; padding-right: 1em;\">\n",
    "\n",
    "### Display the Peak sheet\n",
    "\n",
    "Using the <b>BeakerX</b> package we can interactively view and check the imported Peak table  simply by calling the function <span style=\"font-family: monaco; font-size: 14px; background-color:white;\">display(PeakTable)</span><br>\n",
    "</div>"
   ]
  },
  {
   "cell_type": "code",
   "execution_count": 4,
   "metadata": {},
   "outputs": [
    {
     "data": {
      "application/vnd.jupyter.widget-view+json": {
       "model_id": "153dcfe302f64d19aa234befa0dc5a96",
       "version_major": 2,
       "version_minor": 0
      }
     },
     "metadata": {},
     "output_type": "display_data"
    }
   ],
   "source": [
    "display(PeakTable)"
   ]
  },
  {
   "cell_type": "markdown",
   "metadata": {},
   "source": [
    "<div style=\"background-color:rgb(255, 250, 250); padding:10px;  border: 1px solid lightgrey; padding-left: 1em; padding-right: 1em;\">\n",
    "\n",
    "## 3. Data Cleaning\n",
    "\n",
    "It is good practice to assess the quality of your data, and remove (clean out) any poorly measured metabolites. We have decided to only keep any metabolites with a QC-RSD less than 20% and with a percentage missing values less than 10%. Other values can also be used to filter your data on, such as variable of importance (VIP), p-values etc if they're available in your Peak Table.\n",
    "</div>"
   ]
  },
  {
   "cell_type": "code",
   "execution_count": 5,
   "metadata": {},
   "outputs": [
    {
     "name": "stdout",
     "output_type": "stream",
     "text": [
      "Number of peaks remaining: 149\n"
     ]
    }
   ],
   "source": [
    "PeakTableClean = PeakTable#.query('Pvalue < 1.0')\n",
    "#PeakTableClean = PeakTable.query('QC_RSD < 20 & Perc_missing < 10')\n",
    "\n",
    "print(\"Number of peaks remaining: {}\".format(len(PeakTableClean)))"
   ]
  },
  {
   "cell_type": "markdown",
   "metadata": {},
   "source": [
    "<div style=\"background-color:rgb(255, 250, 250); padding:10px;  border: 1px solid lightgrey; padding-left: 1em; padding-right: 1em;\">\n",
    "\n",
    "## 4. Log, scale, and impute missing values\n",
    "\n",
    "Data often needs to be log transformed to compensate for skewness from overly large values, and is often the choice for biological data. Scaling is a means of normalising the data across all of the featues (peaks) so that they are equally comparable. Imputing missing values is performed to remove any NaN values which would cause problems for any downstream analysis. If there are too many missing values for a given feature (peak) then that feature should be removed entirely.\n",
    "</div>"
   ]
  },
  {
   "cell_type": "code",
   "execution_count": 6,
   "metadata": {},
   "outputs": [],
   "source": [
    "# Extract and scale the metabolite data from the DataTable \n",
    "\n",
    "peaklist = PeakTableClean['Name']                   # Set peaklist to the metabolite names in the DataTableClean\n",
    "X = DataTable[peaklist]                             # Extract X matrix from DataTable using peaklist\n",
    "Xlog = np.log10(X)                                  # Log transform (base-10)\n",
    "Xscale = cb.utils.scale(Xlog, method='auto')        # methods include auto, pareto, vast, and level\n",
    "Xknn = cb.utils.knnimpute(Xscale, k=3)              # missing value imputation (knn - 3 nearest neighbors)\n",
    "\n",
    "Xknn_data = pd.merge(DataTable.T[~DataTable.T.index.isin(PeakTable['Name'])].T.reset_index(drop=True), pd.DataFrame(Xknn, columns=peaklist), left_index=True, right_index=True)"
   ]
  },
  {
   "cell_type": "markdown",
   "metadata": {},
   "source": [
    "<div style=\"background-color:rgb(255, 250, 250); padding:10px;  border: 1px solid lightgrey; padding-left: 1em; padding-right: 1em;\">\n",
    "\n",
    "## 5. PCA - Quality Assesment\n",
    "\n",
    "To provide a multivariate assesment of the quality of the cleaned data set it is good practice to perform a simple principal components analysis (PCA; after suitable tranforming, scaling & missing value imputation) and labelled by sample type.\n",
    "</div>"
   ]
  },
  {
   "cell_type": "code",
   "execution_count": 7,
   "metadata": {},
   "outputs": [
    {
     "data": {
      "text/html": [
       "\n",
       "    <div class=\"bk-root\">\n",
       "        <a href=\"https://bokeh.pydata.org\" target=\"_blank\" class=\"bk-logo bk-logo-small bk-logo-notebook\"></a>\n",
       "        <span id=\"1123\">Loading BokehJS ...</span>\n",
       "    </div>"
      ]
     },
     "metadata": {},
     "output_type": "display_data"
    },
    {
     "data": {
      "application/javascript": [
       "\n",
       "(function(root) {\n",
       "  function now() {\n",
       "    return new Date();\n",
       "  }\n",
       "\n",
       "  var force = true;\n",
       "\n",
       "  if (typeof root._bokeh_onload_callbacks === \"undefined\" || force === true) {\n",
       "    root._bokeh_onload_callbacks = [];\n",
       "    root._bokeh_is_loading = undefined;\n",
       "  }\n",
       "\n",
       "  var JS_MIME_TYPE = 'application/javascript';\n",
       "  var HTML_MIME_TYPE = 'text/html';\n",
       "  var EXEC_MIME_TYPE = 'application/vnd.bokehjs_exec.v0+json';\n",
       "  var CLASS_NAME = 'output_bokeh rendered_html';\n",
       "\n",
       "  /**\n",
       "   * Render data to the DOM node\n",
       "   */\n",
       "  function render(props, node) {\n",
       "    var script = document.createElement(\"script\");\n",
       "    node.appendChild(script);\n",
       "  }\n",
       "\n",
       "  /**\n",
       "   * Handle when an output is cleared or removed\n",
       "   */\n",
       "  function handleClearOutput(event, handle) {\n",
       "    var cell = handle.cell;\n",
       "\n",
       "    var id = cell.output_area._bokeh_element_id;\n",
       "    var server_id = cell.output_area._bokeh_server_id;\n",
       "    // Clean up Bokeh references\n",
       "    if (id != null && id in Bokeh.index) {\n",
       "      Bokeh.index[id].model.document.clear();\n",
       "      delete Bokeh.index[id];\n",
       "    }\n",
       "\n",
       "    if (server_id !== undefined) {\n",
       "      // Clean up Bokeh references\n",
       "      var cmd = \"from bokeh.io.state import curstate; print(curstate().uuid_to_server['\" + server_id + \"'].get_sessions()[0].document.roots[0]._id)\";\n",
       "      cell.notebook.kernel.execute(cmd, {\n",
       "        iopub: {\n",
       "          output: function(msg) {\n",
       "            var id = msg.content.text.trim();\n",
       "            if (id in Bokeh.index) {\n",
       "              Bokeh.index[id].model.document.clear();\n",
       "              delete Bokeh.index[id];\n",
       "            }\n",
       "          }\n",
       "        }\n",
       "      });\n",
       "      // Destroy server and session\n",
       "      var cmd = \"import bokeh.io.notebook as ion; ion.destroy_server('\" + server_id + \"')\";\n",
       "      cell.notebook.kernel.execute(cmd);\n",
       "    }\n",
       "  }\n",
       "\n",
       "  /**\n",
       "   * Handle when a new output is added\n",
       "   */\n",
       "  function handleAddOutput(event, handle) {\n",
       "    var output_area = handle.output_area;\n",
       "    var output = handle.output;\n",
       "\n",
       "    // limit handleAddOutput to display_data with EXEC_MIME_TYPE content only\n",
       "    if ((output.output_type != \"display_data\") || (!output.data.hasOwnProperty(EXEC_MIME_TYPE))) {\n",
       "      return\n",
       "    }\n",
       "\n",
       "    var toinsert = output_area.element.find(\".\" + CLASS_NAME.split(' ')[0]);\n",
       "\n",
       "    if (output.metadata[EXEC_MIME_TYPE][\"id\"] !== undefined) {\n",
       "      toinsert[toinsert.length - 1].firstChild.textContent = output.data[JS_MIME_TYPE];\n",
       "      // store reference to embed id on output_area\n",
       "      output_area._bokeh_element_id = output.metadata[EXEC_MIME_TYPE][\"id\"];\n",
       "    }\n",
       "    if (output.metadata[EXEC_MIME_TYPE][\"server_id\"] !== undefined) {\n",
       "      var bk_div = document.createElement(\"div\");\n",
       "      bk_div.innerHTML = output.data[HTML_MIME_TYPE];\n",
       "      var script_attrs = bk_div.children[0].attributes;\n",
       "      for (var i = 0; i < script_attrs.length; i++) {\n",
       "        toinsert[toinsert.length - 1].firstChild.setAttribute(script_attrs[i].name, script_attrs[i].value);\n",
       "      }\n",
       "      // store reference to server id on output_area\n",
       "      output_area._bokeh_server_id = output.metadata[EXEC_MIME_TYPE][\"server_id\"];\n",
       "    }\n",
       "  }\n",
       "\n",
       "  function register_renderer(events, OutputArea) {\n",
       "\n",
       "    function append_mime(data, metadata, element) {\n",
       "      // create a DOM node to render to\n",
       "      var toinsert = this.create_output_subarea(\n",
       "        metadata,\n",
       "        CLASS_NAME,\n",
       "        EXEC_MIME_TYPE\n",
       "      );\n",
       "      this.keyboard_manager.register_events(toinsert);\n",
       "      // Render to node\n",
       "      var props = {data: data, metadata: metadata[EXEC_MIME_TYPE]};\n",
       "      render(props, toinsert[toinsert.length - 1]);\n",
       "      element.append(toinsert);\n",
       "      return toinsert\n",
       "    }\n",
       "\n",
       "    /* Handle when an output is cleared or removed */\n",
       "    events.on('clear_output.CodeCell', handleClearOutput);\n",
       "    events.on('delete.Cell', handleClearOutput);\n",
       "\n",
       "    /* Handle when a new output is added */\n",
       "    events.on('output_added.OutputArea', handleAddOutput);\n",
       "\n",
       "    /**\n",
       "     * Register the mime type and append_mime function with output_area\n",
       "     */\n",
       "    OutputArea.prototype.register_mime_type(EXEC_MIME_TYPE, append_mime, {\n",
       "      /* Is output safe? */\n",
       "      safe: true,\n",
       "      /* Index of renderer in `output_area.display_order` */\n",
       "      index: 0\n",
       "    });\n",
       "  }\n",
       "\n",
       "  // register the mime type if in Jupyter Notebook environment and previously unregistered\n",
       "  if (root.Jupyter !== undefined) {\n",
       "    var events = require('base/js/events');\n",
       "    var OutputArea = require('notebook/js/outputarea').OutputArea;\n",
       "\n",
       "    if (OutputArea.prototype.mime_types().indexOf(EXEC_MIME_TYPE) == -1) {\n",
       "      register_renderer(events, OutputArea);\n",
       "    }\n",
       "  }\n",
       "\n",
       "  \n",
       "  if (typeof (root._bokeh_timeout) === \"undefined\" || force === true) {\n",
       "    root._bokeh_timeout = Date.now() + 5000;\n",
       "    root._bokeh_failed_load = false;\n",
       "  }\n",
       "\n",
       "  var NB_LOAD_WARNING = {'data': {'text/html':\n",
       "     \"<div style='background-color: #fdd'>\\n\"+\n",
       "     \"<p>\\n\"+\n",
       "     \"BokehJS does not appear to have successfully loaded. If loading BokehJS from CDN, this \\n\"+\n",
       "     \"may be due to a slow or bad network connection. Possible fixes:\\n\"+\n",
       "     \"</p>\\n\"+\n",
       "     \"<ul>\\n\"+\n",
       "     \"<li>re-rerun `output_notebook()` to attempt to load from CDN again, or</li>\\n\"+\n",
       "     \"<li>use INLINE resources instead, as so:</li>\\n\"+\n",
       "     \"</ul>\\n\"+\n",
       "     \"<code>\\n\"+\n",
       "     \"from bokeh.resources import INLINE\\n\"+\n",
       "     \"output_notebook(resources=INLINE)\\n\"+\n",
       "     \"</code>\\n\"+\n",
       "     \"</div>\"}};\n",
       "\n",
       "  function display_loaded() {\n",
       "    var el = document.getElementById(\"1123\");\n",
       "    if (el != null) {\n",
       "      el.textContent = \"BokehJS is loading...\";\n",
       "    }\n",
       "    if (root.Bokeh !== undefined) {\n",
       "      if (el != null) {\n",
       "        el.textContent = \"BokehJS \" + root.Bokeh.version + \" successfully loaded.\";\n",
       "      }\n",
       "    } else if (Date.now() < root._bokeh_timeout) {\n",
       "      setTimeout(display_loaded, 100)\n",
       "    }\n",
       "  }\n",
       "\n",
       "\n",
       "  function run_callbacks() {\n",
       "    try {\n",
       "      root._bokeh_onload_callbacks.forEach(function(callback) {\n",
       "        if (callback != null)\n",
       "          callback();\n",
       "      });\n",
       "    } finally {\n",
       "      delete root._bokeh_onload_callbacks\n",
       "    }\n",
       "    console.debug(\"Bokeh: all callbacks have finished\");\n",
       "  }\n",
       "\n",
       "  function load_libs(css_urls, js_urls, callback) {\n",
       "    if (css_urls == null) css_urls = [];\n",
       "    if (js_urls == null) js_urls = [];\n",
       "\n",
       "    root._bokeh_onload_callbacks.push(callback);\n",
       "    if (root._bokeh_is_loading > 0) {\n",
       "      console.debug(\"Bokeh: BokehJS is being loaded, scheduling callback at\", now());\n",
       "      return null;\n",
       "    }\n",
       "    if (js_urls == null || js_urls.length === 0) {\n",
       "      run_callbacks();\n",
       "      return null;\n",
       "    }\n",
       "    console.debug(\"Bokeh: BokehJS not loaded, scheduling load and callback at\", now());\n",
       "    root._bokeh_is_loading = css_urls.length + js_urls.length;\n",
       "\n",
       "    function on_load() {\n",
       "      root._bokeh_is_loading--;\n",
       "      if (root._bokeh_is_loading === 0) {\n",
       "        console.debug(\"Bokeh: all BokehJS libraries/stylesheets loaded\");\n",
       "        run_callbacks()\n",
       "      }\n",
       "    }\n",
       "\n",
       "    function on_error() {\n",
       "      console.error(\"failed to load \" + url);\n",
       "    }\n",
       "\n",
       "    for (var i = 0; i < css_urls.length; i++) {\n",
       "      var url = css_urls[i];\n",
       "      const element = document.createElement(\"link\");\n",
       "      element.onload = on_load;\n",
       "      element.onerror = on_error;\n",
       "      element.rel = \"stylesheet\";\n",
       "      element.type = \"text/css\";\n",
       "      element.href = url;\n",
       "      console.debug(\"Bokeh: injecting link tag for BokehJS stylesheet: \", url);\n",
       "      document.body.appendChild(element);\n",
       "    }\n",
       "\n",
       "    for (var i = 0; i < js_urls.length; i++) {\n",
       "      var url = js_urls[i];\n",
       "      var element = document.createElement('script');\n",
       "      element.onload = on_load;\n",
       "      element.onerror = on_error;\n",
       "      element.async = false;\n",
       "      element.src = url;\n",
       "      console.debug(\"Bokeh: injecting script tag for BokehJS library: \", url);\n",
       "      document.head.appendChild(element);\n",
       "    }\n",
       "  };var element = document.getElementById(\"1123\");\n",
       "  if (element == null) {\n",
       "    console.error(\"Bokeh: ERROR: autoload.js configured with elementid '1123' but no matching script tag was found. \")\n",
       "    return false;\n",
       "  }\n",
       "\n",
       "  function inject_raw_css(css) {\n",
       "    const element = document.createElement(\"style\");\n",
       "    element.appendChild(document.createTextNode(css));\n",
       "    document.body.appendChild(element);\n",
       "  }\n",
       "\n",
       "  var js_urls = [\"https://cdn.pydata.org/bokeh/release/bokeh-1.1.0.min.js\", \"https://cdn.pydata.org/bokeh/release/bokeh-widgets-1.1.0.min.js\", \"https://cdn.pydata.org/bokeh/release/bokeh-tables-1.1.0.min.js\", \"https://cdn.pydata.org/bokeh/release/bokeh-gl-1.1.0.min.js\"];\n",
       "  var css_urls = [\"https://cdn.pydata.org/bokeh/release/bokeh-1.1.0.min.css\", \"https://cdn.pydata.org/bokeh/release/bokeh-widgets-1.1.0.min.css\", \"https://cdn.pydata.org/bokeh/release/bokeh-tables-1.1.0.min.css\"];\n",
       "\n",
       "  var inline_js = [\n",
       "    function(Bokeh) {\n",
       "      Bokeh.set_log_level(\"info\");\n",
       "    },\n",
       "    \n",
       "    function(Bokeh) {\n",
       "      \n",
       "    },\n",
       "    function(Bokeh) {} // ensure no trailing comma for IE\n",
       "  ];\n",
       "\n",
       "  function run_inline_js() {\n",
       "    \n",
       "    if ((root.Bokeh !== undefined) || (force === true)) {\n",
       "      for (var i = 0; i < inline_js.length; i++) {\n",
       "        inline_js[i].call(root, root.Bokeh);\n",
       "      }if (force === true) {\n",
       "        display_loaded();\n",
       "      }} else if (Date.now() < root._bokeh_timeout) {\n",
       "      setTimeout(run_inline_js, 100);\n",
       "    } else if (!root._bokeh_failed_load) {\n",
       "      console.log(\"Bokeh: BokehJS failed to load within specified timeout.\");\n",
       "      root._bokeh_failed_load = true;\n",
       "    } else if (force !== true) {\n",
       "      var cell = $(document.getElementById(\"1123\")).parents('.cell').data().cell;\n",
       "      cell.output_area.append_execute_result(NB_LOAD_WARNING)\n",
       "    }\n",
       "\n",
       "  }\n",
       "\n",
       "  if (root._bokeh_is_loading === 0) {\n",
       "    console.debug(\"Bokeh: BokehJS loaded, going straight to plotting\");\n",
       "    run_inline_js();\n",
       "  } else {\n",
       "    load_libs(css_urls, js_urls, function() {\n",
       "      console.debug(\"Bokeh: BokehJS plotting callback run at\", now());\n",
       "      run_inline_js();\n",
       "    });\n",
       "  }\n",
       "}(window));"
      ],
      "application/vnd.bokehjs_load.v0+json": "\n(function(root) {\n  function now() {\n    return new Date();\n  }\n\n  var force = true;\n\n  if (typeof root._bokeh_onload_callbacks === \"undefined\" || force === true) {\n    root._bokeh_onload_callbacks = [];\n    root._bokeh_is_loading = undefined;\n  }\n\n  \n\n  \n  if (typeof (root._bokeh_timeout) === \"undefined\" || force === true) {\n    root._bokeh_timeout = Date.now() + 5000;\n    root._bokeh_failed_load = false;\n  }\n\n  var NB_LOAD_WARNING = {'data': {'text/html':\n     \"<div style='background-color: #fdd'>\\n\"+\n     \"<p>\\n\"+\n     \"BokehJS does not appear to have successfully loaded. If loading BokehJS from CDN, this \\n\"+\n     \"may be due to a slow or bad network connection. Possible fixes:\\n\"+\n     \"</p>\\n\"+\n     \"<ul>\\n\"+\n     \"<li>re-rerun `output_notebook()` to attempt to load from CDN again, or</li>\\n\"+\n     \"<li>use INLINE resources instead, as so:</li>\\n\"+\n     \"</ul>\\n\"+\n     \"<code>\\n\"+\n     \"from bokeh.resources import INLINE\\n\"+\n     \"output_notebook(resources=INLINE)\\n\"+\n     \"</code>\\n\"+\n     \"</div>\"}};\n\n  function display_loaded() {\n    var el = document.getElementById(\"1123\");\n    if (el != null) {\n      el.textContent = \"BokehJS is loading...\";\n    }\n    if (root.Bokeh !== undefined) {\n      if (el != null) {\n        el.textContent = \"BokehJS \" + root.Bokeh.version + \" successfully loaded.\";\n      }\n    } else if (Date.now() < root._bokeh_timeout) {\n      setTimeout(display_loaded, 100)\n    }\n  }\n\n\n  function run_callbacks() {\n    try {\n      root._bokeh_onload_callbacks.forEach(function(callback) {\n        if (callback != null)\n          callback();\n      });\n    } finally {\n      delete root._bokeh_onload_callbacks\n    }\n    console.debug(\"Bokeh: all callbacks have finished\");\n  }\n\n  function load_libs(css_urls, js_urls, callback) {\n    if (css_urls == null) css_urls = [];\n    if (js_urls == null) js_urls = [];\n\n    root._bokeh_onload_callbacks.push(callback);\n    if (root._bokeh_is_loading > 0) {\n      console.debug(\"Bokeh: BokehJS is being loaded, scheduling callback at\", now());\n      return null;\n    }\n    if (js_urls == null || js_urls.length === 0) {\n      run_callbacks();\n      return null;\n    }\n    console.debug(\"Bokeh: BokehJS not loaded, scheduling load and callback at\", now());\n    root._bokeh_is_loading = css_urls.length + js_urls.length;\n\n    function on_load() {\n      root._bokeh_is_loading--;\n      if (root._bokeh_is_loading === 0) {\n        console.debug(\"Bokeh: all BokehJS libraries/stylesheets loaded\");\n        run_callbacks()\n      }\n    }\n\n    function on_error() {\n      console.error(\"failed to load \" + url);\n    }\n\n    for (var i = 0; i < css_urls.length; i++) {\n      var url = css_urls[i];\n      const element = document.createElement(\"link\");\n      element.onload = on_load;\n      element.onerror = on_error;\n      element.rel = \"stylesheet\";\n      element.type = \"text/css\";\n      element.href = url;\n      console.debug(\"Bokeh: injecting link tag for BokehJS stylesheet: \", url);\n      document.body.appendChild(element);\n    }\n\n    for (var i = 0; i < js_urls.length; i++) {\n      var url = js_urls[i];\n      var element = document.createElement('script');\n      element.onload = on_load;\n      element.onerror = on_error;\n      element.async = false;\n      element.src = url;\n      console.debug(\"Bokeh: injecting script tag for BokehJS library: \", url);\n      document.head.appendChild(element);\n    }\n  };var element = document.getElementById(\"1123\");\n  if (element == null) {\n    console.error(\"Bokeh: ERROR: autoload.js configured with elementid '1123' but no matching script tag was found. \")\n    return false;\n  }\n\n  function inject_raw_css(css) {\n    const element = document.createElement(\"style\");\n    element.appendChild(document.createTextNode(css));\n    document.body.appendChild(element);\n  }\n\n  var js_urls = [\"https://cdn.pydata.org/bokeh/release/bokeh-1.1.0.min.js\", \"https://cdn.pydata.org/bokeh/release/bokeh-widgets-1.1.0.min.js\", \"https://cdn.pydata.org/bokeh/release/bokeh-tables-1.1.0.min.js\", \"https://cdn.pydata.org/bokeh/release/bokeh-gl-1.1.0.min.js\"];\n  var css_urls = [\"https://cdn.pydata.org/bokeh/release/bokeh-1.1.0.min.css\", \"https://cdn.pydata.org/bokeh/release/bokeh-widgets-1.1.0.min.css\", \"https://cdn.pydata.org/bokeh/release/bokeh-tables-1.1.0.min.css\"];\n\n  var inline_js = [\n    function(Bokeh) {\n      Bokeh.set_log_level(\"info\");\n    },\n    \n    function(Bokeh) {\n      \n    },\n    function(Bokeh) {} // ensure no trailing comma for IE\n  ];\n\n  function run_inline_js() {\n    \n    if ((root.Bokeh !== undefined) || (force === true)) {\n      for (var i = 0; i < inline_js.length; i++) {\n        inline_js[i].call(root, root.Bokeh);\n      }if (force === true) {\n        display_loaded();\n      }} else if (Date.now() < root._bokeh_timeout) {\n      setTimeout(run_inline_js, 100);\n    } else if (!root._bokeh_failed_load) {\n      console.log(\"Bokeh: BokehJS failed to load within specified timeout.\");\n      root._bokeh_failed_load = true;\n    } else if (force !== true) {\n      var cell = $(document.getElementById(\"1123\")).parents('.cell').data().cell;\n      cell.output_area.append_execute_result(NB_LOAD_WARNING)\n    }\n\n  }\n\n  if (root._bokeh_is_loading === 0) {\n    console.debug(\"Bokeh: BokehJS loaded, going straight to plotting\");\n    run_inline_js();\n  } else {\n    load_libs(css_urls, js_urls, function() {\n      console.debug(\"Bokeh: BokehJS plotting callback run at\", now());\n      run_inline_js();\n    });\n  }\n}(window));"
     },
     "metadata": {},
     "output_type": "display_data"
    },
    {
     "data": {
      "text/html": [
       "\n",
       "\n",
       "\n",
       "\n",
       "\n",
       "\n",
       "  <div class=\"bk-root\" id=\"6b2ef6b8-73ef-4d52-a34f-6bd7585ddfbd\" data-root-id=\"1153\"></div>\n"
      ]
     },
     "metadata": {},
     "output_type": "display_data"
    },
    {
     "data": {
      "application/javascript": [
       "(function(root) {\n",
       "  function embed_document(root) {\n",
       "    \n",
       "  var docs_json = {\"ddb1c885-b9a8-4641-8ee0-f45f007b9300\":{\"roots\":{\"references\":[{\"attributes\":{\"children\":[{\"id\":\"1152\",\"type\":\"ToolbarBox\"},{\"id\":\"1150\",\"type\":\"GridBox\"}]},\"id\":\"1153\",\"type\":\"Column\"},{\"attributes\":{},\"id\":\"1026\",\"type\":\"SaveTool\"},{\"attributes\":{\"fill_alpha\":{\"value\":0.1},\"fill_color\":{\"value\":\"#1f77b4\"},\"line_alpha\":{\"value\":0.1},\"line_color\":{\"value\":\"#1f77b4\"},\"size\":{\"units\":\"screen\",\"value\":7},\"x\":{\"field\":\"x\"},\"y\":{\"field\":\"y\"}},\"id\":\"1088\",\"type\":\"Triangle\"},{\"attributes\":{\"fill_alpha\":0.01,\"fill_color\":\"red\",\"line_alpha\":0.01,\"line_color\":\"red\",\"x\":{\"field\":\"x\"},\"y\":{\"field\":\"y\"}},\"id\":\"1119\",\"type\":\"Patch\"},{\"attributes\":{\"data_source\":{\"id\":\"1051\",\"type\":\"ColumnDataSource\"},\"glyph\":{\"id\":\"1087\",\"type\":\"Triangle\"},\"hover_glyph\":null,\"muted_glyph\":null,\"nonselection_glyph\":{\"id\":\"1088\",\"type\":\"Triangle\"},\"selection_glyph\":null,\"view\":{\"id\":\"1090\",\"type\":\"CDSView\"}},\"id\":\"1089\",\"type\":\"GlyphRenderer\"},{\"attributes\":{\"overlay\":{\"id\":\"1046\",\"type\":\"BoxAnnotation\"}},\"id\":\"1025\",\"type\":\"BoxZoomTool\"},{\"attributes\":{},\"id\":\"1073\",\"type\":\"PanTool\"},{\"attributes\":{\"items\":[{\"id\":\"1048\",\"type\":\"LegendItem\"}]},\"id\":\"1047\",\"type\":\"Legend\"},{\"attributes\":{},\"id\":\"1023\",\"type\":\"PanTool\"},{\"attributes\":{},\"id\":\"1074\",\"type\":\"WheelZoomTool\"},{\"attributes\":{\"data_source\":{\"id\":\"1118\",\"type\":\"ColumnDataSource\"},\"glyph\":{\"id\":\"1119\",\"type\":\"Patch\"},\"hover_glyph\":null,\"muted_glyph\":null,\"nonselection_glyph\":{\"id\":\"1120\",\"type\":\"Patch\"},\"selection_glyph\":null,\"view\":{\"id\":\"1122\",\"type\":\"CDSView\"}},\"id\":\"1121\",\"type\":\"GlyphRenderer\"},{\"attributes\":{\"text\":\"PCA Score Plot (PC1 vs. PC2)\",\"text_font_size\":{\"value\":\"15pt\"}},\"id\":\"1003\",\"type\":\"Title\"},{\"attributes\":{},\"id\":\"1024\",\"type\":\"WheelZoomTool\"},{\"attributes\":{\"overlay\":{\"id\":\"1096\",\"type\":\"BoxAnnotation\"}},\"id\":\"1075\",\"type\":\"BoxZoomTool\"},{\"attributes\":{\"source\":{\"id\":\"1118\",\"type\":\"ColumnDataSource\"}},\"id\":\"1122\",\"type\":\"CDSView\"},{\"attributes\":{},\"id\":\"1027\",\"type\":\"ResetTool\"},{\"attributes\":{},\"id\":\"1076\",\"type\":\"SaveTool\"},{\"attributes\":{},\"id\":\"1077\",\"type\":\"ResetTool\"},{\"attributes\":{\"axis_label\":\"PC 1 (34.8%)\",\"axis_label_text_font_size\":{\"value\":\"13pt\"},\"formatter\":{\"id\":\"1045\",\"type\":\"BasicTickFormatter\"},\"ticker\":{\"id\":\"1014\",\"type\":\"BasicTicker\"}},\"id\":\"1013\",\"type\":\"LinearAxis\"},{\"attributes\":{},\"id\":\"1078\",\"type\":\"HelpTool\"},{\"attributes\":{\"axis_label\":\"PC 2 (5.6%)\",\"axis_label_text_font_size\":{\"value\":\"13pt\"},\"formatter\":{\"id\":\"1043\",\"type\":\"BasicTickFormatter\"},\"ticker\":{\"id\":\"1019\",\"type\":\"BasicTicker\"}},\"id\":\"1018\",\"type\":\"LinearAxis\"},{\"attributes\":{},\"id\":\"1131\",\"type\":\"UnionRenderers\"},{\"attributes\":{\"below\":[{\"id\":\"1063\",\"type\":\"LinearAxis\"}],\"center\":[{\"id\":\"1067\",\"type\":\"Grid\"},{\"id\":\"1072\",\"type\":\"Grid\"},{\"id\":\"1097\",\"type\":\"Legend\"},{\"id\":\"1101\",\"type\":\"Span\"},{\"id\":\"1102\",\"type\":\"Span\"}],\"left\":[{\"id\":\"1068\",\"type\":\"LinearAxis\"}],\"min_border_bottom\":20,\"min_border_left\":20,\"min_border_right\":20,\"min_border_top\":20,\"plot_height\":430,\"plot_width\":490,\"renderers\":[{\"id\":\"1089\",\"type\":\"GlyphRenderer\"}],\"title\":{\"id\":\"1053\",\"type\":\"Title\"},\"toolbar\":{\"id\":\"1079\",\"type\":\"Toolbar\"},\"toolbar_location\":null,\"x_range\":{\"id\":\"1055\",\"type\":\"DataRange1d\"},\"x_scale\":{\"id\":\"1059\",\"type\":\"LinearScale\"},\"y_range\":{\"id\":\"1057\",\"type\":\"DataRange1d\"},\"y_scale\":{\"id\":\"1061\",\"type\":\"LinearScale\"}},\"id\":\"1052\",\"subtype\":\"Figure\",\"type\":\"Plot\"},{\"attributes\":{},\"id\":\"1014\",\"type\":\"BasicTicker\"},{\"attributes\":{},\"id\":\"1132\",\"type\":\"Selection\"},{\"attributes\":{\"active_drag\":\"auto\",\"active_inspect\":\"auto\",\"active_multi\":null,\"active_scroll\":\"auto\",\"active_tap\":\"auto\",\"tools\":[{\"id\":\"1073\",\"type\":\"PanTool\"},{\"id\":\"1074\",\"type\":\"WheelZoomTool\"},{\"id\":\"1075\",\"type\":\"BoxZoomTool\"},{\"id\":\"1076\",\"type\":\"SaveTool\"},{\"id\":\"1077\",\"type\":\"ResetTool\"},{\"id\":\"1078\",\"type\":\"HelpTool\"},{\"id\":\"1099\",\"type\":\"HoverTool\"}]},\"id\":\"1079\",\"type\":\"Toolbar\"},{\"attributes\":{\"fill_alpha\":{\"value\":0.6},\"fill_color\":{\"field\":\"col\"},\"line_alpha\":{\"value\":0.6},\"line_color\":{\"field\":\"col\"},\"size\":{\"units\":\"screen\",\"value\":7},\"x\":{\"field\":\"x\"},\"y\":{\"field\":\"y\"}},\"id\":\"1087\",\"type\":\"Triangle\"},{\"attributes\":{\"active_drag\":\"auto\",\"active_inspect\":\"auto\",\"active_multi\":null,\"active_scroll\":\"auto\",\"active_tap\":\"auto\",\"tools\":[{\"id\":\"1023\",\"type\":\"PanTool\"},{\"id\":\"1024\",\"type\":\"WheelZoomTool\"},{\"id\":\"1025\",\"type\":\"BoxZoomTool\"},{\"id\":\"1026\",\"type\":\"SaveTool\"},{\"id\":\"1027\",\"type\":\"ResetTool\"},{\"id\":\"1028\",\"type\":\"HelpTool\"},{\"id\":\"1049\",\"type\":\"HoverTool\"}]},\"id\":\"1029\",\"type\":\"Toolbar\"},{\"attributes\":{},\"id\":\"1019\",\"type\":\"BasicTicker\"},{\"attributes\":{},\"id\":\"1133\",\"type\":\"UnionRenderers\"},{\"attributes\":{\"source\":{\"id\":\"1051\",\"type\":\"ColumnDataSource\"}},\"id\":\"1090\",\"type\":\"CDSView\"},{\"attributes\":{},\"id\":\"1028\",\"type\":\"HelpTool\"},{\"attributes\":{},\"id\":\"1134\",\"type\":\"Selection\"},{\"attributes\":{},\"id\":\"1093\",\"type\":\"BasicTickFormatter\"},{\"attributes\":{},\"id\":\"1135\",\"type\":\"UnionRenderers\"},{\"attributes\":{},\"id\":\"1043\",\"type\":\"BasicTickFormatter\"},{\"attributes\":{},\"id\":\"1095\",\"type\":\"BasicTickFormatter\"},{\"attributes\":{},\"id\":\"1136\",\"type\":\"Selection\"},{\"attributes\":{\"ticker\":{\"id\":\"1014\",\"type\":\"BasicTicker\"}},\"id\":\"1017\",\"type\":\"Grid\"},{\"attributes\":{\"bottom_units\":\"screen\",\"fill_alpha\":{\"value\":0.5},\"fill_color\":{\"value\":\"lightgrey\"},\"left_units\":\"screen\",\"level\":\"overlay\",\"line_alpha\":{\"value\":1.0},\"line_color\":{\"value\":\"black\"},\"line_dash\":[4,4],\"line_width\":{\"value\":2},\"render_mode\":\"css\",\"right_units\":\"screen\",\"top_units\":\"screen\"},\"id\":\"1096\",\"type\":\"BoxAnnotation\"},{\"attributes\":{},\"id\":\"1137\",\"type\":\"UnionRenderers\"},{\"attributes\":{\"items\":[{\"id\":\"1098\",\"type\":\"LegendItem\"}],\"visible\":false},\"id\":\"1097\",\"type\":\"Legend\"},{\"attributes\":{},\"id\":\"1138\",\"type\":\"Selection\"},{\"attributes\":{},\"id\":\"1045\",\"type\":\"BasicTickFormatter\"},{\"attributes\":{\"label\":{\"field\":\"group\"},\"renderers\":[{\"id\":\"1089\",\"type\":\"GlyphRenderer\"}]},\"id\":\"1098\",\"type\":\"LegendItem\"},{\"attributes\":{\"callback\":null,\"renderers\":[{\"id\":\"1089\",\"type\":\"GlyphRenderer\"}],\"tooltips\":[[\"Name\",\"@Name\"],[\"Label\",\"@Label\"]]},\"id\":\"1099\",\"type\":\"HoverTool\"},{\"attributes\":{\"bottom_units\":\"screen\",\"fill_alpha\":{\"value\":0.5},\"fill_color\":{\"value\":\"lightgrey\"},\"left_units\":\"screen\",\"level\":\"overlay\",\"line_alpha\":{\"value\":1.0},\"line_color\":{\"value\":\"black\"},\"line_dash\":[4,4],\"line_width\":{\"value\":2},\"render_mode\":\"css\",\"right_units\":\"screen\",\"top_units\":\"screen\"},\"id\":\"1046\",\"type\":\"BoxAnnotation\"},{\"attributes\":{},\"id\":\"1146\",\"type\":\"UnionRenderers\"},{\"attributes\":{\"line_alpha\":{\"value\":0.15},\"line_width\":{\"value\":3},\"location\":0},\"id\":\"1101\",\"type\":\"Span\"},{\"attributes\":{},\"id\":\"1147\",\"type\":\"Selection\"},{\"attributes\":{\"dimension\":\"height\",\"line_alpha\":{\"value\":0.15},\"line_width\":{\"value\":3},\"location\":0},\"id\":\"1102\",\"type\":\"Span\"},{\"attributes\":{\"tools\":[{\"id\":\"1023\",\"type\":\"PanTool\"},{\"id\":\"1024\",\"type\":\"WheelZoomTool\"},{\"id\":\"1025\",\"type\":\"BoxZoomTool\"},{\"id\":\"1026\",\"type\":\"SaveTool\"},{\"id\":\"1027\",\"type\":\"ResetTool\"},{\"id\":\"1028\",\"type\":\"HelpTool\"},{\"id\":\"1049\",\"type\":\"HoverTool\"},{\"id\":\"1073\",\"type\":\"PanTool\"},{\"id\":\"1074\",\"type\":\"WheelZoomTool\"},{\"id\":\"1075\",\"type\":\"BoxZoomTool\"},{\"id\":\"1076\",\"type\":\"SaveTool\"},{\"id\":\"1077\",\"type\":\"ResetTool\"},{\"id\":\"1078\",\"type\":\"HelpTool\"},{\"id\":\"1099\",\"type\":\"HoverTool\"}]},\"id\":\"1151\",\"type\":\"ProxyToolbar\"},{\"attributes\":{\"toolbar\":{\"id\":\"1151\",\"type\":\"ProxyToolbar\"},\"toolbar_location\":\"above\"},\"id\":\"1152\",\"type\":\"ToolbarBox\"},{\"attributes\":{\"callback\":null,\"renderers\":[{\"id\":\"1039\",\"type\":\"GlyphRenderer\"}],\"tooltips\":[[\"Idx\",\"@Idx\"],[\"SampleType\",\"@SampleType\"]]},\"id\":\"1049\",\"type\":\"HoverTool\"},{\"attributes\":{\"dimension\":1,\"ticker\":{\"id\":\"1019\",\"type\":\"BasicTicker\"}},\"id\":\"1022\",\"type\":\"Grid\"},{\"attributes\":{},\"id\":\"1129\",\"type\":\"UnionRenderers\"},{\"attributes\":{\"callback\":null,\"data\":{\"x\":{\"__ndarray__\":\"NaVgDSwu+T8eGBqgMSH5P4DMGrlP+vg/4nEVba65+D+XGEpbkF/4P+lF2WhS7Pc/XtoBYWtg9z+9f6x6a7z2P5TZwsP7APY/F7brct0u9T8W4l8g6Ub0P8/upOYNSvM/axAUbFA58j8lJyvWyRXxP+TTeU9Nwe8/uuJVFks27T896dETLI3qP2GrN2WuyOc/rgxyXqzr5D82nDaZGfnhP/7ZQ9T/590/k0DTffi+1z8gTL3Rdn3RP+gNOlzbU8Y/l4caG4orsz+zyA46lZGZv4TOGuO97b+/+t8YZharzL+4GCtI4KDUv5soF7nx1tq/xr4YOax44L/E62/y5HTjv52l30EPXea/GaVgDSwu6b9hilT+U+Xrv/6sxX+6f+6/XhKJUFh98L9QTgTt06nxv5l/zlYaxPK/Pb4+lAjL87+y0nqcj730v0+e2m61mvW/bV6dFJZh9r+xI+eLZBH3v7RBFJtrqfe/b+CIiw4p+L+EHTzLyY/4v+s3WHQz3fi/k/djuvsQ+b8vyoQ87Sr5vzHKhDztKvm/l/djuvsQ+b/xN1h0M934v4odPMvJj/i/d+CIiw4p+L+/QRSba6n3v7wj54tkEfe/fF6dFJZh9r9fntputZr1v8XSepyPvfS/Ub4+lAjL87+wf85WGsTyv2VOBO3TqfG/dxKJUFh98L8urcV/un/uv5iKVP5T5eu/SKVgDSwu6b/Tpd9BD13mv/7rb/LkdOO/Bb8YOax44L8KKRe58dbavy4ZK0jgoNS/9eAYZharzL+V0Brjve2/v9/PDjqVkZm/tIUaG4orsz/eDDpc21PGP5dLvdF2fdE/HUDTffi+1z+G2UPU/+fdP/ebNpkZ+eE/egxyXqzr5D8sqzdlrsjnPwbp0RMsjeo/geJVFks27T+203lPTcHvPw4nK9bJFfE/VRAUbFA58j+67qTmDUrzPwXiXyDpRvQ/Bbbrct0u9T+D2cLD+wD2P65/rHprvPY/U9oBYWtg9z/fRdloUuz3P48YSluQX/g/3XEVba65+D98zBq5T/r4PxwYGqAxIfk/NaVgDSwu+T8=\",\"dtype\":\"float64\",\"shape\":[100]},\"y\":{\"__ndarray__\":\"74zDwd/BA72HExHB3HekP5HEiRJQbbQ/8DBoR6OJvj9qIJXyPUPEP/5EZyLHLMk/9nyX51z8zT8UGmDbhFbRP3vqqvD7nNM/nIe9SDvP1T8B2+xP/+rXPwAaQp8b7tk/oPAHOn3W2z9b4iSxLKLdP8WnDipQT98/asufoxZu4D8tSRt4lSPhP265lXtpx+E/W5pizelY4j8yKSJxgNfiP24yXemqQuM/kyUIvvqZ4z/yw2LuFd3jP0UIv023C+Q/RKTPyq4l5D/5kjSh4SrkP1msEnVKG+Q/1ciZWPn24z8ww3O7E77jPzpsLUTUcOM/GzjBk4oP4z9q94HzmpriPxE5uu19EuI/TuVq0b934T+TJ6khAMvgP5q+MPHwDOA/k2OoVax83j/rRxCPCcDcP6Djs+XD5do/AtNnPcTv2D+GPsUOEODWP3M7vlHHuNQ//cDhTCJ80j+sNZFLbyzQPzfcBnsgmMs/o7UQhPC6xj/ABStDUsbBPzas1uDCfrk/JvMsnDKtrj9JEU5vgHqUP7H9TW+AepS/Y+ksnDKtrr9gp9bgwn65v1MDK0NSxsG/SrMQhPC6xr/g2QZ7IJjLv4w0kUtvLNC/47/hTCJ80r9lOr5Rx7jUv4A9xQ4Q4Na/DdJnPcTv2L+z4rPlw+Xavw1HEI8JwNy/w2KoVax83r86vjDx8AzgvzonqSEAy+C//+Rq0b934b/LOLrtfRLivyz3gfOamuK/5jfBk4oP478QbC1E1HDjvxDDc7sTvuO/v8iZWPn2479NrBJ1Shvkv/eSNKHhKuS/TKTPyq4l5L9XCL9Ntwvkvw7EYu4V3eO/uSUIvvqZ47+cMl3pqkLjv2opInGA1+K/nZpizelY4r+3uZV7acfhv4FJG3iVI+G/x8ufoxZu4L+LqA4qUE/fvy/jJLEsot2/hPEHOn3W27/2GkKfG+7Zv/zb7E//6te/pIi9SDvP1b+P66rw+5zTvzUbYNuEVtG/OX+X51z8zb9WR2cixyzJv9AilfI9Q8S/tDVoR6OJvr9tyYkSUG20v2QdEcHcd6S/YoUAk94aBL0=\",\"dtype\":\"float64\",\"shape\":[100]}},\"selected\":{\"id\":\"1132\",\"type\":\"Selection\"},\"selection_policy\":{\"id\":\"1131\",\"type\":\"UnionRenderers\"}},\"id\":\"1103\",\"type\":\"ColumnDataSource\"},{\"attributes\":{\"line_alpha\":0.8,\"line_color\":\"red\",\"line_width\":2,\"x\":{\"field\":\"x\"},\"y\":{\"field\":\"y\"}},\"id\":\"1104\",\"type\":\"Line\"},{\"attributes\":{\"callback\":null,\"data\":{\"Label\":[\"1_3-Dimethylurate\",\"1_6-Anhydro-\\u03b2-D-glucose\",\"1_7-Dimethylxanthine\",\"1-Methylnicotinamide\",\"2-Aminoadipate\",\"2-Aminobutyrate\",\"2-Furoylglycine\",\"2-Hydroxyisobutyrate\",\"2-Hydroxyphenylacetate\",\"2-Oxoglutarate\",\"3-Aminoisobutyrate\",\"3-Hydroxy-3-methylglutarate\",\"3-Hydroxybutyrate\",\"3-Hydroxyisobutyrate\",\"3-Hydroxyisovalerate\",\"3-Hydroxymandelate\",\"3-Hydroxyphenylacetate\",\"3-Indoxylsulfate\",\"4-Aminohippurate\",\"4-Hydroxy-3-methoxymandelate\",\"4-Hydroxyphenylacetate\",\"4-Hydroxyphenyllactate\",\"5-Aminolevulinate\",\"5-Hydroxytryptophan\",\"6-Hydroxynicotinate\",\"ATP\",\"Acetaminophen\",\"Acetate\",\"Acetoacetate\",\"Acetone\",\"Adipate\",\"Alanine\",\"Anserine\",\"Arginine\",\"Ascorbate\",\"Asparagine\",\"Azelate\",\"Betaine\",\"Butanone\",\"Caffeine\",\"Carnitine\",\"Carnosine\",\"Chlorogenate\",\"Choline\",\"Citrate\",\"Creatine\",\"Creatine phosphate\",\"Creatinine\",\"Dimethylamine\",\"Ethanol\",\"Ethanolamine\",\"Formate\",\"Fructose\",\"Fumarate\",\"Gabapentin\",\"Galactarate\",\"Galactose\",\"Glucitol\",\"Gluconate\",\"Glucose\",\"Glucose-6-phosphate\",\"Glutamine\",\"Glycine\",\"Glycolate\",\"Glycylproline\",\"Hippurate\",\"Histamine\",\"Histidine\",\"Homovanillate\",\"Hypoxanthine\",\"Ibuprofen\",\"Indole-3-acetate\",\"Indole-3-lactate\",\"Isoleucine\",\"Lactate\",\"Lactose\",\"Lactulose\",\"Leucine\",\"Lysine\",\"Malonate\",\"Maltose\",\"Mandelate\",\"Mannitol\",\"Methanol\",\"Methionine\",\"Methylguanidine\",\"N_N-Dimethylglycine\",\"N-Acetylglutamine\",\"N-AcetylglutamineDerivative\",\"N-Acetylornithine\",\"N-Acetylserotonin\",\"N-Acetyltyrosine\",\"N-Methylhydantoin\",\"N-Phenylacetylglycine\",\"N-Phenylacetylphenylalanine\",\"Nicotinate\",\"Nicotinic acid adenine dinucleotide\",\"O-Acetylcarnitine\",\"O-Phosphocholine\",\"Oxypurinol\",\"Pantothenate\",\"Phenylacetate\",\"Phenylalanine\",\"Proline\",\"Propylene glycol\",\"Pyridoxine\",\"Pyroglutamate\",\"Pyruvate\",\"Sarcosine\",\"Serotonin\",\"Succinate\",\"Sucrose\",\"Taurine\",\"Threonine\",\"Trigonelline\",\"Trimethylamine\",\"Trimethylamine N-oxide\",\"Tropate\",\"Tryptophan\",\"Tyrosine\",\"Urocanate\",\"Valine\",\"Xanthine\",\"Xylose\",\"cis-Aconitate\",\"trans-Aconitate\",\"u072\",\"u075\",\"u11\",\"u1125\",\"u122\",\"u122triplet\",\"u14\",\"u144\",\"u14doublet\",\"u185\",\"u217\",\"u233\",\"u361\",\"u362\",\"u380large\",\"u43\",\"u433\",\"u87\",\"uarm1\",\"uarm2\",\"\\u03b2-Alanine\",\"\\u03c0-Methylhistidine\",\"\\u03c4-Methylhistidine\"],\"Name\":[\"M1\",\"M2\",\"M3\",\"M4\",\"M5\",\"M6\",\"M7\",\"M8\",\"M9\",\"M10\",\"M11\",\"M12\",\"M13\",\"M14\",\"M15\",\"M16\",\"M17\",\"M18\",\"M19\",\"M20\",\"M21\",\"M22\",\"M23\",\"M24\",\"M25\",\"M26\",\"M27\",\"M28\",\"M29\",\"M30\",\"M31\",\"M32\",\"M33\",\"M34\",\"M35\",\"M36\",\"M37\",\"M38\",\"M39\",\"M40\",\"M41\",\"M42\",\"M43\",\"M44\",\"M45\",\"M46\",\"M47\",\"M48\",\"M49\",\"M50\",\"M51\",\"M52\",\"M53\",\"M54\",\"M55\",\"M56\",\"M57\",\"M58\",\"M59\",\"M60\",\"M61\",\"M62\",\"M63\",\"M64\",\"M65\",\"M66\",\"M67\",\"M68\",\"M69\",\"M70\",\"M71\",\"M72\",\"M73\",\"M74\",\"M75\",\"M76\",\"M77\",\"M78\",\"M79\",\"M80\",\"M81\",\"M82\",\"M83\",\"M84\",\"M85\",\"M86\",\"M87\",\"M88\",\"M89\",\"M90\",\"M91\",\"M92\",\"M93\",\"M94\",\"M95\",\"M96\",\"M97\",\"M98\",\"M99\",\"M100\",\"M101\",\"M102\",\"M103\",\"M104\",\"M105\",\"M106\",\"M107\",\"M108\",\"M109\",\"M110\",\"M111\",\"M112\",\"M113\",\"M114\",\"M115\",\"M116\",\"M117\",\"M118\",\"M119\",\"M120\",\"M121\",\"M122\",\"M123\",\"M124\",\"M125\",\"M126\",\"M127\",\"M128\",\"M129\",\"M130\",\"M131\",\"M132\",\"M133\",\"M134\",\"M135\",\"M136\",\"M137\",\"M138\",\"M139\",\"M140\",\"M141\",\"M142\",\"M143\",\"M144\",\"M145\",\"M146\",\"M147\",\"M148\",\"M149\"],\"col\":[\"green\",\"green\",\"green\",\"green\",\"green\",\"green\",\"green\",\"green\",\"green\",\"green\",\"green\",\"green\",\"green\",\"green\",\"green\",\"green\",\"green\",\"green\",\"green\",\"green\",\"green\",\"green\",\"green\",\"green\",\"green\",\"green\",\"green\",\"green\",\"green\",\"green\",\"green\",\"green\",\"green\",\"green\",\"green\",\"green\",\"green\",\"green\",\"green\",\"green\",\"green\",\"green\",\"green\",\"green\",\"green\",\"green\",\"green\",\"green\",\"green\",\"green\",\"green\",\"green\",\"green\",\"green\",\"green\",\"green\",\"green\",\"green\",\"green\",\"green\",\"green\",\"green\",\"green\",\"green\",\"green\",\"green\",\"green\",\"green\",\"green\",\"green\",\"green\",\"green\",\"green\",\"green\",\"green\",\"green\",\"green\",\"green\",\"green\",\"green\",\"green\",\"green\",\"green\",\"green\",\"green\",\"green\",\"green\",\"green\",\"green\",\"green\",\"green\",\"green\",\"green\",\"green\",\"green\",\"green\",\"green\",\"green\",\"green\",\"green\",\"green\",\"green\",\"green\",\"green\",\"green\",\"green\",\"green\",\"green\",\"green\",\"green\",\"green\",\"green\",\"green\",\"green\",\"green\",\"green\",\"green\",\"green\",\"green\",\"green\",\"green\",\"green\",\"green\",\"green\",\"green\",\"green\",\"green\",\"green\",\"green\",\"green\",\"green\",\"green\",\"green\",\"green\",\"green\",\"green\",\"green\",\"green\",\"green\",\"green\",\"green\",\"green\",\"green\",\"green\",\"green\",\"green\",\"green\",\"green\",\"green\"],\"group\":[null,null,null,null,null,null,null,null,null,null,null,null,null,null,null,null,null,null,null,null,null,null,null,null,null,null,null,null,null,null,null,null,null,null,null,null,null,null,null,null,null,null,null,null,null,null,null,null,null,null,null,null,null,null,null,null,null,null,null,null,null,null,null,null,null,null,null,null,null,null,null,null,null,null,null,null,null,null,null,null,null,null,null,null,null,null,null,null,null,null,null,null,null,null,null,null,null,null,null,null,null,null,null,null,null,null,null,null,null,null,null,null,null,null,null,null,null,null,null,null,null,null,null,null,null,null,null,null,null,null,null,null,null,null,null,null,null,null,null,null,null,null,null,null,null,null,null,null,null],\"x\":{\"__ndarray__\":\"oFPT729Usb9YVmyoJv+3vximS/7WQLG/p3T86Tqnrb+Ivb5f2d25v76OkHpzWLm//hY9ZWz7sL/AKiozpEK8v184ho5V4LK/olG80x82rL/xGXYsduuqv8VmH/r8qby/+oeZ7oLSpL+D7yc6gi+yvxdIbvXeSbq/+3r+/XWstL9WdC1NFk+zv5SF9Zul1be/1dLuch4Wt78u2Fdso1K1v4GYOzUburC/OnmuANYItr+rSsZMxD69v6pH7ikx1bK/EOpJ2exmuL/7T8pwuSq6v6gjq3WMHba/QImvaqDDqr88RjfwEAWpv8/wS85CNai/gMvXAEW6s79OlHqYghi2v5g2vR87xrq/vqzKLajrtb9b/GCauW+sv0MDk3bepqy/n8qgIjeJub/wqfejvmS1v1EphDHJKrm/gTYGlFJKsb/MjEqjlO6mv1o5UlAobLm/EjlGv2GCtb+rzqd+e7G3v/bs1iQfrqu/jl6wYkcNqr8EyHlBryumv15pwtvitL+/flOdOePTtr+RjdRVxdOtv3nFwP5Jd7O/H8uZtPZrs79ZNIu2qLa+v6qmqLvVrK+/vrOluWjGs78eAq168MO5v+0b7NsuDbW/9jLaKStKur99okzSGrW4v416WHd3y7K/AE8M/xGuuL/SHM/T/nS4v1ikZGhPurS/EfAu4Vk4or99SuInD2XAvxn5opBlNLG/tVqPM8oHvL/2bgc/mhyyv9IZwolpNbi/w6XDKqa1tr+mCED9vRe+v5YobWLhdq+/faOZgU+Jvb9suFL+Y5+7v7/TvjlfPre/lgdlERb5tL8zGzeTB4ayv1PP2osce7a/DLOjv8SFrL9oXLqVnEqqv3+tS2+55be/sa2rT09urb8CRpNbm6Kwv5H8MVTyy5y/QB3YRds8r798dZKiq0y6v6EQOT07Pri/4VcNElqet7+GCoyToWu6v7/M796Kybu/yiwnmw8Tub/uLX4j4/6xv/KNJFR5s7e/f0RbpmjPtb+F2jcaDCq0v3BgzwI0CZe/3dcrpqQPsr9HkgusW5awvzWtAboqXrS/8BGIw6j3rL+Pqbbkoi61v8/GnKT0A6y/f0hRfzPYtr/gk+1DV3C8v9MDHECZZpq/Hr9MRvNjur9kXXhnCya3v5V+E9jggLu/xmtNoeU/tL/lojwY90afv3jrNyuu1bC/N0WY1dO8vL9DUMQKe9GWv5SCFSFF6rq/Jh1Nl5AZrL8GKNhiS4K1v4Y9JT1+a7G/LJgRwRUQs7+cHQ6a6Ji7v/33DUwr0rS/sUIrcpmGsb8sF144/SG7vw/rViqvBbO/15f+IzP+t7+cn5ixt7m2v+sA6R1xpLa/O0kyWZlps7+99dklVgumv4WDGFECUbi/aq7Ue498pr+jP/d42Uu4vwu3CuADNLq/K795aeqZur/75IxXpNe0vx1UZc4iNrO/ZEmJi5jGrb+8+ltLg3yyv3kZY2/J962/CvQP3xl2p79VOZa7jOmwv7XaKM9l27O/K+GF+My7sb8PxhbL9XmivyM46vrMKaC/HkP9+Cfzp78TGM73Tt+vv+DDtkvwbra/1fzbdSPTs7/x1fgj56++vw==\",\"dtype\":\"float64\",\"shape\":[149]},\"y\":{\"__ndarray__\":\"dGZdH1rLpr8APfkQziWAv+CynuwoWoa/xO8s9uQ+wD+AFbTAsbd2v1BDFPMMOLs/YE5yjQ1EuL+Hs1dr36uvP6NkWlQd9sS/aQh8C/GJsD/Fc2zycDqlPxb2cuNNPKE/C7J7bsVBxT94hotZWtGwP6vXMtbQbLE/soVXzr6zwb9ewvW4+xmiv3GMA3YQdMK/8jgo7Dythr9cmN+T8CK7v11Yh/5C3ay/bI6IQGKltr87rkTNrWysP3wgfz+bSMa/lSN9N1anhL+P0FhNYL2Lvy0Zz8TzfLu/BBnKSMrTtL8/vlaksBOwP9yVbpst0rA/keYVr/9YmT+d3ZA8h1JWv4KxXGV6RqI/YJzb8xQLsD+xEJW6EiaiP8OZXkf3yq4/mrKM/Gnpsz/S/AOXP/mkvzqyCkL0tLs/qJTY/Dk9oT8uq2hsLDg5PziyTHUgiWo/pSydyVdcrj/hEacMlmOwPyD2nlmvvMY/YZ/vAvHMpz9LHMcTCH60P7V9vLZS77w/NRrgBKQduD/vd54HqwxpPzKHCihkCLs/IXPrY0xbdj8XTfJzZtmMv0dY6YFyLrM/Y4gXDbdRpD975GY+6MaoP8v3QpS+9JU/zg/bvuhMsb9LvmA8/jeGP3aQa3Kht5W/oSxri6vLl7+gFxAB/Y+bP5YtZ1bZv5k/NKDvvlTAe79NN4oC6sqYvy6wsmgS72q/X3dYRS2ZsL+k+OxsofyQv0iPG7sKzLm/dYQBUQ4pwz+VBulL/SqyP/lyxplADca/2gUF/98Wqb/FBq70siq7PyikjYq957E/lKPQzDcDur/U88k2GQ+APwHo+CmZzLE/St2s0Rv8oj+uMza64ACBP5OF3KSDuK2/PpHZ4yvcw78sYzv/mKKSv+lSNekO8qU/Xel7gVB1rz8QmFFNbfe1P1sqhrr68q8/imrAXv05pj+KIWc2AWvAv2L6CNqdXqk/FDEMuPAMmb/bhTM2HNuXv14qkvDnr7g//MuImyAmw7+n+bbs+zmGP3PshYKqzIc/7WxY0fFbkb+lyRC2TuyoP9szAgg0PG2/h2iVUYmuhr8L3jMnJmetP3o6O6a1M7W/M2FMBwdgxL8Ng9nOMX+mv5oH8n06pac/YhuXLB1mrT8dUgOS+K+1P1gX2kgIpYi/N2qiOwietr/zemJEc2e8v/No9E4ShHw/s4qjwz6Qnr/bOoC6v/NXP5Jk2BZwT4E/YQbuLdaBr79EScRBtuibPyNH3K7pfaa/z/y4Bug4yb/9mjBWGiqOv2ebeH+r/7i/XlQA8oyYoD/shdmPkh63Pz63FH3UA64/UF+I1gdrmL9x+MEPULS6P7chf5WFbZA/Pc0ie1TVuz+ESaZzjDW2PzG74tjRhaw/amy6DV+As79QzcrYkzu5P/8sXdYFhKg/zMf8BdtasD81Rmk+Ez23v03VJ3pMP7O/czTKeLv/xL9ErmVp6USyv1FTrDqLacW/it3vzVNIyr+MbkdF3+q9v50jbueOZ6W/kmh3cZYjsb9hXSNhCq5SP9zORY1k/Ka/XkwmJAlWwr/zFWZEyzTIv49ghSpM0MI/AC+PcQegvb+vG1wDj76iPw==\",\"dtype\":\"float64\",\"shape\":[149]}},\"selected\":{\"id\":\"1147\",\"type\":\"Selection\"},\"selection_policy\":{\"id\":\"1146\",\"type\":\"UnionRenderers\"}},\"id\":\"1051\",\"type\":\"ColumnDataSource\"},{\"attributes\":{\"line_alpha\":0.1,\"line_color\":\"#1f77b4\",\"line_width\":2,\"x\":{\"field\":\"x\"},\"y\":{\"field\":\"y\"}},\"id\":\"1105\",\"type\":\"Line\"},{\"attributes\":{\"data_source\":{\"id\":\"1103\",\"type\":\"ColumnDataSource\"},\"glyph\":{\"id\":\"1104\",\"type\":\"Line\"},\"hover_glyph\":null,\"muted_glyph\":null,\"nonselection_glyph\":{\"id\":\"1105\",\"type\":\"Line\"},\"selection_glyph\":null,\"view\":{\"id\":\"1107\",\"type\":\"CDSView\"}},\"id\":\"1106\",\"type\":\"GlyphRenderer\"},{\"attributes\":{\"source\":{\"id\":\"1103\",\"type\":\"ColumnDataSource\"}},\"id\":\"1107\",\"type\":\"CDSView\"},{\"attributes\":{\"fill_alpha\":0.1,\"fill_color\":\"#1f77b4\",\"line_alpha\":0.1,\"line_color\":\"#1f77b4\",\"x\":{\"field\":\"x\"},\"y\":{\"field\":\"y\"}},\"id\":\"1120\",\"type\":\"Patch\"},{\"attributes\":{\"data_source\":{\"id\":\"1001\",\"type\":\"ColumnDataSource\"},\"glyph\":{\"id\":\"1037\",\"type\":\"Circle\"},\"hover_glyph\":null,\"muted_glyph\":null,\"nonselection_glyph\":{\"id\":\"1038\",\"type\":\"Circle\"},\"selection_glyph\":null,\"view\":{\"id\":\"1040\",\"type\":\"CDSView\"}},\"id\":\"1039\",\"type\":\"GlyphRenderer\"},{\"attributes\":{\"callback\":null,\"data\":{\"x\":{\"__ndarray__\":\"Bv+6Gzh0MUAC7MkjOWsxQEnZ6YFFUDFAcRtl/ngjMUCUtDnHAeUwQL32fkAglTBAglsFwiY0MEAn+emE8oQvQEVZhOAZgS5A/tHEcc9dLUBDUHx9PxwsQDOp23y1vSpADfnCx5pDKUDzo0Ygda8nQFfu6SDlAiZAz1Qtj6Q/JEA1USuUhGciQJ/5GN1rfCBA138xS6kAHUDk6shbleoYQO/80D3SuhRAA3z5vLB1EEC5ieBXLz8IQMJhTmv98/4/ZMTn3GeT6j9mv7drILnRv4EzVuayIfa/xNxFrybfA8ADV1X595gMwI0XPVOnmhLAVqiFN6XVFsAFU3NKGfkawDoqgHC/AB/A9P66Gzh0IcC/wlOPElYjwOoIml7+IyXAjWIHYR/cJsA33dTkr3wowI6XqIICBCrAqT852INwK8CMMh8ovMAswCCbJt1Q8y3AGE6T7wUHL8BPHOYqv/ovwLrlaanAZjDActsfkzm/MMAhkZcfbwYxwM8xZ+cXPDHASQpjmvxfMcBXJaI4+HExwFclojj4cTHASwpjmvxfMcDTMWfnFzwxwCWRlx9vBjHAeNsfkzm/MMDC5WmpwGYwwGAc5iq/+i/ALk6T7wUHL8A1mybdUPMtwKYyHyi8wCzAxD852INwK8Cul6iCAgQqwFbd1OSvfCjAsWIHYR/cJsAKCZpe/iMlwObCU48SViPAFv+6Gzh0IcCEKoBwvwAfwFVTc0oZ+RrAraiFN6XVFsDaFz1Tp5oSwKhXVfn3mAzAc91FrybfA8DxNFbmsiH2v17Et2sgudG/xsHn3GeT6j9UYE5r/fP+P/uI4FcvPwhAsXv5vLB1EECb/NA90roUQI3qyFuV6hhAj38xS6kAHUB8+Rjda3wgQA5RK5SEZyJAqFQtj6Q/JEA47ukg5QImQNSjRiB1rydA7/jCx5pDKUAVqdt8tb0qQCtQfH0/HCxA5tHEcc9dLUAuWYTgGYEuQBT56YTyhC9Ae1sFwiY0MEC39n5AIJUwQI60OccB5TBAbhtl/ngjMUBH2emBRVAxQADsySM5azFABv+6Gzh0MUA=\",\"dtype\":\"float64\",\"shape\":[100]},\"y\":{\"__ndarray__\":\"L9iPJ4FiO72FsKtMHGDcP6dWXUx8Uew/v+2Wwtwq9T9t+Y99KRf8P4ACKbVAcwFAoYeuuu/IBEA/9XfQMQkIQC52og2tMAtADQ2jEyE8DkBzZiY0NZQQQOVdB9lC+RFATs2JaclLE0AW+Afwa4oUQGET2PfhsxVAjJDg3/jGFkCjn6wWlcIXQFwXuz6zpRhAPXHaOWlvGUBnQH4a5x4aQEhdFfp3sxpAAdWDs4IsG0D/YgCBiokbQOO5snwvyhtAcgaOAy/uG0AmxgH6Y/UbQIAiOvLG3xtA7WLIM26tG0BpkKukjV4bQGv30JN28xpAsa1DZZdsGkDLgWEge8oZQEahiuDIDRlAkrDfKEM3GEDd5b8bx0cXQKHW1ZZLQBZA+/GdNOAhFUDV+Gw0rO0TQP0OF0rtpBJA/R5xVvZIEUCfT/wTXLYPQBYWYeYaugxA7f948zygCUAPpxiR9GsGQIEK8k+PIANAmx/oJ+WC/z/YlTUoMKT4P0+1mIoUrPE/VwjPz4JD5T8PBM8BxWPMP+LozgHFY8y/kwHPz4JD5b/0sZiKFKzxv3uSNSgwpPi/WhzoJ+WC/7/hCPJPjyADwIGlGJH0awbAY/548zygCcCgFGHmGroMwDNO/BNctg/AUh5xVvZIEcBYDhdK7aQSwDv4bDSs7RPAafGdNOAhFcAe1tWWS0AWwGLlvxvHRxfAJrDfKEM3GMDloIrgyA0ZwHeBYSB7yhnAaK1DZZdsGsAy99CTdvMawD2Qq6SNXhvAzWLIM26tG8BtIjryxt8bwCLGAfpj9RvAfAaOAy/uG8D7ubJ8L8obwCZjAIGKiRvANdWDs4IsG8CKXRX6d7MawLVAfhrnHhrAmHHaOWlvGcDDF7s+s6UYwBegrBaVwhfADpHg3/jGFsDqE9j34bMVwKj4B/BrihTA7M2JaclLE8CQXgfZQvkRwCFnJjQ1lBDAew6jEyE8DsCtd6INrTALwND2d9AxCQjAMYmuuu/IBMAgBCm1QHMBwMH8j30pF/y/DPGWwtwq9b9jXV1MfFHsvzC+q0wcYNy/BBvrXOHdO70=\",\"dtype\":\"float64\",\"shape\":[100]}},\"selected\":{\"id\":\"1134\",\"type\":\"Selection\"},\"selection_policy\":{\"id\":\"1133\",\"type\":\"UnionRenderers\"}},\"id\":\"1108\",\"type\":\"ColumnDataSource\"},{\"attributes\":{\"text\":\"PCA Loadings Plot (PC1 vs. PC2)\",\"text_font_size\":{\"value\":\"15pt\"}},\"id\":\"1053\",\"type\":\"Title\"},{\"attributes\":{\"callback\":null},\"id\":\"1055\",\"type\":\"DataRange1d\"},{\"attributes\":{\"line_alpha\":0.4,\"line_color\":\"red\",\"x\":{\"field\":\"x\"},\"y\":{\"field\":\"y\"}},\"id\":\"1109\",\"type\":\"Line\"},{\"attributes\":{\"callback\":null},\"id\":\"1057\",\"type\":\"DataRange1d\"},{\"attributes\":{\"line_alpha\":0.1,\"line_color\":\"#1f77b4\",\"x\":{\"field\":\"x\"},\"y\":{\"field\":\"y\"}},\"id\":\"1110\",\"type\":\"Line\"},{\"attributes\":{\"data_source\":{\"id\":\"1108\",\"type\":\"ColumnDataSource\"},\"glyph\":{\"id\":\"1109\",\"type\":\"Line\"},\"hover_glyph\":null,\"muted_glyph\":null,\"nonselection_glyph\":{\"id\":\"1110\",\"type\":\"Line\"},\"selection_glyph\":null,\"view\":{\"id\":\"1112\",\"type\":\"CDSView\"}},\"id\":\"1111\",\"type\":\"GlyphRenderer\"},{\"attributes\":{},\"id\":\"1059\",\"type\":\"LinearScale\"},{\"attributes\":{\"children\":[[{\"id\":\"1002\",\"subtype\":\"Figure\",\"type\":\"Plot\"},0,0],[{\"id\":\"1052\",\"subtype\":\"Figure\",\"type\":\"Plot\"},0,1]]},\"id\":\"1150\",\"type\":\"GridBox\"},{\"attributes\":{},\"id\":\"1061\",\"type\":\"LinearScale\"},{\"attributes\":{\"source\":{\"id\":\"1108\",\"type\":\"ColumnDataSource\"}},\"id\":\"1112\",\"type\":\"CDSView\"},{\"attributes\":{\"axis_label\":\"PC 1 (34.8%)\",\"axis_label_text_font_size\":{\"value\":\"13pt\"},\"formatter\":{\"id\":\"1095\",\"type\":\"BasicTickFormatter\"},\"ticker\":{\"id\":\"1064\",\"type\":\"BasicTicker\"}},\"id\":\"1063\",\"type\":\"LinearAxis\"},{\"attributes\":{\"callback\":null,\"data\":{\"x\":{\"__ndarray__\":\"NaVgDSwu+T8eGBqgMSH5P4DMGrlP+vg/4nEVba65+D+XGEpbkF/4P+lF2WhS7Pc/XtoBYWtg9z+9f6x6a7z2P5TZwsP7APY/F7brct0u9T8W4l8g6Ub0P8/upOYNSvM/axAUbFA58j8lJyvWyRXxP+TTeU9Nwe8/uuJVFks27T896dETLI3qP2GrN2WuyOc/rgxyXqzr5D82nDaZGfnhP/7ZQ9T/590/k0DTffi+1z8gTL3Rdn3RP+gNOlzbU8Y/l4caG4orsz+zyA46lZGZv4TOGuO97b+/+t8YZharzL+4GCtI4KDUv5soF7nx1tq/xr4YOax44L/E62/y5HTjv52l30EPXea/GaVgDSwu6b9hilT+U+Xrv/6sxX+6f+6/XhKJUFh98L9QTgTt06nxv5l/zlYaxPK/Pb4+lAjL87+y0nqcj730v0+e2m61mvW/bV6dFJZh9r+xI+eLZBH3v7RBFJtrqfe/b+CIiw4p+L+EHTzLyY/4v+s3WHQz3fi/k/djuvsQ+b8vyoQ87Sr5vzHKhDztKvm/l/djuvsQ+b/xN1h0M934v4odPMvJj/i/d+CIiw4p+L+/QRSba6n3v7wj54tkEfe/fF6dFJZh9r9fntputZr1v8XSepyPvfS/Ub4+lAjL87+wf85WGsTyv2VOBO3TqfG/dxKJUFh98L8urcV/un/uv5iKVP5T5eu/SKVgDSwu6b/Tpd9BD13mv/7rb/LkdOO/Bb8YOax44L8KKRe58dbavy4ZK0jgoNS/9eAYZharzL+V0Brjve2/v9/PDjqVkZm/tIUaG4orsz/eDDpc21PGP5dLvdF2fdE/HUDTffi+1z+G2UPU/+fdP/ebNpkZ+eE/egxyXqzr5D8sqzdlrsjnPwbp0RMsjeo/geJVFks27T+203lPTcHvPw4nK9bJFfE/VRAUbFA58j+67qTmDUrzPwXiXyDpRvQ/Bbbrct0u9T+D2cLD+wD2P65/rHprvPY/U9oBYWtg9z/fRdloUuz3P48YSluQX/g/3XEVba65+D98zBq5T/r4PxwYGqAxIfk/NaVgDSwu+T8=\",\"dtype\":\"float64\",\"shape\":[100]},\"y\":{\"__ndarray__\":\"74zDwd/BA72HExHB3HekP5HEiRJQbbQ/8DBoR6OJvj9qIJXyPUPEP/5EZyLHLMk/9nyX51z8zT8UGmDbhFbRP3vqqvD7nNM/nIe9SDvP1T8B2+xP/+rXPwAaQp8b7tk/oPAHOn3W2z9b4iSxLKLdP8WnDipQT98/asufoxZu4D8tSRt4lSPhP265lXtpx+E/W5pizelY4j8yKSJxgNfiP24yXemqQuM/kyUIvvqZ4z/yw2LuFd3jP0UIv023C+Q/RKTPyq4l5D/5kjSh4SrkP1msEnVKG+Q/1ciZWPn24z8ww3O7E77jPzpsLUTUcOM/GzjBk4oP4z9q94HzmpriPxE5uu19EuI/TuVq0b934T+TJ6khAMvgP5q+MPHwDOA/k2OoVax83j/rRxCPCcDcP6Djs+XD5do/AtNnPcTv2D+GPsUOEODWP3M7vlHHuNQ//cDhTCJ80j+sNZFLbyzQPzfcBnsgmMs/o7UQhPC6xj/ABStDUsbBPzas1uDCfrk/JvMsnDKtrj9JEU5vgHqUP7H9TW+AepS/Y+ksnDKtrr9gp9bgwn65v1MDK0NSxsG/SrMQhPC6xr/g2QZ7IJjLv4w0kUtvLNC/47/hTCJ80r9lOr5Rx7jUv4A9xQ4Q4Na/DdJnPcTv2L+z4rPlw+Xavw1HEI8JwNy/w2KoVax83r86vjDx8AzgvzonqSEAy+C//+Rq0b934b/LOLrtfRLivyz3gfOamuK/5jfBk4oP478QbC1E1HDjvxDDc7sTvuO/v8iZWPn2479NrBJ1Shvkv/eSNKHhKuS/TKTPyq4l5L9XCL9Ntwvkvw7EYu4V3eO/uSUIvvqZ47+cMl3pqkLjv2opInGA1+K/nZpizelY4r+3uZV7acfhv4FJG3iVI+G/x8ufoxZu4L+LqA4qUE/fvy/jJLEsot2/hPEHOn3W27/2GkKfG+7Zv/zb7E//6te/pIi9SDvP1b+P66rw+5zTvzUbYNuEVtG/OX+X51z8zb9WR2cixyzJv9AilfI9Q8S/tDVoR6OJvr9tyYkSUG20v2QdEcHcd6S/YoUAk94aBL0=\",\"dtype\":\"float64\",\"shape\":[100]}},\"selected\":{\"id\":\"1136\",\"type\":\"Selection\"},\"selection_policy\":{\"id\":\"1135\",\"type\":\"UnionRenderers\"}},\"id\":\"1113\",\"type\":\"ColumnDataSource\"},{\"attributes\":{\"ticker\":{\"id\":\"1064\",\"type\":\"BasicTicker\"}},\"id\":\"1067\",\"type\":\"Grid\"},{\"attributes\":{\"fill_alpha\":0.07,\"fill_color\":\"red\",\"line_alpha\":0.07,\"line_color\":\"red\",\"x\":{\"field\":\"x\"},\"y\":{\"field\":\"y\"}},\"id\":\"1114\",\"type\":\"Patch\"},{\"attributes\":{},\"id\":\"1064\",\"type\":\"BasicTicker\"},{\"attributes\":{\"fill_alpha\":0.1,\"fill_color\":\"#1f77b4\",\"line_alpha\":0.1,\"line_color\":\"#1f77b4\",\"x\":{\"field\":\"x\"},\"y\":{\"field\":\"y\"}},\"id\":\"1115\",\"type\":\"Patch\"},{\"attributes\":{\"axis_label\":\"PC 2 (5.6%)\",\"axis_label_text_font_size\":{\"value\":\"13pt\"},\"formatter\":{\"id\":\"1093\",\"type\":\"BasicTickFormatter\"},\"ticker\":{\"id\":\"1069\",\"type\":\"BasicTicker\"}},\"id\":\"1068\",\"type\":\"LinearAxis\"},{\"attributes\":{\"data_source\":{\"id\":\"1113\",\"type\":\"ColumnDataSource\"},\"glyph\":{\"id\":\"1114\",\"type\":\"Patch\"},\"hover_glyph\":null,\"muted_glyph\":null,\"nonselection_glyph\":{\"id\":\"1115\",\"type\":\"Patch\"},\"selection_glyph\":null,\"view\":{\"id\":\"1117\",\"type\":\"CDSView\"}},\"id\":\"1116\",\"type\":\"GlyphRenderer\"},{\"attributes\":{},\"id\":\"1069\",\"type\":\"BasicTicker\"},{\"attributes\":{\"callback\":null},\"id\":\"1007\",\"type\":\"DataRange1d\"},{\"attributes\":{\"source\":{\"id\":\"1113\",\"type\":\"ColumnDataSource\"}},\"id\":\"1117\",\"type\":\"CDSView\"},{\"attributes\":{\"dimension\":1,\"ticker\":{\"id\":\"1069\",\"type\":\"BasicTicker\"}},\"id\":\"1072\",\"type\":\"Grid\"},{\"attributes\":{\"callback\":null,\"data\":{\"x\":{\"__ndarray__\":\"Bv+6Gzh0MUAC7MkjOWsxQEnZ6YFFUDFAcRtl/ngjMUCUtDnHAeUwQL32fkAglTBAglsFwiY0MEAn+emE8oQvQEVZhOAZgS5A/tHEcc9dLUBDUHx9PxwsQDOp23y1vSpADfnCx5pDKUDzo0Ygda8nQFfu6SDlAiZAz1Qtj6Q/JEA1USuUhGciQJ/5GN1rfCBA138xS6kAHUDk6shbleoYQO/80D3SuhRAA3z5vLB1EEC5ieBXLz8IQMJhTmv98/4/ZMTn3GeT6j9mv7drILnRv4EzVuayIfa/xNxFrybfA8ADV1X595gMwI0XPVOnmhLAVqiFN6XVFsAFU3NKGfkawDoqgHC/AB/A9P66Gzh0IcC/wlOPElYjwOoIml7+IyXAjWIHYR/cJsA33dTkr3wowI6XqIICBCrAqT852INwK8CMMh8ovMAswCCbJt1Q8y3AGE6T7wUHL8BPHOYqv/ovwLrlaanAZjDActsfkzm/MMAhkZcfbwYxwM8xZ+cXPDHASQpjmvxfMcBXJaI4+HExwFclojj4cTHASwpjmvxfMcDTMWfnFzwxwCWRlx9vBjHAeNsfkzm/MMDC5WmpwGYwwGAc5iq/+i/ALk6T7wUHL8A1mybdUPMtwKYyHyi8wCzAxD852INwK8Cul6iCAgQqwFbd1OSvfCjAsWIHYR/cJsAKCZpe/iMlwObCU48SViPAFv+6Gzh0IcCEKoBwvwAfwFVTc0oZ+RrAraiFN6XVFsDaFz1Tp5oSwKhXVfn3mAzAc91FrybfA8DxNFbmsiH2v17Et2sgudG/xsHn3GeT6j9UYE5r/fP+P/uI4FcvPwhAsXv5vLB1EECb/NA90roUQI3qyFuV6hhAj38xS6kAHUB8+Rjda3wgQA5RK5SEZyJAqFQtj6Q/JEA47ukg5QImQNSjRiB1rydA7/jCx5pDKUAVqdt8tb0qQCtQfH0/HCxA5tHEcc9dLUAuWYTgGYEuQBT56YTyhC9Ae1sFwiY0MEC39n5AIJUwQI60OccB5TBAbhtl/ngjMUBH2emBRVAxQADsySM5azFABv+6Gzh0MUA=\",\"dtype\":\"float64\",\"shape\":[100]},\"y\":{\"__ndarray__\":\"L9iPJ4FiO72FsKtMHGDcP6dWXUx8Uew/v+2Wwtwq9T9t+Y99KRf8P4ACKbVAcwFAoYeuuu/IBEA/9XfQMQkIQC52og2tMAtADQ2jEyE8DkBzZiY0NZQQQOVdB9lC+RFATs2JaclLE0AW+Afwa4oUQGET2PfhsxVAjJDg3/jGFkCjn6wWlcIXQFwXuz6zpRhAPXHaOWlvGUBnQH4a5x4aQEhdFfp3sxpAAdWDs4IsG0D/YgCBiokbQOO5snwvyhtAcgaOAy/uG0AmxgH6Y/UbQIAiOvLG3xtA7WLIM26tG0BpkKukjV4bQGv30JN28xpAsa1DZZdsGkDLgWEge8oZQEahiuDIDRlAkrDfKEM3GEDd5b8bx0cXQKHW1ZZLQBZA+/GdNOAhFUDV+Gw0rO0TQP0OF0rtpBJA/R5xVvZIEUCfT/wTXLYPQBYWYeYaugxA7f948zygCUAPpxiR9GsGQIEK8k+PIANAmx/oJ+WC/z/YlTUoMKT4P0+1mIoUrPE/VwjPz4JD5T8PBM8BxWPMP+LozgHFY8y/kwHPz4JD5b/0sZiKFKzxv3uSNSgwpPi/WhzoJ+WC/7/hCPJPjyADwIGlGJH0awbAY/548zygCcCgFGHmGroMwDNO/BNctg/AUh5xVvZIEcBYDhdK7aQSwDv4bDSs7RPAafGdNOAhFcAe1tWWS0AWwGLlvxvHRxfAJrDfKEM3GMDloIrgyA0ZwHeBYSB7yhnAaK1DZZdsGsAy99CTdvMawD2Qq6SNXhvAzWLIM26tG8BtIjryxt8bwCLGAfpj9RvAfAaOAy/uG8D7ubJ8L8obwCZjAIGKiRvANdWDs4IsG8CKXRX6d7MawLVAfhrnHhrAmHHaOWlvGcDDF7s+s6UYwBegrBaVwhfADpHg3/jGFsDqE9j34bMVwKj4B/BrihTA7M2JaclLE8CQXgfZQvkRwCFnJjQ1lBDAew6jEyE8DsCtd6INrTALwND2d9AxCQjAMYmuuu/IBMAgBCm1QHMBwMH8j30pF/y/DPGWwtwq9b9jXV1MfFHsvzC+q0wcYNy/BBvrXOHdO70=\",\"dtype\":\"float64\",\"shape\":[100]}},\"selected\":{\"id\":\"1138\",\"type\":\"Selection\"},\"selection_policy\":{\"id\":\"1137\",\"type\":\"UnionRenderers\"}},\"id\":\"1118\",\"type\":\"ColumnDataSource\"},{\"attributes\":{\"below\":[{\"id\":\"1013\",\"type\":\"LinearAxis\"}],\"center\":[{\"id\":\"1017\",\"type\":\"Grid\"},{\"id\":\"1022\",\"type\":\"Grid\"},{\"id\":\"1047\",\"type\":\"Legend\"}],\"left\":[{\"id\":\"1018\",\"type\":\"LinearAxis\"}],\"min_border_bottom\":20,\"min_border_left\":20,\"min_border_right\":20,\"min_border_top\":20,\"plot_height\":430,\"plot_width\":490,\"renderers\":[{\"id\":\"1039\",\"type\":\"GlyphRenderer\"},{\"id\":\"1106\",\"type\":\"GlyphRenderer\"},{\"id\":\"1111\",\"type\":\"GlyphRenderer\"},{\"id\":\"1116\",\"type\":\"GlyphRenderer\"},{\"id\":\"1121\",\"type\":\"GlyphRenderer\"}],\"title\":{\"id\":\"1003\",\"type\":\"Title\"},\"toolbar\":{\"id\":\"1029\",\"type\":\"Toolbar\"},\"toolbar_location\":null,\"x_range\":{\"id\":\"1005\",\"type\":\"DataRange1d\"},\"x_scale\":{\"id\":\"1009\",\"type\":\"LinearScale\"},\"y_range\":{\"id\":\"1007\",\"type\":\"DataRange1d\"},\"y_scale\":{\"id\":\"1011\",\"type\":\"LinearScale\"}},\"id\":\"1002\",\"subtype\":\"Figure\",\"type\":\"Plot\"},{\"attributes\":{\"source\":{\"id\":\"1001\",\"type\":\"ColumnDataSource\"}},\"id\":\"1040\",\"type\":\"CDSView\"},{\"attributes\":{\"fill_alpha\":{\"value\":0.6},\"fill_color\":{\"field\":\"col\"},\"line_alpha\":{\"value\":0.6},\"line_color\":{\"field\":\"col\"},\"size\":{\"units\":\"screen\",\"value\":5},\"x\":{\"field\":\"x\"},\"y\":{\"field\":\"y\"}},\"id\":\"1037\",\"type\":\"Circle\"},{\"attributes\":{\"callback\":null},\"id\":\"1005\",\"type\":\"DataRange1d\"},{\"attributes\":{\"callback\":null,\"data\":{\"Idx\":[2,3,4,5,6,7,8,9,11,12,13,14,15,16,17,18,20,21,22,23,24,25,26,27,29,30,31,32,33,34,35,36,38,39,40,41,42,43,44,45,47,48,49,50,51,52,53,54,56,57,58,59,60,61,62,63,65,66,67,68,69,70,71,72,74,75,76,77,78,79,80,81,83,84,85,86,87,88,89,90,92,93,94,95,96,97,98,99,101,102,103,104,105,106,107,108,110,111,112,113,114,115,116,117,119,120,121,122,123,124,125,126,128,129,130,131,132,133,134,135,137,138,139],\"SampleType\":[\"Sample\",\"Sample\",\"Sample\",\"Sample\",\"Sample\",\"Sample\",\"Sample\",\"Sample\",\"Sample\",\"Sample\",\"Sample\",\"Sample\",\"Sample\",\"Sample\",\"Sample\",\"Sample\",\"Sample\",\"Sample\",\"Sample\",\"Sample\",\"Sample\",\"Sample\",\"Sample\",\"Sample\",\"Sample\",\"Sample\",\"Sample\",\"Sample\",\"Sample\",\"Sample\",\"Sample\",\"Sample\",\"Sample\",\"Sample\",\"Sample\",\"Sample\",\"Sample\",\"Sample\",\"Sample\",\"Sample\",\"Sample\",\"Sample\",\"Sample\",\"Sample\",\"Sample\",\"Sample\",\"Sample\",\"Sample\",\"Sample\",\"Sample\",\"Sample\",\"Sample\",\"Sample\",\"Sample\",\"Sample\",\"Sample\",\"Sample\",\"Sample\",\"Sample\",\"Sample\",\"Sample\",\"Sample\",\"Sample\",\"Sample\",\"Sample\",\"Sample\",\"Sample\",\"Sample\",\"Sample\",\"Sample\",\"Sample\",\"Sample\",\"Sample\",\"Sample\",\"Sample\",\"Sample\",\"Sample\",\"Sample\",\"Sample\",\"Sample\",\"Sample\",\"Sample\",\"Sample\",\"Sample\",\"Sample\",\"Sample\",\"Sample\",\"Sample\",\"Sample\",\"Sample\",\"Sample\",\"Sample\",\"Sample\",\"Sample\",\"Sample\",\"Sample\",\"Sample\",\"Sample\",\"Sample\",\"Sample\",\"Sample\",\"Sample\",\"Sample\",\"Sample\",\"Sample\",\"Sample\",\"Sample\",\"Sample\",\"Sample\",\"Sample\",\"Sample\",\"Sample\",\"Sample\",\"Sample\",\"Sample\",\"Sample\",\"Sample\",\"Sample\",\"Sample\",\"Sample\",\"Sample\",\"Sample\",\"Sample\"],\"col\":[\"red\",\"red\",\"red\",\"red\",\"red\",\"red\",\"red\",\"red\",\"red\",\"red\",\"red\",\"red\",\"red\",\"red\",\"red\",\"red\",\"red\",\"red\",\"red\",\"red\",\"red\",\"red\",\"red\",\"red\",\"red\",\"red\",\"red\",\"red\",\"red\",\"red\",\"red\",\"red\",\"red\",\"red\",\"red\",\"red\",\"red\",\"red\",\"red\",\"red\",\"red\",\"red\",\"red\",\"red\",\"red\",\"red\",\"red\",\"red\",\"red\",\"red\",\"red\",\"red\",\"red\",\"red\",\"red\",\"red\",\"red\",\"red\",\"red\",\"red\",\"red\",\"red\",\"red\",\"red\",\"red\",\"red\",\"red\",\"red\",\"red\",\"red\",\"red\",\"red\",\"red\",\"red\",\"red\",\"red\",\"red\",\"red\",\"red\",\"red\",\"red\",\"red\",\"red\",\"red\",\"red\",\"red\",\"red\",\"red\",\"red\",\"red\",\"red\",\"red\",\"red\",\"red\",\"red\",\"red\",\"red\",\"red\",\"red\",\"red\",\"red\",\"red\",\"red\",\"red\",\"red\",\"red\",\"red\",\"red\",\"red\",\"red\",\"red\",\"red\",\"red\",\"red\",\"red\",\"red\",\"red\",\"red\",\"red\",\"red\",\"red\",\"red\",\"red\"],\"group\":[\"Sample\",\"Sample\",\"Sample\",\"Sample\",\"Sample\",\"Sample\",\"Sample\",\"Sample\",\"Sample\",\"Sample\",\"Sample\",\"Sample\",\"Sample\",\"Sample\",\"Sample\",\"Sample\",\"Sample\",\"Sample\",\"Sample\",\"Sample\",\"Sample\",\"Sample\",\"Sample\",\"Sample\",\"Sample\",\"Sample\",\"Sample\",\"Sample\",\"Sample\",\"Sample\",\"Sample\",\"Sample\",\"Sample\",\"Sample\",\"Sample\",\"Sample\",\"Sample\",\"Sample\",\"Sample\",\"Sample\",\"Sample\",\"Sample\",\"Sample\",\"Sample\",\"Sample\",\"Sample\",\"Sample\",\"Sample\",\"Sample\",\"Sample\",\"Sample\",\"Sample\",\"Sample\",\"Sample\",\"Sample\",\"Sample\",\"Sample\",\"Sample\",\"Sample\",\"Sample\",\"Sample\",\"Sample\",\"Sample\",\"Sample\",\"Sample\",\"Sample\",\"Sample\",\"Sample\",\"Sample\",\"Sample\",\"Sample\",\"Sample\",\"Sample\",\"Sample\",\"Sample\",\"Sample\",\"Sample\",\"Sample\",\"Sample\",\"Sample\",\"Sample\",\"Sample\",\"Sample\",\"Sample\",\"Sample\",\"Sample\",\"Sample\",\"Sample\",\"Sample\",\"Sample\",\"Sample\",\"Sample\",\"Sample\",\"Sample\",\"Sample\",\"Sample\",\"Sample\",\"Sample\",\"Sample\",\"Sample\",\"Sample\",\"Sample\",\"Sample\",\"Sample\",\"Sample\",\"Sample\",\"Sample\",\"Sample\",\"Sample\",\"Sample\",\"Sample\",\"Sample\",\"Sample\",\"Sample\",\"Sample\",\"Sample\",\"Sample\",\"Sample\",\"Sample\",\"Sample\",\"Sample\",\"Sample\",\"Sample\"],\"x\":{\"__ndarray__\":\"0yx+pTdKJsDT51paLEwjwHwoxm+oMyBAnWyx3HbkB8AAgVBJbbcPwNh7kHaDjBfAX+BgjgqfI0B80HjMQkYDwJ4iwgWQgfU/Er3rG3Eew7/GegL+3A/iv2qYO/g/QQlAj6cKUS+G978jLldIK9YBQBZBCmI8J/u/1q2bTqmvKUC9hY9RkCz1v1b4vYhtRhnADONT6SGtJMBCweQRlDIuQBhxuukVYCnA1IJnoUiwIsANZUZWBu8awAc8+qWkigRADBotyjABCsDkyqd4qhwZwEpvnoAJbxrAYigbBH+/CsChyXV0epgDwPp9KdyNmgZAwPx/Cyl2DcC+b9utwawQQJSMMwcAoxvA5f8PQ96hHcCYuX/tDSgkwBTuN7aU3vE/5BgmMfIvNUDll/9kyO7mP6S9s5TVCyZAQBNx5/wshb+UzkdGse4jwB7DTcwqrgtATrXo2y9yJEC4M49EEwGsPxCLNJ77miDAmEbcY+w3LkDIeeeRI3wlQPQkO37J3xNAJE0APnniI0CqASw4/PcjwNOH/BfJ6SHA3HlIfeHv+D88iNPUpuoRwPBQJpkxkgpAcB4OzN5m879GjoLIzUITwMJue7UwhCRALIM9HUOMEsAoGC7OUdsZwEtEvdrHTiNA2QHco6dq8L8v0NePMyQGQDzAMGB3DSFAbzuTt7P9+b8u/7mP4s8ewBSIAdsk5BLAfvPh21qHB0Csthbzh9LQvxiqej/0EwBAMebG77OPGMAMxtEH9gkYQApXiQ5/LyRAMadSrXo99j9gjcFP0XQEQMmbSazXUhtAqzwP8mMdJ8CnWsirOSQKwKr0rGQ3fRLACPe+JWm88j/mGVHYWP0gwPwSRGzlTQdAiS9Zq3cqGsAwrgWl7l4RQHjFHngdziLAtSc3VUCf8z9i+0HQlusGQICtabV9NvY/2QcGS5rnEUAAezglbk8IwC2Qtg0caRBAYJykckzoFEDMnSL5DCoqQAYQKnydGS3ASOJUn3jGIMCCTbk+c9cQwAgss8fmXCRASsFfap+CI0DqHQAgEnMtwG51wu1JWQzAgbJUwaMUGUCSq/UhOpLePwYwcxTeQ++/PuWGIYk++L+L/z2oz8b5v4t/3xN8GwZAyr1nSZbWFMCtj2ngZJvDPwZ6IsqDbQtA5DruNKlmFEDgWLbiW3qjv9Hk5zZY3BnAS4DOUM1RIEBTY8DBIxQTQAjEGvy47CLAgEjF9+OWc79CLjZ42eXFv1iTUbw6RxhAsMxjwcR0FkAB6lC/jJ8SwA9c13ZSQANAyFY/SR0pJ8AqPWgSJ6kmQOSwdGwZRS5A\",\"dtype\":\"float64\",\"shape\":[123]},\"y\":{\"__ndarray__\":\"GhdWojIU8L/GcppSiS7+v7gePLhhI+K/wKwKhtix679YbBM1+SoTwGC+Ue0R7BPAL+iOf6jU6b94Li7GzP/2v58Wa0cb8/I/iJ7Uf7tX5r9IPWwNJW63vwAZ+nloLvy/ORJ+8+xuAUC15O9mHNELwEX6g3ddwOw/p9Z8ImoA+z8cRy3tS9zbP3a7s1YatAXAnETkWR+UE0DUpNqA2kcDQKxHAVDuje0/RF/olW46BEAtj9yp9pYTwEwu9iZb/xDAeeQ3rmuW4D8MTAGP8aYIwGgku+4iZ7+/hvEtBRyOBkAWroECvcYGwGi3BRZMfua/p35t7b2SEEBHEvzzBVr9P2kjVnjCyAfAYM/T+Q+vCUBOtjfoQigOwLsRYuIEh/s/J9VRRr3S6D81955qcEwFwDqfszhaiBXAvUNXOW4KBkDeE88YDZe9P5xgEdZLaRLAG6NMovQoHUClXYHDCaj9v8z0HW99Sui/+JWIEeJ/+T/sRJKqWZIAwNs9ZxzeYeG/my/83B7l6L+CU7/FTnfWPzjEGpX2G+O/etISgxGPA8DWPFuMGq8VQNc0gopCnN2/VvyS0jxf7j/JzMEu4uEDQHuU8dk0oQnAdvpePdmbDcDygA2Fntf1P6YEKmBZbQjAl3dQ7WbG+r992kHdeZb/Pz0FopVulwfAlrpNe8GZE8C20yevNZIWQJHY8Fi+swTAwUE7PL3UBEAaTG6eKl7hP7yajkWQ9eE/9VHoL6AGCcDv5z+d0/kUQL4bDupo8/a/xqKCCpup4L8ozmehGGoEQD6s6RncvdM/92ERaBRe9j9+7oVzhdLSv0+/npm3EPK/6lfiBvwBCcCFN9ADAmQUQE69FA/3/ArA6Pbh27ufFEAMGBCaYOoNQB2Nv/WVw/u/Kk4tno0jBUBMfD9R+oj0vyQO2BfoRAHAKkqF8f7T8b8c5BXZ3ygJQFxys7ndmArAzA24lR5i8L9E7fnmnXsGQLUtBp7beOk/7634EwT5EsCcIrxdUqzQP5gq+w8OpQJALA3Sn9tFF0AYkpSHB/4MQEDavFBiGQPASPROfFnt8L/dnVd/S9vsv1hQrCCsHv0/nKIFKuYV/r/KpdGHDy8ZQMRt8pRp+xJAiGh8iI61CsBaqHNOipnnv2MmqVsNt/8/kk83AE4fDcC8k+6lgyG6P65THwOKThNA4TzIaYPKwr9ikSRIl5kIQOKU422TNwbAuts3l+EW8r9+IWdehhYOQDY8utqsDg3A3085FIXw8D91rji7RXD9P0GGn/LUaAFAmqV2cRim1z9lxNGy+uTyPzvqhIJv+v+/\",\"dtype\":\"float64\",\"shape\":[123]}},\"selected\":{\"id\":\"1130\",\"type\":\"Selection\"},\"selection_policy\":{\"id\":\"1129\",\"type\":\"UnionRenderers\"}},\"id\":\"1001\",\"type\":\"ColumnDataSource\"},{\"attributes\":{},\"id\":\"1130\",\"type\":\"Selection\"},{\"attributes\":{\"fill_alpha\":{\"value\":0.1},\"fill_color\":{\"value\":\"#1f77b4\"},\"line_alpha\":{\"value\":0.1},\"line_color\":{\"value\":\"#1f77b4\"},\"size\":{\"units\":\"screen\",\"value\":5},\"x\":{\"field\":\"x\"},\"y\":{\"field\":\"y\"}},\"id\":\"1038\",\"type\":\"Circle\"},{\"attributes\":{},\"id\":\"1011\",\"type\":\"LinearScale\"},{\"attributes\":{\"label\":{\"field\":\"group\"},\"renderers\":[{\"id\":\"1039\",\"type\":\"GlyphRenderer\"}]},\"id\":\"1048\",\"type\":\"LegendItem\"},{\"attributes\":{},\"id\":\"1009\",\"type\":\"LinearScale\"}],\"root_ids\":[\"1153\"]},\"title\":\"Bokeh Application\",\"version\":\"1.1.0\"}};\n",
       "  var render_items = [{\"docid\":\"ddb1c885-b9a8-4641-8ee0-f45f007b9300\",\"roots\":{\"1153\":\"6b2ef6b8-73ef-4d52-a34f-6bd7585ddfbd\"}}];\n",
       "  root.Bokeh.embed.embed_items_notebook(docs_json, render_items);\n",
       "\n",
       "  }\n",
       "  if (root.Bokeh !== undefined) {\n",
       "    embed_document(root);\n",
       "  } else {\n",
       "    var attempts = 0;\n",
       "    var timer = setInterval(function(root) {\n",
       "      if (root.Bokeh !== undefined) {\n",
       "        embed_document(root);\n",
       "        clearInterval(timer);\n",
       "      }\n",
       "      attempts++;\n",
       "      if (attempts > 100) {\n",
       "        console.log(\"Bokeh: ERROR: Unable to run BokehJS code because BokehJS library is missing\");\n",
       "        clearInterval(timer);\n",
       "      }\n",
       "    }, 10, root)\n",
       "  }\n",
       "})(window);"
      ],
      "application/vnd.bokehjs_exec.v0+json": ""
     },
     "metadata": {
      "application/vnd.bokehjs_exec.v0+json": {
       "id": "1153"
      }
     },
     "output_type": "display_data"
    }
   ],
   "source": [
    "# Perform PCA analysis\n",
    "\n",
    "cb.plot.pca(Xknn,\n",
    "            pcx=1,                                                  # pc for x-axis\n",
    "            pcy=2,                                                  # pc for y-axis\n",
    "            group_label=DataTable['SampleType'],                    # colour in PCA score plot\n",
    "            sample_label=DataTable[['Idx','SampleType']],           # labels for Hover in PCA score plot\n",
    "            peak_label=PeakTableClean[['Name','Label']])            # labels for Hover in PCA loadings plot"
   ]
  },
  {
   "cell_type": "markdown",
   "metadata": {},
   "source": [
    "<div style=\"background-color:rgb(255, 250, 250); padding:10px;  border: 1px solid lightgrey; padding-left: 1em; padding-right: 1em;\">\n",
    "\n",
    "## 6. Correlation analysis\n",
    "\n",
    "Performs pearson or spearman correlation analysis\n",
    "\n",
    "</div>"
   ]
  },
  {
   "cell_type": "code",
   "execution_count": 8,
   "metadata": {},
   "outputs": [
    {
     "name": "stderr",
     "output_type": "stream",
     "text": [
      "100%|██████████| 149/149 [00:12<00:00, 12.30it/s]\n"
     ]
    }
   ],
   "source": [
    "correlationType = \"spearman\"; #\"pearson\"\n",
    "\n",
    "ScoreBlocks,PvalueBlocks = cimcb_vis.corrAnalysis(PeakTableClean, Xknn_data, correlationType)"
   ]
  },
  {
   "cell_type": "markdown",
   "metadata": {},
   "source": [
    "<div style=\"background-color:rgb(255, 250, 250); padding:5px;  border: 1px solid lightgrey; padding-left: 1em; padding-right: 1em;\">\n",
    "\n",
    "### Display Correlation Coefficients\n",
    "Using the <b>BeakerX</b> package we can interactively view and check the correlation coefficients simply by calling the function <span style=\"font-family: monaco; font-size: 14px; background-color:white;\">display(ScoreBlocks)</span><br>\n",
    "</div>"
   ]
  },
  {
   "cell_type": "code",
   "execution_count": 9,
   "metadata": {},
   "outputs": [
    {
     "data": {
      "application/vnd.jupyter.widget-view+json": {
       "model_id": "e627b6fe57d34a3cb12621b52a63079c",
       "version_major": 2,
       "version_minor": 0
      }
     },
     "metadata": {},
     "output_type": "display_data"
    }
   ],
   "source": [
    "display(ScoreBlocks)"
   ]
  },
  {
   "cell_type": "markdown",
   "metadata": {},
   "source": [
    "<div style=\"background-color:rgb(255, 250, 250); padding:5px;  border: 1px solid lightgrey; padding-left: 1em; padding-right: 1em;\">\n",
    "\n",
    "### Display Correlation Pvalues\n",
    "Using the <b>BeakerX</b> package we can interactively view and check the correlation p-values simply by calling the function <span style=\"font-family: monaco; font-size: 14px; background-color:white;\">display(PvalueBlocks)</span><br>\n",
    "</div>"
   ]
  },
  {
   "cell_type": "code",
   "execution_count": 10,
   "metadata": {},
   "outputs": [
    {
     "data": {
      "application/vnd.jupyter.widget-view+json": {
       "model_id": "1b0ec2a52399442ab529052eeaf2bad4",
       "version_major": 2,
       "version_minor": 0
      }
     },
     "metadata": {},
     "output_type": "display_data"
    }
   ],
   "source": [
    "display(PvalueBlocks)"
   ]
  },
  {
   "cell_type": "markdown",
   "metadata": {},
   "source": [
    "<div style=\"background-color:rgb(255, 250, 250); padding:10px;  border: 1px solid lightgrey; padding-left: 1em; padding-right: 1em;\">\n",
    "\n",
    "## 7.  Generate Edges\n",
    "\n",
    "The correlation data is filtered and placed in a network of edges\n",
    "\n",
    "</div>"
   ]
  },
  {
   "cell_type": "code",
   "execution_count": 11,
   "metadata": {},
   "outputs": [],
   "source": [
    "networkEdges = cimcb_vis.Edge(peaks=PeakTableClean, scores=ScoreBlocks, pvalues=PvalueBlocks)\n",
    "\n",
    "params = dict({'filterScoreType': 'Pval', 'hard_threshold': 0.005, 'sign': \"BOTH\", 'verbose': 0})\n",
    "\n",
    "networkEdges.set_params(**params)\n",
    "\n",
    "networkEdges.run()\n",
    "\n",
    "edges = networkEdges.getEdges()"
   ]
  },
  {
   "cell_type": "markdown",
   "metadata": {},
   "source": [
    "<div style=\"background-color:rgb(255, 250, 250); padding:5px;  border: 1px solid lightgrey; padding-left: 1em; padding-right: 1em;\">\n",
    "\n",
    "### Display edge data used in the Hierarchical Edge Bundle\n",
    "\n",
    "Using the <b>BeakerX</b> package we can interactively view and check the edge data simply by calling the function <span style=\"font-family: monaco; font-size: 14px; background-color:white;\">display(edges)</span><br>\n",
    "</div>"
   ]
  },
  {
   "cell_type": "code",
   "execution_count": 12,
   "metadata": {},
   "outputs": [
    {
     "data": {
      "application/vnd.jupyter.widget-view+json": {
       "model_id": "ec25900a389a4955a3d750cb61b3d751",
       "version_major": 2,
       "version_minor": 0
      }
     },
     "metadata": {},
     "output_type": "display_data"
    }
   ],
   "source": [
    "display(edges)"
   ]
  },
  {
   "cell_type": "markdown",
   "metadata": {},
   "source": [
    "<div style=\"background-color:rgb(255, 250, 250); padding:10px;  border: 1px solid lightgrey; padding-left: 1em; padding-right: 1em;\">\n",
    "\n",
    "## 8.  Sort edges\n",
    "\n",
    "Sort the edges for visualisation preference\n",
    "\n",
    "</div>"
   ]
  },
  {
   "cell_type": "code",
   "execution_count": 13,
   "metadata": {},
   "outputs": [],
   "source": [
    "#edges.sort_values(['start_index', 'end_index'], inplace=True, ascending=True)\n",
    "#edges.sort_values('Pval', inplace=True, ascending=False)\n",
    "edges.sort_values('Score', inplace=True, ascending=False)"
   ]
  },
  {
   "cell_type": "markdown",
   "metadata": {},
   "source": [
    "<div style=\"background-color:rgb(255, 250, 250); padding:10px;  border: 1px solid lightgrey; padding-left: 1em; padding-right: 1em;\">\n",
    "\n",
    "## 9.  Plot Hierarchical edge bundle\n",
    "\n",
    "The edges from the network structure are then used to generate a Hierarchical edge bundle in D3 JavaScript and embedded in HTML for interactive visualisation\n",
    "\n",
    "</div>"
   ]
  },
  {
   "cell_type": "code",
   "execution_count": 14,
   "metadata": {},
   "outputs": [
    {
     "data": {
      "text/html": [
       "\n",
       "        <iframe\n",
       "            width=\"1340\"\n",
       "            height=\"1250\"\n",
       "            src=\"hEdgeBundle_GastricCancer.html\"\n",
       "            frameborder=\"0\"\n",
       "            allowfullscreen\n",
       "        ></iframe>\n",
       "        "
      ],
      "text/plain": [
       "<IPython.lib.display.IFrame at 0x1a21fa7048>"
      ]
     },
     "execution_count": 14,
     "metadata": {},
     "output_type": "execute_result"
    }
   ],
   "source": [
    "html_file = 'hEdgeBundle_GastricCancer.html';\n",
    "\n",
    "params = dict({'diameter': 960, 'innerRadiusOffset': 120, 'linkFadeOpacity': 0.01, 'fontSize': 10\n",
    "               , 'backgroundColor': 'white', 'sliderTextColor': 'black', 'filterOffSet': -60, 'color_scale': 'Score', 'edge_cmap': 'brg'})\n",
    "\n",
    "bundle = cimcb_vis.edgeBundle(edges)\n",
    "\n",
    "bundle.set_params(**params)\n",
    "\n",
    "html = HTML(bundle.run()).data\n",
    "\n",
    "with open(home + html_file, 'w') as f:\n",
    "    f.write(html)\n",
    "\n",
    "IFrame(html_file, width=1340, height=1250)"
   ]
  },
  {
   "cell_type": "code",
   "execution_count": null,
   "metadata": {},
   "outputs": [],
   "source": []
  }
 ],
 "metadata": {
  "kernelspec": {
   "display_name": "Python 3",
   "language": "python",
   "name": "python3"
  },
  "language_info": {
   "codemirror_mode": {
    "name": "ipython",
    "version": 3
   },
   "file_extension": ".py",
   "mimetype": "text/x-python",
   "name": "python",
   "nbconvert_exporter": "python",
   "pygments_lexer": "ipython3",
   "version": "3.7.2"
  },
  "toc": {
   "base_numbering": 1,
   "nav_menu": {},
   "number_sections": false,
   "sideBar": false,
   "skip_h1_title": false,
   "title_cell": "Table of Contents",
   "title_sidebar": "Contents",
   "toc_cell": false,
   "toc_position": {},
   "toc_section_display": false,
   "toc_window_display": false
  }
 },
 "nbformat": 4,
 "nbformat_minor": 2
}
