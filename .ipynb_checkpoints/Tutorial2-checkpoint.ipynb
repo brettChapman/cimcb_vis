{
 "cells": [
  {
   "cell_type": "markdown",
   "metadata": {},
   "source": [
    "<img src=\"images/logo_text.png\" width=\"250px\" align=\"right\">\n",
    "\n",
    "# Jupyter Tutorial: Multi-Omics Hierarchical Edge Bundle\n",
    "\n",
    "#### <font size=\"3\" color='red'>To begin: Click anywhere in this cell and press 'Run' on the menu bar.<br> The next cell in the notebook is then automatically highlighted. Press 'Run' again.<br>Repeat this process until the end of the notebook.<br> Alternatively click 'Kernel' followed by 'Restart and Run All'.<br> NOTE: Some code cells may take several seconds to execute, please be patient.<br></font>  "
   ]
  },
  {
   "cell_type": "markdown",
   "metadata": {},
   "source": [
    "<div style=\"background-color:rgb(255, 250, 250); padding:5px;  border: 1px solid lightgrey; padding-left: 1em; padding-right: 1em;\">\n",
    "\n",
    "## 1. Import Packages/Modules\n",
    "The first code cell of this tutorial (below this text box) imports packages and modules into the Jupter environment to extend our capability beyond the basic functionality of python. <br>\n",
    "\n",
    "**Run the cell by clicking anywhere in the cell and then clicking \"Run\" in the Menu.** <br>\n",
    "When sucessfully executed the cell will print \"All packages successfully loaded\" in the notebook below the cell.\n",
    "</div>"
   ]
  },
  {
   "cell_type": "code",
   "execution_count": 1,
   "metadata": {},
   "outputs": [
    {
     "name": "stdout",
     "output_type": "stream",
     "text": [
      "All packages successfully loaded\n"
     ]
    }
   ],
   "source": [
    "import os\n",
    "\n",
    "home = os.getcwd() + \"/\"\n",
    "    \n",
    "from beakerx.object import beakerx \n",
    "beakerx.pandas_display_table() # by default display pandas tables as BeakerX interactive tables\n",
    "\n",
    "import numpy as np\n",
    "import pandas as pd\n",
    "from IPython.display import IFrame,HTML\n",
    "\n",
    "import cimcb_lite as cb\n",
    "import cimcb_vis\n",
    "print('All packages successfully loaded')\n",
    "\n",
    "%load_ext autoreload\n",
    "%autoreload 2"
   ]
  },
  {
   "cell_type": "markdown",
   "metadata": {},
   "source": [
    "<div style=\"background-color:rgb(255, 250, 250); padding:5px;  border: 1px solid lightgrey; padding-left: 1em; padding-right: 1em;\">\n",
    "\n",
    "## 2. Load Data and Peak sheet\n",
    "The next code cell loads the *Data* and *Peak* sheets from an Excel file:\n",
    "\n",
    "Note: For multi block data, please ensure that unique names are used across all the different blocks\n",
    "</div>"
   ]
  },
  {
   "cell_type": "code",
   "execution_count": 2,
   "metadata": {},
   "outputs": [
    {
     "name": "stdout",
     "output_type": "stream",
     "text": [
      "Loadings PeakFile: Peak\n",
      "Loadings DataFile: Data\n",
      "Data Table & Peak Table is suitable.\n",
      "TOTAL SAMPLES: 22 TOTAL PEAKS: 31\n",
      "Done!\n"
     ]
    }
   ],
   "source": [
    "blocks = []\n",
    "blocks.append('Metabolomics')\n",
    "\n",
    "file = 'metabolomics.xlsx' # expects an excel spreadsheet\n",
    "\n",
    "DataTable1,PeakTable1 = cb.utils.load_dataXL(home + file, DataSheet='Data', PeakSheet='Peak')"
   ]
  },
  {
   "cell_type": "code",
   "execution_count": 3,
   "metadata": {},
   "outputs": [
    {
     "name": "stdout",
     "output_type": "stream",
     "text": [
      "Loadings PeakFile: Peak\n",
      "Loadings DataFile: Data\n",
      "Data Table & Peak Table is suitable.\n",
      "TOTAL SAMPLES: 22 TOTAL PEAKS: 15\n",
      "Done!\n"
     ]
    }
   ],
   "source": [
    "blocks.append('Sphingolipids')\n",
    "\n",
    "file = 'sphingolipids.xlsx' # expects an excel spreadsheet\n",
    "\n",
    "DataTable2,PeakTable2 = cb.utils.load_dataXL(home + file, DataSheet='Data', PeakSheet='Peak')"
   ]
  },
  {
   "cell_type": "code",
   "execution_count": 4,
   "metadata": {},
   "outputs": [
    {
     "name": "stdout",
     "output_type": "stream",
     "text": [
      "Loadings PeakFile: Peak\n",
      "Loadings DataFile: Data\n",
      "Data Table & Peak Table is suitable.\n",
      "TOTAL SAMPLES: 22 TOTAL PEAKS: 7\n",
      "Done!\n"
     ]
    }
   ],
   "source": [
    "blocks.append('Fatty Acids')\n",
    "\n",
    "file = 'fattyacids.xlsx' # expects an excel spreadsheet\n",
    "\n",
    "DataTable3,PeakTable3 = cb.utils.load_dataXL(home + file, DataSheet='Data', PeakSheet='Peak')"
   ]
  },
  {
   "cell_type": "code",
   "execution_count": 5,
   "metadata": {},
   "outputs": [
    {
     "name": "stdout",
     "output_type": "stream",
     "text": [
      "Loadings PeakFile: Peak\n",
      "Loadings DataFile: Data\n",
      "Data Table & Peak Table is suitable.\n",
      "TOTAL SAMPLES: 22 TOTAL PEAKS: 16\n",
      "Done!\n"
     ]
    }
   ],
   "source": [
    "blocks.append('Oxylipins')\n",
    "\n",
    "file = 'oxylipins.xlsx' # expects an excel spreadsheet\n",
    "\n",
    "DataTable4,PeakTable4 = cb.utils.load_dataXL(home + file, DataSheet='Data', PeakSheet='Peak')"
   ]
  },
  {
   "cell_type": "code",
   "execution_count": 6,
   "metadata": {},
   "outputs": [
    {
     "name": "stdout",
     "output_type": "stream",
     "text": [
      "Loadings PeakFile: Peak\n",
      "Loadings DataFile: Data\n",
      "Data Table & Peak Table is suitable.\n",
      "TOTAL SAMPLES: 22 TOTAL PEAKS: 9\n",
      "Done!\n"
     ]
    }
   ],
   "source": [
    "blocks.append('Clinical')\n",
    "\n",
    "file = 'clinical.xlsx' # expects an excel spreadsheet\n",
    "\n",
    "DataTable5,PeakTable5 = cb.utils.load_dataXL(home + file, DataSheet='Data', PeakSheet='Peak')"
   ]
  },
  {
   "cell_type": "code",
   "execution_count": 7,
   "metadata": {},
   "outputs": [
    {
     "name": "stdout",
     "output_type": "stream",
     "text": [
      "Loadings PeakFile: Peak\n",
      "Loadings DataFile: Data\n",
      "Data Table & Peak Table is suitable.\n",
      "TOTAL SAMPLES: 22 TOTAL PEAKS: 151\n",
      "Done!\n"
     ]
    }
   ],
   "source": [
    "blocks.append('Transcriptomics')\n",
    "\n",
    "file = 'transcriptomics.xlsx' # expects an excel spreadsheet\n",
    "\n",
    "DataTable6,PeakTable6 = cb.utils.load_dataXL(home + file, DataSheet='Data', PeakSheet='Peak')"
   ]
  },
  {
   "cell_type": "markdown",
   "metadata": {},
   "source": [
    "<div style=\"background-color:rgb(255, 250, 250); padding:5px;  border: 1px solid lightgrey; padding-left: 1em; padding-right: 1em;\">\n",
    "\n",
    "### Display the Data sheet\n",
    "\n",
    "Using the <b>BeakerX</b> package we can interactively view and check the imported Data table simply by calling the function <span style=\"font-family: monaco; font-size: 14px; background-color:white;\">display(DataTable)</span><br>\n",
    "</div>"
   ]
  },
  {
   "cell_type": "code",
   "execution_count": 8,
   "metadata": {},
   "outputs": [
    {
     "data": {
      "application/vnd.jupyter.widget-view+json": {
       "model_id": "b20968b34efa4b248b22e8d2a1d2746a",
       "version_major": 2,
       "version_minor": 0
      }
     },
     "metadata": {},
     "output_type": "display_data"
    }
   ],
   "source": [
    "display(DataTable1)"
   ]
  },
  {
   "cell_type": "code",
   "execution_count": 9,
   "metadata": {},
   "outputs": [
    {
     "data": {
      "application/vnd.jupyter.widget-view+json": {
       "model_id": "f37ed49865fc4b5b91814a638e1a9128",
       "version_major": 2,
       "version_minor": 0
      }
     },
     "metadata": {},
     "output_type": "display_data"
    }
   ],
   "source": [
    "display(DataTable2)"
   ]
  },
  {
   "cell_type": "code",
   "execution_count": 10,
   "metadata": {},
   "outputs": [
    {
     "data": {
      "application/vnd.jupyter.widget-view+json": {
       "model_id": "566bca4e21994a39af356977f63d31aa",
       "version_major": 2,
       "version_minor": 0
      }
     },
     "metadata": {},
     "output_type": "display_data"
    }
   ],
   "source": [
    "display(DataTable3)"
   ]
  },
  {
   "cell_type": "code",
   "execution_count": 11,
   "metadata": {},
   "outputs": [
    {
     "data": {
      "application/vnd.jupyter.widget-view+json": {
       "model_id": "d16c051558e6476d9d4822ed8c8e9e07",
       "version_major": 2,
       "version_minor": 0
      }
     },
     "metadata": {},
     "output_type": "display_data"
    }
   ],
   "source": [
    "display(DataTable4)"
   ]
  },
  {
   "cell_type": "code",
   "execution_count": 12,
   "metadata": {},
   "outputs": [
    {
     "data": {
      "application/vnd.jupyter.widget-view+json": {
       "model_id": "fe90fb6b82d04662a563dbc8a4bac123",
       "version_major": 2,
       "version_minor": 0
      }
     },
     "metadata": {},
     "output_type": "display_data"
    }
   ],
   "source": [
    "display(DataTable5)"
   ]
  },
  {
   "cell_type": "code",
   "execution_count": 13,
   "metadata": {},
   "outputs": [
    {
     "data": {
      "application/vnd.jupyter.widget-view+json": {
       "model_id": "2323077cc97342dc974aefef86cbf7fe",
       "version_major": 2,
       "version_minor": 0
      }
     },
     "metadata": {},
     "output_type": "display_data"
    }
   ],
   "source": [
    "display(DataTable6)"
   ]
  },
  {
   "cell_type": "markdown",
   "metadata": {},
   "source": [
    "<div style=\"background-color:rgb(255, 250, 250); padding:5px;  border: 1px solid lightgrey; padding-left: 1em; padding-right: 1em;\">\n",
    "\n",
    "### Display the Peak sheet\n",
    "\n",
    "Using the <b>BeakerX</b> package we can interactively view and check the imported Peak table  simply by calling the function <span style=\"font-family: monaco; font-size: 14px; background-color:white;\">display(PeakTable)</span><br>\n",
    "</div>"
   ]
  },
  {
   "cell_type": "code",
   "execution_count": 14,
   "metadata": {},
   "outputs": [
    {
     "data": {
      "application/vnd.jupyter.widget-view+json": {
       "model_id": "498c41974d5d4b0a9be2b404531710c9",
       "version_major": 2,
       "version_minor": 0
      }
     },
     "metadata": {},
     "output_type": "display_data"
    }
   ],
   "source": [
    "display(PeakTable1)"
   ]
  },
  {
   "cell_type": "code",
   "execution_count": 15,
   "metadata": {},
   "outputs": [
    {
     "data": {
      "application/vnd.jupyter.widget-view+json": {
       "model_id": "4f65cd46ef854c18a4fa948c43b83cb6",
       "version_major": 2,
       "version_minor": 0
      }
     },
     "metadata": {},
     "output_type": "display_data"
    }
   ],
   "source": [
    "display(PeakTable2)"
   ]
  },
  {
   "cell_type": "code",
   "execution_count": 16,
   "metadata": {},
   "outputs": [
    {
     "data": {
      "application/vnd.jupyter.widget-view+json": {
       "model_id": "53c1b344ec7c4ea48759cfbc9a616fae",
       "version_major": 2,
       "version_minor": 0
      }
     },
     "metadata": {},
     "output_type": "display_data"
    }
   ],
   "source": [
    "display(PeakTable3)"
   ]
  },
  {
   "cell_type": "code",
   "execution_count": 17,
   "metadata": {},
   "outputs": [
    {
     "data": {
      "application/vnd.jupyter.widget-view+json": {
       "model_id": "3ba35de77fdc47d487713f22f5e0801b",
       "version_major": 2,
       "version_minor": 0
      }
     },
     "metadata": {},
     "output_type": "display_data"
    }
   ],
   "source": [
    "display(PeakTable4)"
   ]
  },
  {
   "cell_type": "code",
   "execution_count": 18,
   "metadata": {},
   "outputs": [
    {
     "data": {
      "application/vnd.jupyter.widget-view+json": {
       "model_id": "c3a284cbb74442b483f99bd4ef0f95bc",
       "version_major": 2,
       "version_minor": 0
      }
     },
     "metadata": {},
     "output_type": "display_data"
    }
   ],
   "source": [
    "display(PeakTable5)"
   ]
  },
  {
   "cell_type": "code",
   "execution_count": 19,
   "metadata": {},
   "outputs": [
    {
     "data": {
      "application/vnd.jupyter.widget-view+json": {
       "model_id": "57e6b79e7aa5422491c6b6f2513125b0",
       "version_major": 2,
       "version_minor": 0
      }
     },
     "metadata": {},
     "output_type": "display_data"
    }
   ],
   "source": [
    "display(PeakTable6)"
   ]
  },
  {
   "cell_type": "markdown",
   "metadata": {},
   "source": [
    "<div style=\"background-color:rgb(255, 250, 250); padding:10px;  border: 1px solid lightgrey; padding-left: 1em; padding-right: 1em;\">\n",
    "\n",
    "## 3. Data Cleaning\n",
    "\n",
    "It is good practice to assess the quality of your data, and remove (clean out) any poorly measured metabolites. We have decided to only keep any metabolites with a QC-RSD less than 20% and with a percentage missing values less than 10%. Other values can also be used to filter your data on, such as variable of importance (VIP), p-values etc if they're available in your Peak Table.\n",
    "</div>"
   ]
  },
  {
   "cell_type": "code",
   "execution_count": 20,
   "metadata": {},
   "outputs": [
    {
     "name": "stdout",
     "output_type": "stream",
     "text": [
      "Number of peaks remaining in Metabolomics block: 31\n",
      "Number of peaks remaining in Sphingolipids block: 15\n",
      "Number of peaks remaining in Fatty Acids block: 7\n",
      "Number of peaks remaining in Oxylipins block: 16\n",
      "Number of peaks remaining in Clinical block: 9\n",
      "Number of peaks remaining in Transcriptomics block: 151\n"
     ]
    }
   ],
   "source": [
    "PeakTableClean1 = PeakTable1.query('VIP_C1 >= 1')\n",
    "PeakTableClean2 = PeakTable2.query('VIP_C1 >= 1')\n",
    "PeakTableClean3 = PeakTable3.query('VIP_C1 >= 1')\n",
    "PeakTableClean4 = PeakTable4.query('VIP_C1 >= 1')\n",
    "PeakTableClean5 = PeakTable5.query('VIP_C1 >= 1')\n",
    "PeakTableClean6 = PeakTable6.query('VIP_C1 >= 2')\n",
    "\n",
    "print(\"Number of peaks remaining in {} block: {}\".format(blocks[0], len(PeakTableClean1)))\n",
    "print(\"Number of peaks remaining in {} block: {}\".format(blocks[1], len(PeakTableClean2)))\n",
    "print(\"Number of peaks remaining in {} block: {}\".format(blocks[2], len(PeakTableClean3)))\n",
    "print(\"Number of peaks remaining in {} block: {}\".format(blocks[3], len(PeakTableClean4)))\n",
    "print(\"Number of peaks remaining in {} block: {}\".format(blocks[4], len(PeakTableClean5)))\n",
    "print(\"Number of peaks remaining in {} block: {}\".format(blocks[5], len(PeakTableClean6)))"
   ]
  },
  {
   "cell_type": "markdown",
   "metadata": {},
   "source": [
    "<div style=\"background-color:rgb(255, 250, 250); padding:10px;  border: 1px solid lightgrey; padding-left: 1em; padding-right: 1em;\">\n",
    "\n",
    "## 4. Log, scale, and impute missing values\n",
    "\n",
    "Data often needs to be log transformed to compensate for skewness from overly large values, and is often the choice for biological data. Scaling is a means of normalising the data across all of the featues (peaks) so that they are equally comparable. Imputing missing values is performed to remove any NaN values which would cause problems for any downstream analysis. If there are too many missing values for a given feature (peak) then that feature should be removed entirely.\n",
    "</div>"
   ]
  },
  {
   "cell_type": "code",
   "execution_count": 21,
   "metadata": {},
   "outputs": [],
   "source": [
    "# Extract and scale the data from the DataTable \n",
    "\n",
    "peaklist1 = PeakTableClean1['Name']                   # Set peaklist to the metabolite names in the PeakTableClean\n",
    "X = DataTable1[peaklist1]                            # Extract X matrix from DataTable using peaklist\n",
    "Xlog = np.log10(X)                                  # Log transform (base-10)\n",
    "Xscale = cb.utils.scale(Xlog, method='auto')        # methods include auto, pareto, vast, and level\n",
    "Xknn1 = cb.utils.knnimpute(Xscale, k=3)              # missing value imputation (knn - 3 nearest neighbors)"
   ]
  },
  {
   "cell_type": "code",
   "execution_count": 22,
   "metadata": {},
   "outputs": [],
   "source": [
    "# Extract and scale the data from the DataTable \n",
    "\n",
    "peaklist2 = PeakTableClean2['Name']                   # Set peaklist to the metabolite names in the PeakTableClean\n",
    "X = DataTable2[peaklist2]                             # Extract X matrix from DataTable using peaklist\n",
    "Xlog = np.log10(X)                                  # Log transform (base-10)\n",
    "Xscale = cb.utils.scale(Xlog, method='auto')        # methods include auto, pareto, vast, and level\n",
    "Xknn2 = cb.utils.knnimpute(Xscale, k=3)              # missing value imputation (knn - 3 nearest neighbors)"
   ]
  },
  {
   "cell_type": "code",
   "execution_count": 23,
   "metadata": {},
   "outputs": [],
   "source": [
    "# Extract and scale the data from the DataTable \n",
    "\n",
    "peaklist3 = PeakTableClean3['Name']                   # Set peaklist to the metabolite names in the PeakTableClean\n",
    "X = DataTable3[peaklist3]                             # Extract X matrix from DataTable using peaklist\n",
    "Xlog = np.log10(X)                                  # Log transform (base-10)\n",
    "Xscale = cb.utils.scale(Xlog, method='auto')        # methods include auto, pareto, vast, and level\n",
    "Xknn3 = cb.utils.knnimpute(Xscale, k=3)              # missing value imputation (knn - 3 nearest neighbors)"
   ]
  },
  {
   "cell_type": "code",
   "execution_count": 24,
   "metadata": {},
   "outputs": [],
   "source": [
    "# Extract and scale the data from the DataTable \n",
    "\n",
    "peaklist4 = PeakTableClean4['Name']                   # Set peaklist to the metabolite names in the PeakTableClean\n",
    "X = DataTable4[peaklist4]                             # Extract X matrix from DataTable using peaklist\n",
    "Xlog = np.log10(X)                                  # Log transform (base-10)\n",
    "Xscale = cb.utils.scale(Xlog, method='auto')        # methods include auto, pareto, vast, and level\n",
    "Xknn4 = cb.utils.knnimpute(Xscale, k=3)              # missing value imputation (knn - 3 nearest neighbors)"
   ]
  },
  {
   "cell_type": "code",
   "execution_count": 25,
   "metadata": {},
   "outputs": [],
   "source": [
    "# Extract and scale the data from the DataTable \n",
    "\n",
    "peaklist5 = PeakTableClean5['Name']                   # Set peaklist to the metabolite names in the PeakTableClean\n",
    "X = DataTable5[peaklist5]                             # Extract X matrix from DataTable using peaklist\n",
    "X = X.where(X > 0, np.nan)                            # Replace occurences of negative values with NaN (for this particular dataset only)\n",
    "Xlog = np.log10(X)                                  # Log transform (base-10)\n",
    "Xscale = cb.utils.scale(Xlog, method='auto')        # methods include auto, pareto, vast, and level\n",
    "Xknn5 = cb.utils.knnimpute(Xscale, k=3)              # missing value imputation (knn - 3 nearest neighbors)"
   ]
  },
  {
   "cell_type": "code",
   "execution_count": 26,
   "metadata": {},
   "outputs": [],
   "source": [
    "# Extract and scale the data from the DataTable \n",
    "\n",
    "peaklist6 = PeakTableClean6['Name']                   # Set peaklist to the metabolite names in the PeakTableClean\n",
    "X= DataTable6[peaklist6]                             # Extract X matrix from DataTable using peaklist\n",
    "Xlog = np.log10(X)                                  # Log transform (base-10)\n",
    "Xscale = cb.utils.scale(Xlog, method='auto')        # methods include auto, pareto, vast, and level\n",
    "Xknn6 = cb.utils.knnimpute(Xscale, k=3)              # missing value imputation (knn - 3 nearest neighbors)"
   ]
  },
  {
   "cell_type": "markdown",
   "metadata": {},
   "source": [
    "<div style=\"background-color:rgb(255, 250, 250); padding:10px;  border: 1px solid lightgrey; padding-left: 1em; padding-right: 1em;\">\n",
    "\n",
    "## 6. Merge multi blocks\n",
    "\n",
    "Merge each of the multiple different peak and data blocks into one multi peak and data block \n",
    "\n",
    "</div>"
   ]
  },
  {
   "cell_type": "code",
   "execution_count": 27,
   "metadata": {
    "scrolled": false
   },
   "outputs": [],
   "source": [
    "peak_blocks = dict((block,'') for block in blocks) #Prepare a dictionary of all block types for each peak table\n",
    "data_blocks = dict((block,'') for block in blocks) #Prepare a dictionary of all block types for each data table\n",
    "\n",
    "peak_blocks[blocks[0]] = PeakTableClean1\n",
    "data_blocks[blocks[0]] = pd.merge(DataTable1.T[~DataTable1.T.index.isin(PeakTable1['Name'])].T.reset_index(drop=True), pd.DataFrame(Xknn1, columns=peaklist1), left_index=True, right_index=True)\n",
    "\n",
    "peak_blocks[blocks[1]] = PeakTableClean2\n",
    "data_blocks[blocks[1]] = pd.merge(DataTable2.T[~DataTable2.T.index.isin(PeakTable2['Name'])].T.reset_index(drop=True), pd.DataFrame(Xknn2, columns=peaklist2), left_index=True, right_index=True)\n",
    "\n",
    "peak_blocks[blocks[2]] = PeakTableClean3\n",
    "data_blocks[blocks[2]] = pd.merge(DataTable3.T[~DataTable3.T.index.isin(PeakTable3['Name'])].T.reset_index(drop=True), pd.DataFrame(Xknn3, columns=peaklist3), left_index=True, right_index=True)\n",
    "\n",
    "peak_blocks[blocks[3]] = PeakTableClean4\n",
    "data_blocks[blocks[3]] = pd.merge(DataTable4.T[~DataTable4.T.index.isin(PeakTable4['Name'])].T.reset_index(drop=True), pd.DataFrame(Xknn4, columns=peaklist4), left_index=True, right_index=True)\n",
    "\n",
    "peak_blocks[blocks[4]] = PeakTableClean5\n",
    "data_blocks[blocks[4]] = pd.merge(DataTable5.T[~DataTable5.T.index.isin(PeakTable5['Name'])].T.reset_index(drop=True), pd.DataFrame(Xknn5, columns=peaklist5), left_index=True, right_index=True)\n",
    "\n",
    "peak_blocks[blocks[5]] = PeakTableClean6\n",
    "data_blocks[blocks[5]] = pd.merge(DataTable6.T[~DataTable6.T.index.isin(PeakTable6['Name'])].T.reset_index(drop=True), pd.DataFrame(Xknn6, columns=peaklist6), left_index=True, right_index=True)\n",
    "\n",
    "MultiBlockPeaks,MultiBlockData = cimcb_vis.utils.mergeBlocks(peak_blocks, data_blocks)"
   ]
  },
  {
   "cell_type": "markdown",
   "metadata": {},
   "source": [
    "<div style=\"background-color:rgb(255, 250, 250); padding:5px;  border: 1px solid lightgrey; padding-left: 1em; padding-right: 1em;\">\n",
    "\n",
    "### Display Multi Block Data\n",
    "\n",
    "Using the <b>BeakerX</b> package we can interactively view and check the Multi Block Data simply by calling the function <span style=\"font-family: monaco; font-size: 14px; background-color:white;\">display(MultiBlockData)</span><br>\n",
    "</div>"
   ]
  },
  {
   "cell_type": "code",
   "execution_count": 28,
   "metadata": {},
   "outputs": [
    {
     "data": {
      "application/vnd.jupyter.widget-view+json": {
       "model_id": "2360364cadfe439c865fed8e3b0b7438",
       "version_major": 2,
       "version_minor": 0
      }
     },
     "metadata": {},
     "output_type": "display_data"
    }
   ],
   "source": [
    "display(MultiBlockData)"
   ]
  },
  {
   "cell_type": "markdown",
   "metadata": {},
   "source": [
    "<div style=\"background-color:rgb(255, 250, 250); padding:5px;  border: 1px solid lightgrey; padding-left: 1em; padding-right: 1em;\">\n",
    "\n",
    "### Display the Multi Block Peaks\n",
    "\n",
    "Using the <b>BeakerX</b> package we can interactively view and check the Multi Block Peaks simply by calling the function <span style=\"font-family: monaco; font-size: 14px; background-color:white;\">display(MultiBlockPeaks)</span><br>\n",
    "</div>"
   ]
  },
  {
   "cell_type": "code",
   "execution_count": 29,
   "metadata": {},
   "outputs": [
    {
     "data": {
      "application/vnd.jupyter.widget-view+json": {
       "model_id": "c5370386f6e64dffbf8b605d6e5a0b14",
       "version_major": 2,
       "version_minor": 0
      }
     },
     "metadata": {},
     "output_type": "display_data"
    }
   ],
   "source": [
    "display(MultiBlockPeaks)"
   ]
  },
  {
   "cell_type": "markdown",
   "metadata": {},
   "source": [
    "<div style=\"background-color:rgb(255, 250, 250); padding:10px;  border: 1px solid lightgrey; padding-left: 1em; padding-right: 1em;\">\n",
    "\n",
    "## 7. Correlation analysis\n",
    "\n",
    "The multi blocks are then correlated to generate a correlation matrix using spearman or pearson correlation algorithm\n",
    "\n",
    "</div>  "
   ]
  },
  {
   "cell_type": "code",
   "execution_count": 30,
   "metadata": {},
   "outputs": [
    {
     "name": "stderr",
     "output_type": "stream",
     "text": [
      "100%|██████████| 229/229 [00:25<00:00,  8.82it/s]\n"
     ]
    }
   ],
   "source": [
    "correlationType = \"spearman\"; #\"pearson\"\n",
    "\n",
    "ScoreBlocks,PvalueBlocks = cimcb_vis.corrAnalysis(MultiBlockPeaks, MultiBlockData, correlationType)"
   ]
  },
  {
   "cell_type": "markdown",
   "metadata": {},
   "source": [
    "<div style=\"background-color:rgb(255, 250, 250); padding:5px;  border: 1px solid lightgrey; padding-left: 1em; padding-right: 1em;\">\n",
    "\n",
    "### Display Correlation Coefficients\n",
    "Using the <b>BeakerX</b> package we can interactively view and check the correlation coefficients simply by calling the function <span style=\"font-family: monaco; font-size: 14px; background-color:white;\">display(corr_blocks)</span><br>\n",
    "</div>"
   ]
  },
  {
   "cell_type": "code",
   "execution_count": 31,
   "metadata": {},
   "outputs": [
    {
     "data": {
      "application/vnd.jupyter.widget-view+json": {
       "model_id": "069cfc5a374e4fd7bb630e27b7afaaf5",
       "version_major": 2,
       "version_minor": 0
      }
     },
     "metadata": {},
     "output_type": "display_data"
    }
   ],
   "source": [
    "display(ScoreBlocks)"
   ]
  },
  {
   "cell_type": "markdown",
   "metadata": {},
   "source": [
    "<div style=\"background-color:rgb(255, 250, 250); padding:5px;  border: 1px solid lightgrey; padding-left: 1em; padding-right: 1em;\">\n",
    "\n",
    "### Display Correlation Pvalues\n",
    "Using the <b>BeakerX</b> package we can interactively view and check the correlation p-values simply by calling the function <span style=\"font-family: monaco; font-size: 14px; background-color:white;\">display(pval_blocks)</span><br>\n",
    "</div>"
   ]
  },
  {
   "cell_type": "code",
   "execution_count": 32,
   "metadata": {},
   "outputs": [
    {
     "data": {
      "application/vnd.jupyter.widget-view+json": {
       "model_id": "b2a524f2aaba4a4d86395006a46ed266",
       "version_major": 2,
       "version_minor": 0
      }
     },
     "metadata": {},
     "output_type": "display_data"
    }
   ],
   "source": [
    "display(PvalueBlocks)"
   ]
  },
  {
   "cell_type": "markdown",
   "metadata": {},
   "source": [
    "<div style=\"background-color:rgb(255, 250, 250); padding:10px;  border: 1px solid lightgrey; padding-left: 1em; padding-right: 1em;\">\n",
    "\n",
    "## 8.  Generate Edges\n",
    "\n",
    "The correlation data is filtered and placed in a network of edges\n",
    "\n",
    "</div>"
   ]
  },
  {
   "cell_type": "code",
   "execution_count": 33,
   "metadata": {},
   "outputs": [],
   "source": [
    "networkEdges = cimcb_vis.Edge(peaks=MultiBlockPeaks, scores=ScoreBlocks, pvalues=PvalueBlocks)\n",
    "\n",
    "params = dict({'filterScoreType': 'Pval', 'hard_threshold': 0.01, 'sign': \"both\", 'verbose': 0})\n",
    "\n",
    "networkEdges.set_params(**params)\n",
    "\n",
    "networkEdges.run()\n",
    "\n",
    "edges = networkEdges.getEdges()"
   ]
  },
  {
   "cell_type": "markdown",
   "metadata": {},
   "source": [
    "<div style=\"background-color:rgb(255, 250, 250); padding:5px;  border: 1px solid lightgrey; padding-left: 1em; padding-right: 1em;\">\n",
    "\n",
    "### Display edge data used in the Hierarchical edge bundle\n",
    "\n",
    "Using the <b>BeakerX</b> package we can interactively view and check the edge data simply by calling the function <span style=\"font-family: monaco; font-size: 14px; background-color:white;\">display(edges)</span><br>\n",
    "</div>"
   ]
  },
  {
   "cell_type": "code",
   "execution_count": 34,
   "metadata": {},
   "outputs": [
    {
     "data": {
      "application/vnd.jupyter.widget-view+json": {
       "model_id": "865489f6eaf040a4b6ac94237593be08",
       "version_major": 2,
       "version_minor": 0
      }
     },
     "metadata": {},
     "output_type": "display_data"
    }
   ],
   "source": [
    "display(edges)"
   ]
  },
  {
   "cell_type": "markdown",
   "metadata": {},
   "source": [
    "<div style=\"background-color:rgb(255, 250, 250); padding:10px;  border: 1px solid lightgrey; padding-left: 1em; padding-right: 1em;\">\n",
    "\n",
    "## 9.  Sort edges\n",
    "\n",
    "Sort the edges for visualisation preference\n",
    "\n",
    "</div>"
   ]
  },
  {
   "cell_type": "code",
   "execution_count": 35,
   "metadata": {},
   "outputs": [],
   "source": [
    "#edges.sort_values(['start_index', 'end_index'], inplace=True, ascending=True)\n",
    "#edges.sort_values('Pval', inplace=True, ascending=False)\n",
    "edges.sort_values('Score', inplace=True, ascending=False)"
   ]
  },
  {
   "cell_type": "markdown",
   "metadata": {},
   "source": [
    "<div style=\"background-color:rgb(255, 250, 250); padding:10px;  border: 1px solid lightgrey; padding-left: 1em; padding-right: 1em;\">\n",
    "\n",
    "## 10.  Plot Hierarchical Edge Bundle\n",
    "\n",
    "The edges from the network structure are then used to generate a Hierarchical edge bundle in D3 JavaScript and embedded in HTML for interactive visualisation\n",
    "\n",
    "</div>"
   ]
  },
  {
   "cell_type": "code",
   "execution_count": 39,
   "metadata": {},
   "outputs": [
    {
     "data": {
      "text/html": [
       "\n",
       "        <iframe\n",
       "            width=\"1340\"\n",
       "            height=\"1250\"\n",
       "            src=\"hEdgeBundle_multiBlock.html\"\n",
       "            frameborder=\"0\"\n",
       "            allowfullscreen\n",
       "        ></iframe>\n",
       "        "
      ],
      "text/plain": [
       "<IPython.lib.display.IFrame at 0x1a1b349ac8>"
      ]
     },
     "execution_count": 39,
     "metadata": {},
     "output_type": "execute_result"
    }
   ],
   "source": [
    "html_file = 'hEdgeBundle_multiBlock.html';\n",
    "\n",
    "params = dict({'diameter': 960, 'innerRadiusOffset': 120, 'groupSeparation': 5, 'linkFadeOpacity': 0.01, 'fontSize': 10\n",
    "               , 'backgroundColor': 'white', 'sliderTextColor': 'black', 'filterOffSet': -60, 'color_scale': 'Score', 'edge_cmap': 'brg'})\n",
    "\n",
    "bundle = cimcb_vis.edgeBundle(edges)\n",
    "\n",
    "bundle.set_params(**params)\n",
    "\n",
    "html = HTML(bundle.run()).data\n",
    "\n",
    "with open(home + html_file, 'w') as f:\n",
    "    f.write(html)\n",
    "\n",
    "IFrame(html_file, width=1340, height=1250)"
   ]
  },
  {
   "cell_type": "code",
   "execution_count": null,
   "metadata": {},
   "outputs": [],
   "source": []
  }
 ],
 "metadata": {
  "kernelspec": {
   "display_name": "Python 3",
   "language": "python",
   "name": "python3"
  },
  "language_info": {
   "codemirror_mode": {
    "name": "ipython",
    "version": 3
   },
   "file_extension": ".py",
   "mimetype": "text/x-python",
   "name": "python",
   "nbconvert_exporter": "python",
   "pygments_lexer": "ipython3",
   "version": "3.7.2"
  },
  "toc": {
   "base_numbering": 1,
   "nav_menu": {},
   "number_sections": false,
   "sideBar": false,
   "skip_h1_title": false,
   "title_cell": "Table of Contents",
   "title_sidebar": "Contents",
   "toc_cell": false,
   "toc_position": {},
   "toc_section_display": false,
   "toc_window_display": false
  }
 },
 "nbformat": 4,
 "nbformat_minor": 2
}
