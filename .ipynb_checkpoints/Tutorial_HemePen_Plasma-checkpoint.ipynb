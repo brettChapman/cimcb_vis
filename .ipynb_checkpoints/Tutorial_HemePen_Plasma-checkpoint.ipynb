{
 "cells": [
  {
   "cell_type": "markdown",
   "metadata": {},
   "source": [
    "<img src=\"images/logo_text.png\" width=\"250px\" align=\"right\">\n",
    "\n",
    "# Jupyter Tutorial: HemePen vs Plasma Hierarchical Edge Bundle\n",
    "\n",
    "#### <font size=\"3\" color='red'>To begin: Click anywhere in this cell and press 'Run' on the menu bar.<br> The next cell in the notebook is then automatically highlighted. Press 'Run' again.<br>Repeat this process until the end of the notebook.<br> Alternatively click 'Kernel' followed by 'Restart and Run All'.<br> NOTE: Some code cells may take several seconds to execute, please be patient.<br></font>  "
   ]
  },
  {
   "cell_type": "markdown",
   "metadata": {},
   "source": [
    "<div style=\"background-color:rgb(255, 250, 250); padding:5px;  border: 1px solid lightgrey; padding-left: 1em; padding-right: 1em;\">\n",
    "\n",
    "## 1. Import Packages/Modules\n",
    "The first code cell of this tutorial (below this text box) imports packages and modules into the Jupter environment to extend our capability beyond the basic functionality of python. <br>\n",
    "\n",
    "**Run the cell by clicking anywhere in the cell and then clicking \"Run\" in the Menu.** <br>\n",
    "When sucessfully executed the cell will print \"All packages successfully loaded\" in the notebook below the cell.\n",
    "</div>"
   ]
  },
  {
   "cell_type": "code",
   "execution_count": 1,
   "metadata": {},
   "outputs": [
    {
     "name": "stdout",
     "output_type": "stream",
     "text": [
      "All packages successfully loaded\n"
     ]
    }
   ],
   "source": [
    "import os\n",
    "\n",
    "home = os.getcwd() + \"/\"\n",
    "    \n",
    "from beakerx.object import beakerx \n",
    "beakerx.pandas_display_table() # by default display pandas tables as BeakerX interactive tables\n",
    "\n",
    "import numpy as np\n",
    "import pandas as pd\n",
    "from IPython.display import IFrame,HTML\n",
    "import cimcb_lite as cb\n",
    "import cimcb_vis\n",
    "print('All packages successfully loaded')"
   ]
  },
  {
   "cell_type": "markdown",
   "metadata": {},
   "source": [
    "<div style=\"background-color:rgb(255, 250, 250); padding:5px;  border: 1px solid lightgrey; padding-left: 1em; padding-right: 1em;\">\n",
    "\n",
    "## 2. Load Data and Peak sheet\n",
    "The next code cell loads the *Data* and *Peak* sheets from an Excel file:\n",
    "\n",
    "Note: For multi block data, please ensure that unique names are used across all the different blocks\n",
    "</div>"
   ]
  },
  {
   "cell_type": "code",
   "execution_count": 2,
   "metadata": {},
   "outputs": [
    {
     "name": "stdout",
     "output_type": "stream",
     "text": [
      "Loadings PeakFile: Peak_Named_Cleaned\n",
      "Loadings DataFile: Data_Named_Cleaned\n",
      "Data Table & Peak Table is suitable.\n",
      "TOTAL SAMPLES: 30 TOTAL PEAKS: 83\n",
      "Done!\n"
     ]
    }
   ],
   "source": [
    "blocks = []\n",
    "blocks.append('HemePen')\n",
    "\n",
    "file = 'C18_PEN_POSV1.xlsx' # expects an excel spreadsheet\n",
    "\n",
    "DataTable1,PeakTable1 = cb.utils.load_dataXL(home + file, DataSheet='Data_Named_Cleaned', PeakSheet='Peak_Named_Cleaned')"
   ]
  },
  {
   "cell_type": "code",
   "execution_count": 3,
   "metadata": {},
   "outputs": [
    {
     "name": "stdout",
     "output_type": "stream",
     "text": [
      "Loadings PeakFile: Peak_Named_Cleaned\n",
      "Loadings DataFile: Data_Named_Cleaned\n",
      "Data Table & Peak Table is suitable.\n",
      "TOTAL SAMPLES: 30 TOTAL PEAKS: 87\n",
      "Done!\n"
     ]
    }
   ],
   "source": [
    "blocks.append('Plasma')\n",
    "\n",
    "file = 'C18POS_PlasmaV2.xlsx' # expects an excel spreadsheet\n",
    "\n",
    "DataTable2,PeakTable2 = cb.utils.load_dataXL(home + file, DataSheet='Data_Named_Cleaned', PeakSheet='Peak_Named_Cleaned')"
   ]
  },
  {
   "cell_type": "markdown",
   "metadata": {},
   "source": [
    "<div style=\"background-color:rgb(255, 250, 250); padding:5px;  border: 1px solid lightgrey; padding-left: 1em; padding-right: 1em;\">\n",
    "\n",
    "### Display the Data sheet\n",
    "\n",
    "Using the <b>BeakerX</b> package we can interactively view and check the imported Data table simply by calling the function <span style=\"font-family: monaco; font-size: 14px; background-color:white;\">display(DataTable)</span><br>\n",
    "</div>"
   ]
  },
  {
   "cell_type": "code",
   "execution_count": 4,
   "metadata": {},
   "outputs": [
    {
     "data": {
      "application/vnd.jupyter.widget-view+json": {
       "model_id": "d41dd1b95e804ccf8f9925a3ff07e20a",
       "version_major": 2,
       "version_minor": 0
      }
     },
     "metadata": {},
     "output_type": "display_data"
    }
   ],
   "source": [
    "display(DataTable1)"
   ]
  },
  {
   "cell_type": "code",
   "execution_count": 5,
   "metadata": {},
   "outputs": [
    {
     "data": {
      "application/vnd.jupyter.widget-view+json": {
       "model_id": "c69ea7dbd4c748c7af99282bfdba94ba",
       "version_major": 2,
       "version_minor": 0
      }
     },
     "metadata": {},
     "output_type": "display_data"
    }
   ],
   "source": [
    "display(DataTable2)"
   ]
  },
  {
   "cell_type": "markdown",
   "metadata": {},
   "source": [
    "<div style=\"background-color:rgb(255, 250, 250); padding:5px;  border: 1px solid lightgrey; padding-left: 1em; padding-right: 1em;\">\n",
    "\n",
    "### Display the Peak sheet\n",
    "\n",
    "Using the <b>BeakerX</b> package we can interactively view and check the imported Peak table  simply by calling the function <span style=\"font-family: monaco; font-size: 14px; background-color:white;\">display(PeakTable)</span><br>\n",
    "</div>"
   ]
  },
  {
   "cell_type": "code",
   "execution_count": 6,
   "metadata": {},
   "outputs": [
    {
     "data": {
      "application/vnd.jupyter.widget-view+json": {
       "model_id": "2d1af0e0ba7443e0b91d2dcebe496295",
       "version_major": 2,
       "version_minor": 0
      }
     },
     "metadata": {},
     "output_type": "display_data"
    }
   ],
   "source": [
    "display(PeakTable1)"
   ]
  },
  {
   "cell_type": "code",
   "execution_count": 7,
   "metadata": {},
   "outputs": [
    {
     "data": {
      "application/vnd.jupyter.widget-view+json": {
       "model_id": "e8d9b7aa83ac4a0c966d09a5a11a50d0",
       "version_major": 2,
       "version_minor": 0
      }
     },
     "metadata": {},
     "output_type": "display_data"
    }
   ],
   "source": [
    "display(PeakTable2)"
   ]
  },
  {
   "cell_type": "markdown",
   "metadata": {},
   "source": [
    "<div style=\"background-color:rgb(255, 250, 250); padding:10px;  border: 1px solid lightgrey; padding-left: 1em; padding-right: 1em;\">\n",
    "\n",
    "## 3. Data Cleaning\n",
    "\n",
    "It is good practice to assess the quality of your data, and remove (clean out) any poorly measured metabolites. We have decided to only keep any metabolites with a QC-RSD less than 20% and with a percentage missing values less than 10%. Other values can also be used to filter your data on, such as variable of importance (VIP), p-values etc if they're available in your Peak Table.\n",
    "</div>"
   ]
  },
  {
   "cell_type": "code",
   "execution_count": 8,
   "metadata": {},
   "outputs": [
    {
     "name": "stdout",
     "output_type": "stream",
     "text": [
      "Number of peaks remaining in HemePen block: 83\n",
      "Number of peaks remaining in Plasma block: 87\n"
     ]
    }
   ],
   "source": [
    "PeakTableClean1 = PeakTable1#.query('VIP_C1 >= 1')\n",
    "PeakTableClean2 = PeakTable2#.query('VIP_C1 >= 1')\n",
    "\n",
    "\n",
    "print(\"Number of peaks remaining in {} block: {}\".format(blocks[0], len(PeakTableClean1)))\n",
    "print(\"Number of peaks remaining in {} block: {}\".format(blocks[1], len(PeakTableClean2)))"
   ]
  },
  {
   "cell_type": "markdown",
   "metadata": {},
   "source": [
    "<div style=\"background-color:rgb(255, 250, 250); padding:10px;  border: 1px solid lightgrey; padding-left: 1em; padding-right: 1em;\">\n",
    "\n",
    "## 4. Log, scale, and impute missing values\n",
    "\n",
    "Data often needs to be log transformed to compensate for skewness from overly large values, and is often the choice for biological data. Scaling is a means of normalising the data across all of the featues (peaks) so that they are equally comparable. Imputing missing values is performed to remove any NaN values which would cause problems for any downstream analysis. If there are too many missing values for a given feature (peak) then that feature should be removed entirely.\n",
    "</div>"
   ]
  },
  {
   "cell_type": "code",
   "execution_count": 9,
   "metadata": {},
   "outputs": [],
   "source": [
    "# Extract and scale the data from the DataTable \n",
    "\n",
    "#DataTable1 = DataTable1[DataTable1.SampleType == 'Sample']\n",
    "\n",
    "peaklist1 = PeakTableClean1['Name']                   # Set peaklist to the metabolite names in the PeakTableClean\n",
    "X = DataTable1[peaklist1]                          # Extract X matrix from DataTable using peaklist\n",
    "Xlog = np.log10(X)                                  # Log transform (base-10)\n",
    "Xscale = cb.utils.scale(Xlog, method='auto')        # methods include auto, pareto, vast, and level\n",
    "Xknn1 = cb.utils.knnimpute(Xscale, k=3)              # missing value imputation (knn - 3 nearest neighbors)"
   ]
  },
  {
   "cell_type": "code",
   "execution_count": 10,
   "metadata": {},
   "outputs": [],
   "source": [
    "# Extract and scale the data from the DataTable \n",
    "\n",
    "#DataTable2 = DataTable2[DataTable2.SampleType == 'Sample']\n",
    "\n",
    "peaklist2 = PeakTableClean2['Name']                   # Set peaklist to the metabolite names in the PeakTableClean\n",
    "X = DataTable2[peaklist2]                      # Extract X matrix from DataTable using peaklist\n",
    "Xlog = np.log10(X)                                  # Log transform (base-10)\n",
    "Xscale = cb.utils.scale(Xlog, method='auto')        # methods include auto, pareto, vast, and level\n",
    "Xknn2 = cb.utils.knnimpute(Xscale, k=3)              # missing value imputation (knn - 3 nearest neighbors)"
   ]
  },
  {
   "cell_type": "markdown",
   "metadata": {},
   "source": [
    "<div style=\"background-color:rgb(255, 250, 250); padding:10px;  border: 1px solid lightgrey; padding-left: 1em; padding-right: 1em;\">\n",
    "\n",
    "## 5. PCA - Quality Assesment\n",
    "\n",
    "To provide a multivariate assesment of the quality of the cleaned data set it is good practice to perform a simple principal components analysis (PCA; after suitable tranforming, scaling & missing value imputation) and labelled by sample type.\n",
    "</div>"
   ]
  },
  {
   "cell_type": "code",
   "execution_count": 11,
   "metadata": {},
   "outputs": [
    {
     "data": {
      "text/html": [
       "\n",
       "    <div class=\"bk-root\">\n",
       "        <a href=\"https://bokeh.pydata.org\" target=\"_blank\" class=\"bk-logo bk-logo-small bk-logo-notebook\"></a>\n",
       "        <span id=\"1143\">Loading BokehJS ...</span>\n",
       "    </div>"
      ]
     },
     "metadata": {},
     "output_type": "display_data"
    },
    {
     "data": {
      "application/javascript": [
       "\n",
       "(function(root) {\n",
       "  function now() {\n",
       "    return new Date();\n",
       "  }\n",
       "\n",
       "  var force = true;\n",
       "\n",
       "  if (typeof root._bokeh_onload_callbacks === \"undefined\" || force === true) {\n",
       "    root._bokeh_onload_callbacks = [];\n",
       "    root._bokeh_is_loading = undefined;\n",
       "  }\n",
       "\n",
       "  var JS_MIME_TYPE = 'application/javascript';\n",
       "  var HTML_MIME_TYPE = 'text/html';\n",
       "  var EXEC_MIME_TYPE = 'application/vnd.bokehjs_exec.v0+json';\n",
       "  var CLASS_NAME = 'output_bokeh rendered_html';\n",
       "\n",
       "  /**\n",
       "   * Render data to the DOM node\n",
       "   */\n",
       "  function render(props, node) {\n",
       "    var script = document.createElement(\"script\");\n",
       "    node.appendChild(script);\n",
       "  }\n",
       "\n",
       "  /**\n",
       "   * Handle when an output is cleared or removed\n",
       "   */\n",
       "  function handleClearOutput(event, handle) {\n",
       "    var cell = handle.cell;\n",
       "\n",
       "    var id = cell.output_area._bokeh_element_id;\n",
       "    var server_id = cell.output_area._bokeh_server_id;\n",
       "    // Clean up Bokeh references\n",
       "    if (id != null && id in Bokeh.index) {\n",
       "      Bokeh.index[id].model.document.clear();\n",
       "      delete Bokeh.index[id];\n",
       "    }\n",
       "\n",
       "    if (server_id !== undefined) {\n",
       "      // Clean up Bokeh references\n",
       "      var cmd = \"from bokeh.io.state import curstate; print(curstate().uuid_to_server['\" + server_id + \"'].get_sessions()[0].document.roots[0]._id)\";\n",
       "      cell.notebook.kernel.execute(cmd, {\n",
       "        iopub: {\n",
       "          output: function(msg) {\n",
       "            var id = msg.content.text.trim();\n",
       "            if (id in Bokeh.index) {\n",
       "              Bokeh.index[id].model.document.clear();\n",
       "              delete Bokeh.index[id];\n",
       "            }\n",
       "          }\n",
       "        }\n",
       "      });\n",
       "      // Destroy server and session\n",
       "      var cmd = \"import bokeh.io.notebook as ion; ion.destroy_server('\" + server_id + \"')\";\n",
       "      cell.notebook.kernel.execute(cmd);\n",
       "    }\n",
       "  }\n",
       "\n",
       "  /**\n",
       "   * Handle when a new output is added\n",
       "   */\n",
       "  function handleAddOutput(event, handle) {\n",
       "    var output_area = handle.output_area;\n",
       "    var output = handle.output;\n",
       "\n",
       "    // limit handleAddOutput to display_data with EXEC_MIME_TYPE content only\n",
       "    if ((output.output_type != \"display_data\") || (!output.data.hasOwnProperty(EXEC_MIME_TYPE))) {\n",
       "      return\n",
       "    }\n",
       "\n",
       "    var toinsert = output_area.element.find(\".\" + CLASS_NAME.split(' ')[0]);\n",
       "\n",
       "    if (output.metadata[EXEC_MIME_TYPE][\"id\"] !== undefined) {\n",
       "      toinsert[toinsert.length - 1].firstChild.textContent = output.data[JS_MIME_TYPE];\n",
       "      // store reference to embed id on output_area\n",
       "      output_area._bokeh_element_id = output.metadata[EXEC_MIME_TYPE][\"id\"];\n",
       "    }\n",
       "    if (output.metadata[EXEC_MIME_TYPE][\"server_id\"] !== undefined) {\n",
       "      var bk_div = document.createElement(\"div\");\n",
       "      bk_div.innerHTML = output.data[HTML_MIME_TYPE];\n",
       "      var script_attrs = bk_div.children[0].attributes;\n",
       "      for (var i = 0; i < script_attrs.length; i++) {\n",
       "        toinsert[toinsert.length - 1].firstChild.setAttribute(script_attrs[i].name, script_attrs[i].value);\n",
       "      }\n",
       "      // store reference to server id on output_area\n",
       "      output_area._bokeh_server_id = output.metadata[EXEC_MIME_TYPE][\"server_id\"];\n",
       "    }\n",
       "  }\n",
       "\n",
       "  function register_renderer(events, OutputArea) {\n",
       "\n",
       "    function append_mime(data, metadata, element) {\n",
       "      // create a DOM node to render to\n",
       "      var toinsert = this.create_output_subarea(\n",
       "        metadata,\n",
       "        CLASS_NAME,\n",
       "        EXEC_MIME_TYPE\n",
       "      );\n",
       "      this.keyboard_manager.register_events(toinsert);\n",
       "      // Render to node\n",
       "      var props = {data: data, metadata: metadata[EXEC_MIME_TYPE]};\n",
       "      render(props, toinsert[toinsert.length - 1]);\n",
       "      element.append(toinsert);\n",
       "      return toinsert\n",
       "    }\n",
       "\n",
       "    /* Handle when an output is cleared or removed */\n",
       "    events.on('clear_output.CodeCell', handleClearOutput);\n",
       "    events.on('delete.Cell', handleClearOutput);\n",
       "\n",
       "    /* Handle when a new output is added */\n",
       "    events.on('output_added.OutputArea', handleAddOutput);\n",
       "\n",
       "    /**\n",
       "     * Register the mime type and append_mime function with output_area\n",
       "     */\n",
       "    OutputArea.prototype.register_mime_type(EXEC_MIME_TYPE, append_mime, {\n",
       "      /* Is output safe? */\n",
       "      safe: true,\n",
       "      /* Index of renderer in `output_area.display_order` */\n",
       "      index: 0\n",
       "    });\n",
       "  }\n",
       "\n",
       "  // register the mime type if in Jupyter Notebook environment and previously unregistered\n",
       "  if (root.Jupyter !== undefined) {\n",
       "    var events = require('base/js/events');\n",
       "    var OutputArea = require('notebook/js/outputarea').OutputArea;\n",
       "\n",
       "    if (OutputArea.prototype.mime_types().indexOf(EXEC_MIME_TYPE) == -1) {\n",
       "      register_renderer(events, OutputArea);\n",
       "    }\n",
       "  }\n",
       "\n",
       "  \n",
       "  if (typeof (root._bokeh_timeout) === \"undefined\" || force === true) {\n",
       "    root._bokeh_timeout = Date.now() + 5000;\n",
       "    root._bokeh_failed_load = false;\n",
       "  }\n",
       "\n",
       "  var NB_LOAD_WARNING = {'data': {'text/html':\n",
       "     \"<div style='background-color: #fdd'>\\n\"+\n",
       "     \"<p>\\n\"+\n",
       "     \"BokehJS does not appear to have successfully loaded. If loading BokehJS from CDN, this \\n\"+\n",
       "     \"may be due to a slow or bad network connection. Possible fixes:\\n\"+\n",
       "     \"</p>\\n\"+\n",
       "     \"<ul>\\n\"+\n",
       "     \"<li>re-rerun `output_notebook()` to attempt to load from CDN again, or</li>\\n\"+\n",
       "     \"<li>use INLINE resources instead, as so:</li>\\n\"+\n",
       "     \"</ul>\\n\"+\n",
       "     \"<code>\\n\"+\n",
       "     \"from bokeh.resources import INLINE\\n\"+\n",
       "     \"output_notebook(resources=INLINE)\\n\"+\n",
       "     \"</code>\\n\"+\n",
       "     \"</div>\"}};\n",
       "\n",
       "  function display_loaded() {\n",
       "    var el = document.getElementById(\"1143\");\n",
       "    if (el != null) {\n",
       "      el.textContent = \"BokehJS is loading...\";\n",
       "    }\n",
       "    if (root.Bokeh !== undefined) {\n",
       "      if (el != null) {\n",
       "        el.textContent = \"BokehJS \" + root.Bokeh.version + \" successfully loaded.\";\n",
       "      }\n",
       "    } else if (Date.now() < root._bokeh_timeout) {\n",
       "      setTimeout(display_loaded, 100)\n",
       "    }\n",
       "  }\n",
       "\n",
       "\n",
       "  function run_callbacks() {\n",
       "    try {\n",
       "      root._bokeh_onload_callbacks.forEach(function(callback) {\n",
       "        if (callback != null)\n",
       "          callback();\n",
       "      });\n",
       "    } finally {\n",
       "      delete root._bokeh_onload_callbacks\n",
       "    }\n",
       "    console.debug(\"Bokeh: all callbacks have finished\");\n",
       "  }\n",
       "\n",
       "  function load_libs(css_urls, js_urls, callback) {\n",
       "    if (css_urls == null) css_urls = [];\n",
       "    if (js_urls == null) js_urls = [];\n",
       "\n",
       "    root._bokeh_onload_callbacks.push(callback);\n",
       "    if (root._bokeh_is_loading > 0) {\n",
       "      console.debug(\"Bokeh: BokehJS is being loaded, scheduling callback at\", now());\n",
       "      return null;\n",
       "    }\n",
       "    if (js_urls == null || js_urls.length === 0) {\n",
       "      run_callbacks();\n",
       "      return null;\n",
       "    }\n",
       "    console.debug(\"Bokeh: BokehJS not loaded, scheduling load and callback at\", now());\n",
       "    root._bokeh_is_loading = css_urls.length + js_urls.length;\n",
       "\n",
       "    function on_load() {\n",
       "      root._bokeh_is_loading--;\n",
       "      if (root._bokeh_is_loading === 0) {\n",
       "        console.debug(\"Bokeh: all BokehJS libraries/stylesheets loaded\");\n",
       "        run_callbacks()\n",
       "      }\n",
       "    }\n",
       "\n",
       "    function on_error() {\n",
       "      console.error(\"failed to load \" + url);\n",
       "    }\n",
       "\n",
       "    for (var i = 0; i < css_urls.length; i++) {\n",
       "      var url = css_urls[i];\n",
       "      const element = document.createElement(\"link\");\n",
       "      element.onload = on_load;\n",
       "      element.onerror = on_error;\n",
       "      element.rel = \"stylesheet\";\n",
       "      element.type = \"text/css\";\n",
       "      element.href = url;\n",
       "      console.debug(\"Bokeh: injecting link tag for BokehJS stylesheet: \", url);\n",
       "      document.body.appendChild(element);\n",
       "    }\n",
       "\n",
       "    for (var i = 0; i < js_urls.length; i++) {\n",
       "      var url = js_urls[i];\n",
       "      var element = document.createElement('script');\n",
       "      element.onload = on_load;\n",
       "      element.onerror = on_error;\n",
       "      element.async = false;\n",
       "      element.src = url;\n",
       "      console.debug(\"Bokeh: injecting script tag for BokehJS library: \", url);\n",
       "      document.head.appendChild(element);\n",
       "    }\n",
       "  };var element = document.getElementById(\"1143\");\n",
       "  if (element == null) {\n",
       "    console.error(\"Bokeh: ERROR: autoload.js configured with elementid '1143' but no matching script tag was found. \")\n",
       "    return false;\n",
       "  }\n",
       "\n",
       "  function inject_raw_css(css) {\n",
       "    const element = document.createElement(\"style\");\n",
       "    element.appendChild(document.createTextNode(css));\n",
       "    document.body.appendChild(element);\n",
       "  }\n",
       "\n",
       "  var js_urls = [\"https://cdn.pydata.org/bokeh/release/bokeh-1.1.0.min.js\", \"https://cdn.pydata.org/bokeh/release/bokeh-widgets-1.1.0.min.js\", \"https://cdn.pydata.org/bokeh/release/bokeh-tables-1.1.0.min.js\", \"https://cdn.pydata.org/bokeh/release/bokeh-gl-1.1.0.min.js\"];\n",
       "  var css_urls = [\"https://cdn.pydata.org/bokeh/release/bokeh-1.1.0.min.css\", \"https://cdn.pydata.org/bokeh/release/bokeh-widgets-1.1.0.min.css\", \"https://cdn.pydata.org/bokeh/release/bokeh-tables-1.1.0.min.css\"];\n",
       "\n",
       "  var inline_js = [\n",
       "    function(Bokeh) {\n",
       "      Bokeh.set_log_level(\"info\");\n",
       "    },\n",
       "    \n",
       "    function(Bokeh) {\n",
       "      \n",
       "    },\n",
       "    function(Bokeh) {} // ensure no trailing comma for IE\n",
       "  ];\n",
       "\n",
       "  function run_inline_js() {\n",
       "    \n",
       "    if ((root.Bokeh !== undefined) || (force === true)) {\n",
       "      for (var i = 0; i < inline_js.length; i++) {\n",
       "        inline_js[i].call(root, root.Bokeh);\n",
       "      }if (force === true) {\n",
       "        display_loaded();\n",
       "      }} else if (Date.now() < root._bokeh_timeout) {\n",
       "      setTimeout(run_inline_js, 100);\n",
       "    } else if (!root._bokeh_failed_load) {\n",
       "      console.log(\"Bokeh: BokehJS failed to load within specified timeout.\");\n",
       "      root._bokeh_failed_load = true;\n",
       "    } else if (force !== true) {\n",
       "      var cell = $(document.getElementById(\"1143\")).parents('.cell').data().cell;\n",
       "      cell.output_area.append_execute_result(NB_LOAD_WARNING)\n",
       "    }\n",
       "\n",
       "  }\n",
       "\n",
       "  if (root._bokeh_is_loading === 0) {\n",
       "    console.debug(\"Bokeh: BokehJS loaded, going straight to plotting\");\n",
       "    run_inline_js();\n",
       "  } else {\n",
       "    load_libs(css_urls, js_urls, function() {\n",
       "      console.debug(\"Bokeh: BokehJS plotting callback run at\", now());\n",
       "      run_inline_js();\n",
       "    });\n",
       "  }\n",
       "}(window));"
      ],
      "application/vnd.bokehjs_load.v0+json": "\n(function(root) {\n  function now() {\n    return new Date();\n  }\n\n  var force = true;\n\n  if (typeof root._bokeh_onload_callbacks === \"undefined\" || force === true) {\n    root._bokeh_onload_callbacks = [];\n    root._bokeh_is_loading = undefined;\n  }\n\n  \n\n  \n  if (typeof (root._bokeh_timeout) === \"undefined\" || force === true) {\n    root._bokeh_timeout = Date.now() + 5000;\n    root._bokeh_failed_load = false;\n  }\n\n  var NB_LOAD_WARNING = {'data': {'text/html':\n     \"<div style='background-color: #fdd'>\\n\"+\n     \"<p>\\n\"+\n     \"BokehJS does not appear to have successfully loaded. If loading BokehJS from CDN, this \\n\"+\n     \"may be due to a slow or bad network connection. Possible fixes:\\n\"+\n     \"</p>\\n\"+\n     \"<ul>\\n\"+\n     \"<li>re-rerun `output_notebook()` to attempt to load from CDN again, or</li>\\n\"+\n     \"<li>use INLINE resources instead, as so:</li>\\n\"+\n     \"</ul>\\n\"+\n     \"<code>\\n\"+\n     \"from bokeh.resources import INLINE\\n\"+\n     \"output_notebook(resources=INLINE)\\n\"+\n     \"</code>\\n\"+\n     \"</div>\"}};\n\n  function display_loaded() {\n    var el = document.getElementById(\"1143\");\n    if (el != null) {\n      el.textContent = \"BokehJS is loading...\";\n    }\n    if (root.Bokeh !== undefined) {\n      if (el != null) {\n        el.textContent = \"BokehJS \" + root.Bokeh.version + \" successfully loaded.\";\n      }\n    } else if (Date.now() < root._bokeh_timeout) {\n      setTimeout(display_loaded, 100)\n    }\n  }\n\n\n  function run_callbacks() {\n    try {\n      root._bokeh_onload_callbacks.forEach(function(callback) {\n        if (callback != null)\n          callback();\n      });\n    } finally {\n      delete root._bokeh_onload_callbacks\n    }\n    console.debug(\"Bokeh: all callbacks have finished\");\n  }\n\n  function load_libs(css_urls, js_urls, callback) {\n    if (css_urls == null) css_urls = [];\n    if (js_urls == null) js_urls = [];\n\n    root._bokeh_onload_callbacks.push(callback);\n    if (root._bokeh_is_loading > 0) {\n      console.debug(\"Bokeh: BokehJS is being loaded, scheduling callback at\", now());\n      return null;\n    }\n    if (js_urls == null || js_urls.length === 0) {\n      run_callbacks();\n      return null;\n    }\n    console.debug(\"Bokeh: BokehJS not loaded, scheduling load and callback at\", now());\n    root._bokeh_is_loading = css_urls.length + js_urls.length;\n\n    function on_load() {\n      root._bokeh_is_loading--;\n      if (root._bokeh_is_loading === 0) {\n        console.debug(\"Bokeh: all BokehJS libraries/stylesheets loaded\");\n        run_callbacks()\n      }\n    }\n\n    function on_error() {\n      console.error(\"failed to load \" + url);\n    }\n\n    for (var i = 0; i < css_urls.length; i++) {\n      var url = css_urls[i];\n      const element = document.createElement(\"link\");\n      element.onload = on_load;\n      element.onerror = on_error;\n      element.rel = \"stylesheet\";\n      element.type = \"text/css\";\n      element.href = url;\n      console.debug(\"Bokeh: injecting link tag for BokehJS stylesheet: \", url);\n      document.body.appendChild(element);\n    }\n\n    for (var i = 0; i < js_urls.length; i++) {\n      var url = js_urls[i];\n      var element = document.createElement('script');\n      element.onload = on_load;\n      element.onerror = on_error;\n      element.async = false;\n      element.src = url;\n      console.debug(\"Bokeh: injecting script tag for BokehJS library: \", url);\n      document.head.appendChild(element);\n    }\n  };var element = document.getElementById(\"1143\");\n  if (element == null) {\n    console.error(\"Bokeh: ERROR: autoload.js configured with elementid '1143' but no matching script tag was found. \")\n    return false;\n  }\n\n  function inject_raw_css(css) {\n    const element = document.createElement(\"style\");\n    element.appendChild(document.createTextNode(css));\n    document.body.appendChild(element);\n  }\n\n  var js_urls = [\"https://cdn.pydata.org/bokeh/release/bokeh-1.1.0.min.js\", \"https://cdn.pydata.org/bokeh/release/bokeh-widgets-1.1.0.min.js\", \"https://cdn.pydata.org/bokeh/release/bokeh-tables-1.1.0.min.js\", \"https://cdn.pydata.org/bokeh/release/bokeh-gl-1.1.0.min.js\"];\n  var css_urls = [\"https://cdn.pydata.org/bokeh/release/bokeh-1.1.0.min.css\", \"https://cdn.pydata.org/bokeh/release/bokeh-widgets-1.1.0.min.css\", \"https://cdn.pydata.org/bokeh/release/bokeh-tables-1.1.0.min.css\"];\n\n  var inline_js = [\n    function(Bokeh) {\n      Bokeh.set_log_level(\"info\");\n    },\n    \n    function(Bokeh) {\n      \n    },\n    function(Bokeh) {} // ensure no trailing comma for IE\n  ];\n\n  function run_inline_js() {\n    \n    if ((root.Bokeh !== undefined) || (force === true)) {\n      for (var i = 0; i < inline_js.length; i++) {\n        inline_js[i].call(root, root.Bokeh);\n      }if (force === true) {\n        display_loaded();\n      }} else if (Date.now() < root._bokeh_timeout) {\n      setTimeout(run_inline_js, 100);\n    } else if (!root._bokeh_failed_load) {\n      console.log(\"Bokeh: BokehJS failed to load within specified timeout.\");\n      root._bokeh_failed_load = true;\n    } else if (force !== true) {\n      var cell = $(document.getElementById(\"1143\")).parents('.cell').data().cell;\n      cell.output_area.append_execute_result(NB_LOAD_WARNING)\n    }\n\n  }\n\n  if (root._bokeh_is_loading === 0) {\n    console.debug(\"Bokeh: BokehJS loaded, going straight to plotting\");\n    run_inline_js();\n  } else {\n    load_libs(css_urls, js_urls, function() {\n      console.debug(\"Bokeh: BokehJS plotting callback run at\", now());\n      run_inline_js();\n    });\n  }\n}(window));"
     },
     "metadata": {},
     "output_type": "display_data"
    },
    {
     "data": {
      "text/html": [
       "\n",
       "\n",
       "\n",
       "\n",
       "\n",
       "\n",
       "  <div class=\"bk-root\" id=\"51714648-619f-4a65-83f4-74705229d0d1\" data-root-id=\"1181\"></div>\n"
      ]
     },
     "metadata": {},
     "output_type": "display_data"
    },
    {
     "data": {
      "application/javascript": [
       "(function(root) {\n",
       "  function embed_document(root) {\n",
       "    \n",
       "  var docs_json = {\"2e06a72d-bb3b-4c6c-8292-1412a424c71f\":{\"roots\":{\"references\":[{\"attributes\":{\"children\":[{\"id\":\"1180\",\"type\":\"ToolbarBox\"},{\"id\":\"1178\",\"type\":\"GridBox\"}]},\"id\":\"1181\",\"type\":\"Column\"},{\"attributes\":{\"active_drag\":\"auto\",\"active_inspect\":\"auto\",\"active_multi\":null,\"active_scroll\":\"auto\",\"active_tap\":\"auto\",\"tools\":[{\"id\":\"1073\",\"type\":\"PanTool\"},{\"id\":\"1074\",\"type\":\"WheelZoomTool\"},{\"id\":\"1075\",\"type\":\"BoxZoomTool\"},{\"id\":\"1076\",\"type\":\"SaveTool\"},{\"id\":\"1077\",\"type\":\"ResetTool\"},{\"id\":\"1078\",\"type\":\"HelpTool\"},{\"id\":\"1099\",\"type\":\"HoverTool\"}]},\"id\":\"1079\",\"type\":\"Toolbar\"},{\"attributes\":{},\"id\":\"1159\",\"type\":\"Selection\"},{\"attributes\":{\"callback\":null,\"data\":{\"x\":{\"__ndarray__\":\"tA5aguiLBUBYwiPZWYMFQEo9bC7CZQVAQ9BcA0AzBUD3+6doB+wEQJvu3chhkARALqy+nK0gBECL5NcJXp0DQLvZ0mv6BgNAS7HsyB1eAkAlBSkydqMBQF1u4w/E1wBAMADytrL3/z86TKyNMSH+P8QJkKXpLfw/c3sEqt0f+j86i7XdK/n3P7x/musLvPU/Lu3Lncxq8z/6FIR80QfxP+7xeq8gK+0/EuPyex0t6D9eBZjFvhrjPz+ba9998ts/Svcu7M+b0T8tVIfKb/C8PyQW1/ZjD6m/zmw3JTPnyr8F8tIvSK7Xv7zPy3i24+C/yMm+gk/a5b+SGkVz0bXqv3gvu3Q6ce+/AXjX49QD8r8BHg5lMjr0vyCfr+ttWfa/TBXrfVdf+L+J1qw72Un6v9b98oT5Fvy/CvsCA93E/b8v42aSyFH/vw213IURXgDAZNK0dDsBAcCi6GHkuZEBwE4eWeL3DgLAZGtoVHR4AsCZdMt9ws0CwGRJQm+KDgPAU3m2YYk6A8CVEBH7kVEDwIGG+nyMUwPATW1U3XZAA8AyqFPIZBgDwCP9OIx/2wLAjum87gWKAsBNnlrsSyQCwErWvGG6qgHAOcaln84dAcA0ksHpGX4AwGPk0MGBmP+/F8HVsvUR/r8lgy08Imr8v/ajcEG8ovq/KoHZMZm9+L+ZIl0krbz2v3hkKtQIovS/0umif9dv8r8cq/+rXCjwv8Y/3p/jm+u/UJ8pzwfG5r+gy9LoIdThvzOPPK6Vltm/EA4FqszCzr9gpfIA7ky0v4gj11QtJbU/Ru5Pxv9Szz8sCq4WsALaP+g2SowYJeI/VCQxJrU65z8YsUge8DzsP5VELtpPk/A/yzKiuln58j+EUaa5HE71P9VIlK8xj/c/+6gWvkW6+T8A91y1HM37P+M87mGTxf0/Jh26wKGh/z++epGLrq8AQK5AbPZ8fgFAGcW88mY8AkBbNQq8qOgCQFKsYMGQggNAIzVbXIAJBECb/a107HwEQLMjiA9e3ARA0FA5ynInBUC6tZw/3V0FQOLb4FdlfwVAtA5aguiLBUA=\",\"dtype\":\"float64\",\"shape\":[100]},\"y\":{\"__ndarray__\":\"HAvPfo6etz9wARnwgfPKPwqrO9FwBdU/crm88euC3D+DZW3iPPXhP4WgGCg8muU/xdjvCLIs6T90dKrf76jsP6hELfeuBfA/Ou9BiT+o8T/xxeIuejrzP9uWsEfAuvQ/mFyFtYUn9j+O5cd0Un/3PypOBiDEwPg/h8FHXY/q+T8o7Jwzgfv6PzkJj0eA8vs/qFon/Y3O/D8PFGR+x479P6YsDKVmMv4/jw/xxsK4/j/9nMtjUSH/P3tDAbSma/8/qwW+F3aX/z/V5fBlkqT/P6pL2Rrukv8/f2f1ZZti/z+rNkMXzBP/P/Z752vRpv4/Tppvuhsc/j+NpAT/OXT9PxkBB0jZr/w/nJCqA8TP+z9FO0sv4dT6P3L+UGkzwPk/me2Y5teS+D+79HVMBU73P4treHAK8/U/NJBG/0yD9D/PtOkLSADzP0gvDImKa/E/orJ1W2uN7z+tFqSO9ibsP5bOovQ3p+g/AM/G58oR5T/L1uobYWrhPyhTK599ads/kqMG1G3p0z/KC0gonLjIP9JNFlGcJ7M/sFxmL8gvpr9bMUJfDZfEv+6S5wEBv9G/jjXHt7kY2b/vnI6Mjijgv10jD+VcsOO/vBS2OyQg57+LvWurWXTqv3ediLqOqe2/n0Mxcjpe8L8CTvSA8NTxv+FQ5UZnN/O/neNmYDGE9L/u+ozB97n1vxKWuxd71/a/huvQEpXb97+qxYeUOcX4v2tT2cR3k/m/K4ZBCntF+r+zEebki9r6vwUmvqsQUvu/zeb3Ko6r+789WfgiqOb7vyfecqchA/y/wTI2Xt0A/L9/O26d3d/7v1xoO2lEoPu/Ty6iUFNC+78ou/Ypa8b6vyuNCq8LLfq/o9SC+dJ2+b/WV9/ffKT4v07Y2TPitve/+5Hl4veu9r8aOLX5zY31vx6yy4uOVPS/ZKw4gHwE87++uL1E8p7xvwEcs2hgJfC/A8s4Qpgy7b+N4uhum/jpv03OnMkdoOa/Khz7NZIs4792SyH2DkPfvzBV7jBJBdi/ioMIBUqn0L+ZnoglU2HCvyBPNeGVkZq//ArPfo6etz8=\",\"dtype\":\"float64\",\"shape\":[100]}},\"selected\":{\"id\":\"1161\",\"type\":\"Selection\"},\"selection_policy\":{\"id\":\"1160\",\"type\":\"UnionRenderers\"}},\"id\":\"1123\",\"type\":\"ColumnDataSource\"},{\"attributes\":{},\"id\":\"1175\",\"type\":\"UnionRenderers\"},{\"attributes\":{},\"id\":\"1153\",\"type\":\"Selection\"},{\"attributes\":{\"axis_label\":\"PC 1 (27.3%)\",\"axis_label_text_font_size\":{\"value\":\"13pt\"},\"formatter\":{\"id\":\"1092\",\"type\":\"BasicTickFormatter\"},\"ticker\":{\"id\":\"1064\",\"type\":\"BasicTicker\"}},\"id\":\"1063\",\"type\":\"LinearAxis\"},{\"attributes\":{\"items\":[{\"id\":\"1048\",\"type\":\"LegendItem\"}]},\"id\":\"1047\",\"type\":\"Legend\"},{\"attributes\":{\"label\":{\"field\":\"group\"},\"renderers\":[{\"id\":\"1089\",\"type\":\"GlyphRenderer\"}]},\"id\":\"1098\",\"type\":\"LegendItem\"},{\"attributes\":{},\"id\":\"1078\",\"type\":\"HelpTool\"},{\"attributes\":{\"ticker\":{\"id\":\"1064\",\"type\":\"BasicTicker\"}},\"id\":\"1067\",\"type\":\"Grid\"},{\"attributes\":{},\"id\":\"1011\",\"type\":\"LinearScale\"},{\"attributes\":{},\"id\":\"1069\",\"type\":\"BasicTicker\"},{\"attributes\":{\"toolbar\":{\"id\":\"1179\",\"type\":\"ProxyToolbar\"},\"toolbar_location\":\"above\"},\"id\":\"1180\",\"type\":\"ToolbarBox\"},{\"attributes\":{},\"id\":\"1059\",\"type\":\"LinearScale\"},{\"attributes\":{},\"id\":\"1061\",\"type\":\"LinearScale\"},{\"attributes\":{\"data_source\":{\"id\":\"1138\",\"type\":\"ColumnDataSource\"},\"glyph\":{\"id\":\"1139\",\"type\":\"Patch\"},\"hover_glyph\":null,\"muted_glyph\":null,\"nonselection_glyph\":{\"id\":\"1140\",\"type\":\"Patch\"},\"selection_glyph\":null,\"view\":{\"id\":\"1142\",\"type\":\"CDSView\"}},\"id\":\"1141\",\"type\":\"GlyphRenderer\"},{\"attributes\":{\"ticker\":{\"id\":\"1014\",\"type\":\"BasicTicker\"}},\"id\":\"1017\",\"type\":\"Grid\"},{\"attributes\":{\"axis_label\":\"PC 2 (14.6%)\",\"axis_label_text_font_size\":{\"value\":\"13pt\"},\"formatter\":{\"id\":\"1044\",\"type\":\"BasicTickFormatter\"},\"ticker\":{\"id\":\"1019\",\"type\":\"BasicTicker\"}},\"id\":\"1018\",\"type\":\"LinearAxis\"},{\"attributes\":{},\"id\":\"1152\",\"type\":\"UnionRenderers\"},{\"attributes\":{\"text\":\"PCA Loadings Plot (PC1 vs. PC2)\",\"text_font_size\":{\"value\":\"15pt\"}},\"id\":\"1053\",\"type\":\"Title\"},{\"attributes\":{},\"id\":\"1154\",\"type\":\"UnionRenderers\"},{\"attributes\":{\"callback\":null,\"renderers\":[{\"id\":\"1089\",\"type\":\"GlyphRenderer\"}],\"tooltips\":[[\"Name\",\"@Name\"],[\"Label\",\"@Label\"]]},\"id\":\"1099\",\"type\":\"HoverTool\"},{\"attributes\":{\"dimension\":1,\"ticker\":{\"id\":\"1019\",\"type\":\"BasicTicker\"}},\"id\":\"1022\",\"type\":\"Grid\"},{\"attributes\":{},\"id\":\"1150\",\"type\":\"UnionRenderers\"},{\"attributes\":{\"line_alpha\":0.8,\"line_color\":\"red\",\"line_width\":2,\"x\":{\"field\":\"x\"},\"y\":{\"field\":\"y\"}},\"id\":\"1104\",\"type\":\"Line\"},{\"attributes\":{\"fill_alpha\":0.01,\"fill_color\":\"blue\",\"line_alpha\":0.01,\"line_color\":\"blue\",\"x\":{\"field\":\"x\"},\"y\":{\"field\":\"y\"}},\"id\":\"1139\",\"type\":\"Patch\"},{\"attributes\":{},\"id\":\"1094\",\"type\":\"BasicTickFormatter\"},{\"attributes\":{\"bottom_units\":\"screen\",\"fill_alpha\":{\"value\":0.5},\"fill_color\":{\"value\":\"lightgrey\"},\"left_units\":\"screen\",\"level\":\"overlay\",\"line_alpha\":{\"value\":1.0},\"line_color\":{\"value\":\"black\"},\"line_dash\":[4,4],\"line_width\":{\"value\":2},\"render_mode\":\"css\",\"right_units\":\"screen\",\"top_units\":\"screen\"},\"id\":\"1096\",\"type\":\"BoxAnnotation\"},{\"attributes\":{},\"id\":\"1076\",\"type\":\"SaveTool\"},{\"attributes\":{\"text\":\"PCA Score Plot (PC1 vs. PC2)\",\"text_font_size\":{\"value\":\"15pt\"}},\"id\":\"1003\",\"type\":\"Title\"},{\"attributes\":{},\"id\":\"1176\",\"type\":\"Selection\"},{\"attributes\":{\"source\":{\"id\":\"1138\",\"type\":\"ColumnDataSource\"}},\"id\":\"1142\",\"type\":\"CDSView\"},{\"attributes\":{\"callback\":null},\"id\":\"1057\",\"type\":\"DataRange1d\"},{\"attributes\":{},\"id\":\"1163\",\"type\":\"Selection\"},{\"attributes\":{\"items\":[{\"id\":\"1098\",\"type\":\"LegendItem\"}],\"visible\":false},\"id\":\"1097\",\"type\":\"Legend\"},{\"attributes\":{\"line_alpha\":{\"value\":0.15},\"line_width\":{\"value\":3},\"location\":0},\"id\":\"1101\",\"type\":\"Span\"},{\"attributes\":{\"callback\":null},\"id\":\"1007\",\"type\":\"DataRange1d\"},{\"attributes\":{},\"id\":\"1157\",\"type\":\"Selection\"},{\"attributes\":{},\"id\":\"1064\",\"type\":\"BasicTicker\"},{\"attributes\":{\"source\":{\"id\":\"1051\",\"type\":\"ColumnDataSource\"}},\"id\":\"1090\",\"type\":\"CDSView\"},{\"attributes\":{},\"id\":\"1164\",\"type\":\"UnionRenderers\"},{\"attributes\":{\"overlay\":{\"id\":\"1096\",\"type\":\"BoxAnnotation\"}},\"id\":\"1075\",\"type\":\"BoxZoomTool\"},{\"attributes\":{},\"id\":\"1162\",\"type\":\"UnionRenderers\"},{\"attributes\":{\"axis_label\":\"PC 1 (27.3%)\",\"axis_label_text_font_size\":{\"value\":\"13pt\"},\"formatter\":{\"id\":\"1042\",\"type\":\"BasicTickFormatter\"},\"ticker\":{\"id\":\"1014\",\"type\":\"BasicTicker\"}},\"id\":\"1013\",\"type\":\"LinearAxis\"},{\"attributes\":{\"fill_alpha\":0.1,\"fill_color\":\"#1f77b4\",\"line_alpha\":0.1,\"line_color\":\"#1f77b4\",\"x\":{\"field\":\"x\"},\"y\":{\"field\":\"y\"}},\"id\":\"1140\",\"type\":\"Patch\"},{\"attributes\":{},\"id\":\"1166\",\"type\":\"UnionRenderers\"},{\"attributes\":{},\"id\":\"1158\",\"type\":\"UnionRenderers\"},{\"attributes\":{\"dimension\":1,\"ticker\":{\"id\":\"1069\",\"type\":\"BasicTicker\"}},\"id\":\"1072\",\"type\":\"Grid\"},{\"attributes\":{\"dimension\":\"height\",\"line_alpha\":{\"value\":0.15},\"line_width\":{\"value\":3},\"location\":0},\"id\":\"1102\",\"type\":\"Span\"},{\"attributes\":{\"axis_label\":\"PC 2 (14.6%)\",\"axis_label_text_font_size\":{\"value\":\"13pt\"},\"formatter\":{\"id\":\"1094\",\"type\":\"BasicTickFormatter\"},\"ticker\":{\"id\":\"1069\",\"type\":\"BasicTicker\"}},\"id\":\"1068\",\"type\":\"LinearAxis\"},{\"attributes\":{},\"id\":\"1074\",\"type\":\"WheelZoomTool\"},{\"attributes\":{},\"id\":\"1160\",\"type\":\"UnionRenderers\"},{\"attributes\":{\"fill_alpha\":{\"value\":0.6},\"fill_color\":{\"field\":\"col\"},\"line_alpha\":{\"value\":0.6},\"line_color\":{\"field\":\"col\"},\"size\":{\"units\":\"screen\",\"value\":7},\"x\":{\"field\":\"x\"},\"y\":{\"field\":\"y\"}},\"id\":\"1087\",\"type\":\"Triangle\"},{\"attributes\":{\"callback\":null},\"id\":\"1055\",\"type\":\"DataRange1d\"},{\"attributes\":{},\"id\":\"1155\",\"type\":\"Selection\"},{\"attributes\":{},\"id\":\"1092\",\"type\":\"BasicTickFormatter\"},{\"attributes\":{},\"id\":\"1151\",\"type\":\"Selection\"},{\"attributes\":{\"callback\":null},\"id\":\"1005\",\"type\":\"DataRange1d\"},{\"attributes\":{\"tools\":[{\"id\":\"1023\",\"type\":\"PanTool\"},{\"id\":\"1024\",\"type\":\"WheelZoomTool\"},{\"id\":\"1025\",\"type\":\"BoxZoomTool\"},{\"id\":\"1026\",\"type\":\"SaveTool\"},{\"id\":\"1027\",\"type\":\"ResetTool\"},{\"id\":\"1028\",\"type\":\"HelpTool\"},{\"id\":\"1049\",\"type\":\"HoverTool\"},{\"id\":\"1073\",\"type\":\"PanTool\"},{\"id\":\"1074\",\"type\":\"WheelZoomTool\"},{\"id\":\"1075\",\"type\":\"BoxZoomTool\"},{\"id\":\"1076\",\"type\":\"SaveTool\"},{\"id\":\"1077\",\"type\":\"ResetTool\"},{\"id\":\"1078\",\"type\":\"HelpTool\"},{\"id\":\"1099\",\"type\":\"HoverTool\"}]},\"id\":\"1179\",\"type\":\"ProxyToolbar\"},{\"attributes\":{\"line_alpha\":0.1,\"line_color\":\"#1f77b4\",\"line_width\":2,\"x\":{\"field\":\"x\"},\"y\":{\"field\":\"y\"}},\"id\":\"1105\",\"type\":\"Line\"},{\"attributes\":{},\"id\":\"1167\",\"type\":\"Selection\"},{\"attributes\":{\"data_source\":{\"id\":\"1051\",\"type\":\"ColumnDataSource\"},\"glyph\":{\"id\":\"1087\",\"type\":\"Triangle\"},\"hover_glyph\":null,\"muted_glyph\":null,\"nonselection_glyph\":{\"id\":\"1088\",\"type\":\"Triangle\"},\"selection_glyph\":null,\"view\":{\"id\":\"1090\",\"type\":\"CDSView\"}},\"id\":\"1089\",\"type\":\"GlyphRenderer\"},{\"attributes\":{},\"id\":\"1019\",\"type\":\"BasicTicker\"},{\"attributes\":{\"callback\":null,\"data\":{\"Idx\":[1,2,3,4,5,6,7,8,9,10,11,12,13,14,15,16,17,18,19,20,21,22,23,24,25,26,27,28,29,30],\"SampleType\":[\"Sample\",\"Sample\",\"QC\",\"Sample\",\"Sample\",\"Sample\",\"Sample\",\"Sample\",\"QC\",\"Sample\",\"Sample\",\"Sample\",\"Sample\",\"Sample\",\"Sample\",\"Sample\",\"Sample\",\"QC\",\"Sample\",\"Sample\",\"Sample\",\"Sample\",\"QC\",\"Sample\",\"QC\",\"Sample\",\"Sample\",\"Sample\",\"Sample\",\"Sample\"],\"col\":[\"blue\",\"blue\",\"red\",\"blue\",\"blue\",\"blue\",\"blue\",\"blue\",\"red\",\"blue\",\"blue\",\"blue\",\"blue\",\"blue\",\"blue\",\"blue\",\"blue\",\"red\",\"blue\",\"blue\",\"blue\",\"blue\",\"red\",\"blue\",\"red\",\"blue\",\"blue\",\"blue\",\"blue\",\"blue\"],\"group\":[\"Sample\",\"Sample\",\"QC\",\"Sample\",\"Sample\",\"Sample\",\"Sample\",\"Sample\",\"QC\",\"Sample\",\"Sample\",\"Sample\",\"Sample\",\"Sample\",\"Sample\",\"Sample\",\"Sample\",\"QC\",\"Sample\",\"Sample\",\"Sample\",\"Sample\",\"QC\",\"Sample\",\"QC\",\"Sample\",\"Sample\",\"Sample\",\"Sample\",\"Sample\"],\"x\":{\"__ndarray__\":\"iGFdoskQCMDA4SToUXzpP2iEfPsi5c6/JvFMhU14AcBjT6dsZiT2PwU09naENwPA82RcVXNqBECITzuWqZsDwKUc9+Suqfa/01CLMhwP0L99Ll4/jVvTv0+u4TX1yTZAtuXpzkEq9T/DjcNiow/oPyP0tnKRKg1A75YSCp+7A8CWojrCqQn1vxpmOk/X99y/WJaebQK+CMBbjPBn7ivoP2eFXfyZDLq/LzhDnBAC/7/3UlGyGPflv1BxqPTNr3e/lwCx8Qww5b8sc/x4rDbxv2xcdyBUyOc/P4jm/IetCsBH0/x3pM/Sv0TDqwX9OxzA\",\"dtype\":\"float64\",\"shape\":[30]},\"y\":{\"__ndarray__\":\"7wpo8pY0HEBx3ezGY3IAwBA36D74i+C/n+xugRTeBUCI3LIkwZwSwLXvs4mKEvy/QW8Tpz/tA8CnrHET9zIAwDEq1+km7ua/A7boOWhfEEDtZhtnhFILwIPF5hF72gxAVnQLcp7JHEAmvUCaMzvlv/CPsfAr6QjAEzCyxdraCEBBmdyoZ3kCwPcFE/h5wN2/HFOK5eB6GUDgeDh2hxsQwKpAqzHUkfW/Z0ZADispC0CIcLt/p1PPvwFdKf7BAwPABAA2GPJQ7L810o71Q1oKQM5t73RjaxDAXKC/FXHICMB4nvwAk+YLwLLXjZ0EOwdA\",\"dtype\":\"float64\",\"shape\":[30]}},\"selected\":{\"id\":\"1151\",\"type\":\"Selection\"},\"selection_policy\":{\"id\":\"1150\",\"type\":\"UnionRenderers\"}},\"id\":\"1001\",\"type\":\"ColumnDataSource\"},{\"attributes\":{},\"id\":\"1165\",\"type\":\"Selection\"},{\"attributes\":{},\"id\":\"1077\",\"type\":\"ResetTool\"},{\"attributes\":{},\"id\":\"1009\",\"type\":\"LinearScale\"},{\"attributes\":{},\"id\":\"1156\",\"type\":\"UnionRenderers\"},{\"attributes\":{\"below\":[{\"id\":\"1013\",\"type\":\"LinearAxis\"}],\"center\":[{\"id\":\"1017\",\"type\":\"Grid\"},{\"id\":\"1022\",\"type\":\"Grid\"},{\"id\":\"1047\",\"type\":\"Legend\"}],\"left\":[{\"id\":\"1018\",\"type\":\"LinearAxis\"}],\"min_border_bottom\":20,\"min_border_left\":20,\"min_border_right\":20,\"min_border_top\":20,\"plot_height\":430,\"plot_width\":490,\"renderers\":[{\"id\":\"1039\",\"type\":\"GlyphRenderer\"},{\"id\":\"1106\",\"type\":\"GlyphRenderer\"},{\"id\":\"1111\",\"type\":\"GlyphRenderer\"},{\"id\":\"1116\",\"type\":\"GlyphRenderer\"},{\"id\":\"1121\",\"type\":\"GlyphRenderer\"},{\"id\":\"1126\",\"type\":\"GlyphRenderer\"},{\"id\":\"1131\",\"type\":\"GlyphRenderer\"},{\"id\":\"1136\",\"type\":\"GlyphRenderer\"},{\"id\":\"1141\",\"type\":\"GlyphRenderer\"}],\"title\":{\"id\":\"1003\",\"type\":\"Title\"},\"toolbar\":{\"id\":\"1029\",\"type\":\"Toolbar\"},\"toolbar_location\":null,\"x_range\":{\"id\":\"1005\",\"type\":\"DataRange1d\"},\"x_scale\":{\"id\":\"1009\",\"type\":\"LinearScale\"},\"y_range\":{\"id\":\"1007\",\"type\":\"DataRange1d\"},\"y_scale\":{\"id\":\"1011\",\"type\":\"LinearScale\"}},\"id\":\"1002\",\"subtype\":\"Figure\",\"type\":\"Plot\"},{\"attributes\":{},\"id\":\"1073\",\"type\":\"PanTool\"},{\"attributes\":{},\"id\":\"1161\",\"type\":\"Selection\"},{\"attributes\":{},\"id\":\"1026\",\"type\":\"SaveTool\"},{\"attributes\":{\"source\":{\"id\":\"1001\",\"type\":\"ColumnDataSource\"}},\"id\":\"1040\",\"type\":\"CDSView\"},{\"attributes\":{\"fill_alpha\":{\"value\":0.1},\"fill_color\":{\"value\":\"#1f77b4\"},\"line_alpha\":{\"value\":0.1},\"line_color\":{\"value\":\"#1f77b4\"},\"size\":{\"units\":\"screen\",\"value\":5},\"x\":{\"field\":\"x\"},\"y\":{\"field\":\"y\"}},\"id\":\"1038\",\"type\":\"Circle\"},{\"attributes\":{\"data_source\":{\"id\":\"1108\",\"type\":\"ColumnDataSource\"},\"glyph\":{\"id\":\"1109\",\"type\":\"Line\"},\"hover_glyph\":null,\"muted_glyph\":null,\"nonselection_glyph\":{\"id\":\"1110\",\"type\":\"Line\"},\"selection_glyph\":null,\"view\":{\"id\":\"1112\",\"type\":\"CDSView\"}},\"id\":\"1111\",\"type\":\"GlyphRenderer\"},{\"attributes\":{\"fill_alpha\":0.1,\"fill_color\":\"#1f77b4\",\"line_alpha\":0.1,\"line_color\":\"#1f77b4\",\"x\":{\"field\":\"x\"},\"y\":{\"field\":\"y\"}},\"id\":\"1135\",\"type\":\"Patch\"},{\"attributes\":{\"bottom_units\":\"screen\",\"fill_alpha\":{\"value\":0.5},\"fill_color\":{\"value\":\"lightgrey\"},\"left_units\":\"screen\",\"level\":\"overlay\",\"line_alpha\":{\"value\":1.0},\"line_color\":{\"value\":\"black\"},\"line_dash\":[4,4],\"line_width\":{\"value\":2},\"render_mode\":\"css\",\"right_units\":\"screen\",\"top_units\":\"screen\"},\"id\":\"1046\",\"type\":\"BoxAnnotation\"},{\"attributes\":{\"line_alpha\":0.1,\"line_color\":\"#1f77b4\",\"x\":{\"field\":\"x\"},\"y\":{\"field\":\"y\"}},\"id\":\"1110\",\"type\":\"Line\"},{\"attributes\":{\"line_alpha\":0.4,\"line_color\":\"blue\",\"x\":{\"field\":\"x\"},\"y\":{\"field\":\"y\"}},\"id\":\"1129\",\"type\":\"Line\"},{\"attributes\":{\"children\":[[{\"id\":\"1002\",\"subtype\":\"Figure\",\"type\":\"Plot\"},0,0],[{\"id\":\"1052\",\"subtype\":\"Figure\",\"type\":\"Plot\"},0,1]]},\"id\":\"1178\",\"type\":\"GridBox\"},{\"attributes\":{},\"id\":\"1023\",\"type\":\"PanTool\"},{\"attributes\":{\"source\":{\"id\":\"1103\",\"type\":\"ColumnDataSource\"}},\"id\":\"1107\",\"type\":\"CDSView\"},{\"attributes\":{\"data_source\":{\"id\":\"1133\",\"type\":\"ColumnDataSource\"},\"glyph\":{\"id\":\"1134\",\"type\":\"Patch\"},\"hover_glyph\":null,\"muted_glyph\":null,\"nonselection_glyph\":{\"id\":\"1135\",\"type\":\"Patch\"},\"selection_glyph\":null,\"view\":{\"id\":\"1137\",\"type\":\"CDSView\"}},\"id\":\"1136\",\"type\":\"GlyphRenderer\"},{\"attributes\":{},\"id\":\"1014\",\"type\":\"BasicTicker\"},{\"attributes\":{\"source\":{\"id\":\"1128\",\"type\":\"ColumnDataSource\"}},\"id\":\"1132\",\"type\":\"CDSView\"},{\"attributes\":{\"data_source\":{\"id\":\"1128\",\"type\":\"ColumnDataSource\"},\"glyph\":{\"id\":\"1129\",\"type\":\"Line\"},\"hover_glyph\":null,\"muted_glyph\":null,\"nonselection_glyph\":{\"id\":\"1130\",\"type\":\"Line\"},\"selection_glyph\":null,\"view\":{\"id\":\"1132\",\"type\":\"CDSView\"}},\"id\":\"1131\",\"type\":\"GlyphRenderer\"},{\"attributes\":{\"fill_alpha\":0.07,\"fill_color\":\"red\",\"line_alpha\":0.07,\"line_color\":\"red\",\"x\":{\"field\":\"x\"},\"y\":{\"field\":\"y\"}},\"id\":\"1114\",\"type\":\"Patch\"},{\"attributes\":{},\"id\":\"1042\",\"type\":\"BasicTickFormatter\"},{\"attributes\":{\"active_drag\":\"auto\",\"active_inspect\":\"auto\",\"active_multi\":null,\"active_scroll\":\"auto\",\"active_tap\":\"auto\",\"tools\":[{\"id\":\"1023\",\"type\":\"PanTool\"},{\"id\":\"1024\",\"type\":\"WheelZoomTool\"},{\"id\":\"1025\",\"type\":\"BoxZoomTool\"},{\"id\":\"1026\",\"type\":\"SaveTool\"},{\"id\":\"1027\",\"type\":\"ResetTool\"},{\"id\":\"1028\",\"type\":\"HelpTool\"},{\"id\":\"1049\",\"type\":\"HoverTool\"}]},\"id\":\"1029\",\"type\":\"Toolbar\"},{\"attributes\":{\"data_source\":{\"id\":\"1118\",\"type\":\"ColumnDataSource\"},\"glyph\":{\"id\":\"1119\",\"type\":\"Patch\"},\"hover_glyph\":null,\"muted_glyph\":null,\"nonselection_glyph\":{\"id\":\"1120\",\"type\":\"Patch\"},\"selection_glyph\":null,\"view\":{\"id\":\"1122\",\"type\":\"CDSView\"}},\"id\":\"1121\",\"type\":\"GlyphRenderer\"},{\"attributes\":{\"source\":{\"id\":\"1113\",\"type\":\"ColumnDataSource\"}},\"id\":\"1117\",\"type\":\"CDSView\"},{\"attributes\":{\"callback\":null,\"renderers\":[{\"id\":\"1039\",\"type\":\"GlyphRenderer\"}],\"tooltips\":[[\"Idx\",\"@Idx\"],[\"SampleType\",\"@SampleType\"]]},\"id\":\"1049\",\"type\":\"HoverTool\"},{\"attributes\":{\"line_alpha\":0.8,\"line_color\":\"blue\",\"line_width\":2,\"x\":{\"field\":\"x\"},\"y\":{\"field\":\"y\"}},\"id\":\"1124\",\"type\":\"Line\"},{\"attributes\":{\"callback\":null,\"data\":{\"x\":{\"__ndarray__\":\"Flpj9cPF8r9Ca33NFbLyv6HFLPSKlvK/1lSczT9z8r/TFW27WEjyvyhmNfcBFvK/dHrqZG/c8b86+mJd3Jvxv4jkKXGLVPG/Rs3gI8YG8b9VLnig3LLwvw3qi2YlWfC/el1y4vnz77+DSZOviivvv25YLNHLWe6/y8oSfZV/7b8pk1+jyJ3sv/RmkAZOteu/ALOYSxXH6r/mx9kCFNTpv1DjAKtE3ei/WQXQrqXj57+dvtteOOjmv4VOTOj/6+W/hn2zSQDw5L+BmQpHPfXjv/DY7F25/OK/XSsiu3QH4r+sIo0ybBbhv/wqjDqYKuC/inC119eJ3r+62vQNqMzcvxYZTQBsH9u/hYeaJd6D2b83SwW7pvvXv6HGsA5aiNa/AFv33nYr1b+kE+DPZObTv83uZPhyutK/o+oHidao0b/y5hqNqbLQv9DMBZDTsc+/esREX+84zr+Sq/AJK/zMv7oJxRfN/Mu/cMyixdw7y78MXTb2ILrKvyau82QfeMq/IpY7HBx2yr+CkTgvGbTKv0Y5u7fWMcu/+qEYGNPuy79mvcaAS+rMv/gDLbk8I86/LmXaKmSYz78YhgaXIKTQv8iYGkuLmNG/Jh9tPnao0r8xm4QkydLTv/18mnhQFtW/qlaaur5x1r8oX+nGrePXvw/kk0egatm/vhtkPQMF27/EI02fL7Hcv1/yfQ5sbd6/4FutTvcb4L+w18NTbwfhvzplj1wr+OG/ofyMQTPt4r9YHndtiuXjvxgQpOEw4OS/k2noPSTc5b/g6+3KYNjmv40X7IXi0+e/JIiuLKbN6L8+zNRIqsTpv0U9ODnwt+q/OkNmOH2m678IcyBfW4/sv9YP2KGace2/fKMfyFFM7r9GnBNdnx7vv4gewpeq5++/KDxRHVJT8L9I7pq0Y63wv8CXejmtAfG/lVpdyddP8b8TKfHQkpfxv3LcM1+U2PG/WqOrcZkS8r9aNno5ZkXyvy+eA1nGcPK/jv7oGY2U8r/HwB+blbDyv2Wb9fbCxPK/1UbaYADR8r9HKtA6QdXyvwrnbSKB0fK/Flpj9cPF8r8=\",\"dtype\":\"float64\",\"shape\":[100]},\"y\":{\"__ndarray__\":\"7ZbnjcX/5b9I/5qh7Hnmv/QUGuaQ7+a/RrbkFjlg57/jJOMSccvnvzNqG1TKMOi/eWKfYdyP6L+W/T07Rejov4WyiL6pOem/8ALFBLaD6b82OGm5Hcbpv58yy2icAOq/Ni+wxvUy6r+hx3Ts9Vzqv7AZjY5xfuq/LfAlKUaX6r/E67gjWqfqvwf/buucruq/9Qo2BAet6r+K/3cQmqLqv2CMa89gj+q/AB4AEm9z6r9Ak3Cm4U7qvza5kTreIeq/gin7NJPs6b+QlDKFN6/pv+fFCmsKaum/XMJwNVMd6b9zNer4YMnov4LzED6Kbui/RJhfqCwN6L8eNauVrKXnv+aOrbZ0OOe/apEKofXF5r/wVkJbpU7mv1plB+P+0uW/xIp2roFT5b/uCbMosdDkvyyHbioUS+S/rFrobjTD47+fkfMFnjnjv3f4lcPeruK/agLVrYUj4r/cQkdpIpjhv4hyAqVEDeG/p6J+hnuD4L9Elw4sqvbfv96kpFi76t6/0OGnwz7k3b82RckAQ+Tcv+Wml+/P69u/vCN+q+X72r+57MODexXavz+knfx+Odm/bRNX2tJo2L/4mZE3TqTXvzVOiKe77Na/Cl8+ZdhC1r/E+G6QU6fVv0/AB3nNGtW/fvrn+dad1L9BuI7j8DDUv77zUXeL1NO/+36n8wWJ078XDPcxrk7Tv8iDWlbAJdO/9mKfkWYO0781B8n1uAjTvwe/QF29FNO/kjHNZGcy078DVld4mGHTv+bQb/IfotO/Wjl0Trvz0785lSBtFlbUv65dRuvLyNS/8ahPimVL1b+AvSKqXN3Vv1Rp6NMafta/7A8mVfos178fjYvqRunXv2bbxHk+sti/fPGP2RGH2b/olkin5Wbav7AODinTUNu//HmZO+lD3L/Xx89KLT/dv6X2DlScQd6/NmQs8StK37+VeYi15Svgv4L5a2mytOC/zIAnEO8+4b/gyFcqDcrhv8MzM1B9VeK/Nxpdxa/g4r8/SBANFWvjv3HsB34e9OO/EYKO1T575L+pHhvJ6v/kvwgJ55WZgeW/7JbnjcX/5b8=\",\"dtype\":\"float64\",\"shape\":[100]}},\"selected\":{\"id\":\"1157\",\"type\":\"Selection\"},\"selection_policy\":{\"id\":\"1156\",\"type\":\"UnionRenderers\"}},\"id\":\"1113\",\"type\":\"ColumnDataSource\"},{\"attributes\":{\"line_alpha\":0.4,\"line_color\":\"red\",\"x\":{\"field\":\"x\"},\"y\":{\"field\":\"y\"}},\"id\":\"1109\",\"type\":\"Line\"},{\"attributes\":{\"fill_alpha\":0.1,\"fill_color\":\"#1f77b4\",\"line_alpha\":0.1,\"line_color\":\"#1f77b4\",\"x\":{\"field\":\"x\"},\"y\":{\"field\":\"y\"}},\"id\":\"1115\",\"type\":\"Patch\"},{\"attributes\":{\"source\":{\"id\":\"1118\",\"type\":\"ColumnDataSource\"}},\"id\":\"1122\",\"type\":\"CDSView\"},{\"attributes\":{\"data_source\":{\"id\":\"1001\",\"type\":\"ColumnDataSource\"},\"glyph\":{\"id\":\"1037\",\"type\":\"Circle\"},\"hover_glyph\":null,\"muted_glyph\":null,\"nonselection_glyph\":{\"id\":\"1038\",\"type\":\"Circle\"},\"selection_glyph\":null,\"view\":{\"id\":\"1040\",\"type\":\"CDSView\"}},\"id\":\"1039\",\"type\":\"GlyphRenderer\"},{\"attributes\":{\"callback\":null,\"data\":{\"x\":{\"__ndarray__\":\"tA5aguiLBUBYwiPZWYMFQEo9bC7CZQVAQ9BcA0AzBUD3+6doB+wEQJvu3chhkARALqy+nK0gBECL5NcJXp0DQLvZ0mv6BgNAS7HsyB1eAkAlBSkydqMBQF1u4w/E1wBAMADytrL3/z86TKyNMSH+P8QJkKXpLfw/c3sEqt0f+j86i7XdK/n3P7x/musLvPU/Lu3Lncxq8z/6FIR80QfxP+7xeq8gK+0/EuPyex0t6D9eBZjFvhrjPz+ba9998ts/Svcu7M+b0T8tVIfKb/C8PyQW1/ZjD6m/zmw3JTPnyr8F8tIvSK7Xv7zPy3i24+C/yMm+gk/a5b+SGkVz0bXqv3gvu3Q6ce+/AXjX49QD8r8BHg5lMjr0vyCfr+ttWfa/TBXrfVdf+L+J1qw72Un6v9b98oT5Fvy/CvsCA93E/b8v42aSyFH/vw213IURXgDAZNK0dDsBAcCi6GHkuZEBwE4eWeL3DgLAZGtoVHR4AsCZdMt9ws0CwGRJQm+KDgPAU3m2YYk6A8CVEBH7kVEDwIGG+nyMUwPATW1U3XZAA8AyqFPIZBgDwCP9OIx/2wLAjum87gWKAsBNnlrsSyQCwErWvGG6qgHAOcaln84dAcA0ksHpGX4AwGPk0MGBmP+/F8HVsvUR/r8lgy08Imr8v/ajcEG8ovq/KoHZMZm9+L+ZIl0krbz2v3hkKtQIovS/0umif9dv8r8cq/+rXCjwv8Y/3p/jm+u/UJ8pzwfG5r+gy9LoIdThvzOPPK6Vltm/EA4FqszCzr9gpfIA7ky0v4gj11QtJbU/Ru5Pxv9Szz8sCq4WsALaP+g2SowYJeI/VCQxJrU65z8YsUge8DzsP5VELtpPk/A/yzKiuln58j+EUaa5HE71P9VIlK8xj/c/+6gWvkW6+T8A91y1HM37P+M87mGTxf0/Jh26wKGh/z++epGLrq8AQK5AbPZ8fgFAGcW88mY8AkBbNQq8qOgCQFKsYMGQggNAIzVbXIAJBECb/a107HwEQLMjiA9e3ARA0FA5ynInBUC6tZw/3V0FQOLb4FdlfwVAtA5aguiLBUA=\",\"dtype\":\"float64\",\"shape\":[100]},\"y\":{\"__ndarray__\":\"HAvPfo6etz9wARnwgfPKPwqrO9FwBdU/crm88euC3D+DZW3iPPXhP4WgGCg8muU/xdjvCLIs6T90dKrf76jsP6hELfeuBfA/Ou9BiT+o8T/xxeIuejrzP9uWsEfAuvQ/mFyFtYUn9j+O5cd0Un/3PypOBiDEwPg/h8FHXY/q+T8o7Jwzgfv6PzkJj0eA8vs/qFon/Y3O/D8PFGR+x479P6YsDKVmMv4/jw/xxsK4/j/9nMtjUSH/P3tDAbSma/8/qwW+F3aX/z/V5fBlkqT/P6pL2Rrukv8/f2f1ZZti/z+rNkMXzBP/P/Z752vRpv4/Tppvuhsc/j+NpAT/OXT9PxkBB0jZr/w/nJCqA8TP+z9FO0sv4dT6P3L+UGkzwPk/me2Y5teS+D+79HVMBU73P4treHAK8/U/NJBG/0yD9D/PtOkLSADzP0gvDImKa/E/orJ1W2uN7z+tFqSO9ibsP5bOovQ3p+g/AM/G58oR5T/L1uobYWrhPyhTK599ads/kqMG1G3p0z/KC0gonLjIP9JNFlGcJ7M/sFxmL8gvpr9bMUJfDZfEv+6S5wEBv9G/jjXHt7kY2b/vnI6Mjijgv10jD+VcsOO/vBS2OyQg57+LvWurWXTqv3ediLqOqe2/n0Mxcjpe8L8CTvSA8NTxv+FQ5UZnN/O/neNmYDGE9L/u+ozB97n1vxKWuxd71/a/huvQEpXb97+qxYeUOcX4v2tT2cR3k/m/K4ZBCntF+r+zEebki9r6vwUmvqsQUvu/zeb3Ko6r+789WfgiqOb7vyfecqchA/y/wTI2Xt0A/L9/O26d3d/7v1xoO2lEoPu/Ty6iUFNC+78ou/Ypa8b6vyuNCq8LLfq/o9SC+dJ2+b/WV9/ffKT4v07Y2TPitve/+5Hl4veu9r8aOLX5zY31vx6yy4uOVPS/ZKw4gHwE87++uL1E8p7xvwEcs2hgJfC/A8s4Qpgy7b+N4uhum/jpv03OnMkdoOa/Khz7NZIs4792SyH2DkPfvzBV7jBJBdi/ioMIBUqn0L+ZnoglU2HCvyBPNeGVkZq//ArPfo6etz8=\",\"dtype\":\"float64\",\"shape\":[100]}},\"selected\":{\"id\":\"1165\",\"type\":\"Selection\"},\"selection_policy\":{\"id\":\"1164\",\"type\":\"UnionRenderers\"}},\"id\":\"1133\",\"type\":\"ColumnDataSource\"},{\"attributes\":{\"callback\":null,\"data\":{\"x\":{\"__ndarray__\":\"7tIS6IdL/L+BxWA/hh/8v0cH9hHw4fu/BYnw2wST+78ZjDj3FTP7v7fWpEeGwvq/fJYK1clB+r/qBaJTZbH5v7ofO5vtEfm/zGLPDQdk+L+Jzw7uZKj3v6fKlqbI3/a/kGCRAgEL9r9Fb4pY6Sr1v3pzVqhoQPS/PQr0rHBM879gnF3j/E/yvyoQTIcRTPG/FLz1hrpB8L+IQLzdFGTuv280pp0yPOy/EJ12MgcO6r9xwL770dvnv9lruILWp+W/PP3fJFp0479xu6u8oUPhv3h8lJXeL96/oziiRP/m2b9uG4Q0ELHVvxthjo1oktG/oKj88Y4ey7+k/J2An1fDvwDsNScOsLe/AACQtgGeor9gfACCWZSRPzj13VQXXrE/gKcCpaKOvT/wpbrLE3XEP2y3+IR4ssk/4OB0wRh6zj+CjA+Vg2PRPw626nBqStM/MMqdC8vv1D/MZr4H81HWP1Ce5lJ1b9c/kOgHnitH2D+QY8yMN9jYP+ipzZoDItk/CPe0tUMk2T8ouaWL9d7YP6i7oY1gUtg/uHLkpRV/1z8kUoGi7mXWP8Ar31QNCNU/IAX4Ztpm0z+0WpHnA4TRP5wZ2B33ws4/POJpe+kCyj/Az41wxMzEP4BkVILOS74/UGZdxUoosj8AOjbVA+6UPwCcJVF42qC/oFuvENjDtr/oGmKCxdzCv5qYHaR0n8q/6FtlwfxQ0b9imR8zCW7Vv8wH4iWiotm/aC0B0nHq3b8Z5b5QhyDhvzzUNd7/UOO/DF+J0mCE5b84DoVvZbjnv2ZvQE7I6um/UHNxtkUZ7L8g6AL0nUHuv9OGQ9TLMPC/fEMRC4E78b+GU8mw2z/yv+egfWTPPPO/bt2ZZlcx9L/Ue6yldxz1v6gIPcI9/fW/gAqkCMLS9r8u3uJfKJz3v6BahSyhWPi/qFyjJmoH+b9boCUiz6f5vy93f8gqOfq/kOcdQ+e6+r8mhtzVfiz7vxDR4Gh8jfu/JPJNAXzd+7/ze1QoKxz8v8HkM0BJSfy/GR/Wxqdk/L/1psCFKm78vxOYKa/HZfy/7tIS6IdL/L8=\",\"dtype\":\"float64\",\"shape\":[100]},\"y\":{\"__ndarray__\":\"/kZijIbR6r/VkVvNquLrvwW63NK46ey/yLJIc6Hl7b8Dx1kCYdXuv4HHzlwAuO+/LiaW80pG8L8it0U/I6nwv3zePi0jBPG/LMyO7+xW8b9OMTkvK6Hxv6aYMGSR4vG/BlA6JNwa8r9jkGxo0Unyv+VB/8hAb/K/arMxrwOL8r/u1RF9/Zzyv9X6+6obpfK/hKy02lWj8r/O8AjgrZfyv8wQ7L4vgvK/SNcUn/Fi8r85Cie1Ezryv+qpgCHAB/K/qi7NxCrM8b9SiIsKkYfxv4r/vak5OvG/nDwFXHTk8L/il3GLmYbwv+BqX/cJIfC/F6p4oVxo779Sgzic7YDuv8baGnC1jO2/X1BF3K+M7L8KJ2XK5IHrv7M6oz5nbeq/nt4lPFRQ6b/T3kSf0SvovxZ/nu4MAee/QLhFJDrR5b9rGkpwkp3kv9iU4PVSZ+O/RO55hLsv4r926hdODfjgv4TiaTgTg9+/LAcnCeEa3b81yZU+/7nav5sqyn7hYti/PDi/XvEX1r8HILnli9vTv1ULmB3/r9G/gkc9ZQ8vz79qdT5KnSjLv54x4B7OUMe/aCTlBJirw7/wccL1vDzAv5js/8WND7q/qBO1IAggtL/Ay6utDmKtv4AKU5FKkKO/QG/qVcaplb+Ap5JAxsZ5v4BX8RHk33k/gOCN2ukFkT9AqP25Py2ZP6AmIveS5Z4/wNhbDn8UoT/A8O3/EXqhP3Cu4ZsZo6A/gPKW9eYgnT9ggJk7hYiWP0Ax2+q0B4s/AMkqsJPhYD/ASBQ7YkWHv4AAceykqpu/gDOlQpH1pr/oZbxZVpSwvyi6XZkQMra/fLHNVS1OvL/GUXceMHHBv+oCeZnw88S/iFv7p7mryL/SdwYrtpTMv/q8+yVvVdC/zF0S0v100r+2tUDK1qbUv6pXY+S26Na/TMS9cEo42b/GUQagL5Pbv9oQAfj49t2/CNoQ6pcw4L9yDNB3q2fhvxaqMHt2n+K/IA0IjbfW47/AhF3ULQzlv8DmJlGaPua/wp4dJcFs57/CQ1nZapXov0EQYJ9lt+m//kZijIbR6r8=\",\"dtype\":\"float64\",\"shape\":[100]}},\"selected\":{\"id\":\"1155\",\"type\":\"Selection\"},\"selection_policy\":{\"id\":\"1154\",\"type\":\"UnionRenderers\"}},\"id\":\"1108\",\"type\":\"ColumnDataSource\"},{\"attributes\":{},\"id\":\"1028\",\"type\":\"HelpTool\"},{\"attributes\":{\"data_source\":{\"id\":\"1113\",\"type\":\"ColumnDataSource\"},\"glyph\":{\"id\":\"1114\",\"type\":\"Patch\"},\"hover_glyph\":null,\"muted_glyph\":null,\"nonselection_glyph\":{\"id\":\"1115\",\"type\":\"Patch\"},\"selection_glyph\":null,\"view\":{\"id\":\"1117\",\"type\":\"CDSView\"}},\"id\":\"1116\",\"type\":\"GlyphRenderer\"},{\"attributes\":{\"data_source\":{\"id\":\"1103\",\"type\":\"ColumnDataSource\"},\"glyph\":{\"id\":\"1104\",\"type\":\"Line\"},\"hover_glyph\":null,\"muted_glyph\":null,\"nonselection_glyph\":{\"id\":\"1105\",\"type\":\"Line\"},\"selection_glyph\":null,\"view\":{\"id\":\"1107\",\"type\":\"CDSView\"}},\"id\":\"1106\",\"type\":\"GlyphRenderer\"},{\"attributes\":{\"fill_alpha\":0.1,\"fill_color\":\"#1f77b4\",\"line_alpha\":0.1,\"line_color\":\"#1f77b4\",\"x\":{\"field\":\"x\"},\"y\":{\"field\":\"y\"}},\"id\":\"1120\",\"type\":\"Patch\"},{\"attributes\":{\"fill_alpha\":{\"value\":0.1},\"fill_color\":{\"value\":\"#1f77b4\"},\"line_alpha\":{\"value\":0.1},\"line_color\":{\"value\":\"#1f77b4\"},\"size\":{\"units\":\"screen\",\"value\":7},\"x\":{\"field\":\"x\"},\"y\":{\"field\":\"y\"}},\"id\":\"1088\",\"type\":\"Triangle\"},{\"attributes\":{},\"id\":\"1024\",\"type\":\"WheelZoomTool\"},{\"attributes\":{\"source\":{\"id\":\"1108\",\"type\":\"ColumnDataSource\"}},\"id\":\"1112\",\"type\":\"CDSView\"},{\"attributes\":{\"line_alpha\":0.1,\"line_color\":\"#1f77b4\",\"line_width\":2,\"x\":{\"field\":\"x\"},\"y\":{\"field\":\"y\"}},\"id\":\"1125\",\"type\":\"Line\"},{\"attributes\":{\"callback\":null,\"data\":{\"Label\":[\"ECU0035_Carnitine\",\"ECU0676_DL-2-Aminooctanoic acid\",\"ECU0182_alpha-Linolenic acid\",\"ECU0128_D-Tryptophan\",\"ECU0426_Phenylacetylglutamine\",\"ECU0131_L-Valine\",\"ECU0100_Theobromine\",\"ECU0077_L-Phenylalanine\",\"ECU0133_3,4-Methylenedioxybenzoic acid\",\"ECU0063_L-Histidine\",\"ECU0665_Glycoursodeoxycholic acid\",\"ECU0110_L-Tyrosine\",\"ECU0428_Propionylcarnitine\",\"ECU0077_L-Phenylalanine\",\"ECU0458_Trans-urocanate\",\"ECU0363_Decanoylcarnitine\",\"ECU0131_L-Valine\",\"ECU0428_Propionylcarnitine\",\"ECU0235_Niacinamide\",\"ECU0110_L-Tyrosine\",\"ECU0093_L-Methionine\",\"ECU0336_Adenosine monophosphate\",\"ECU0307_L-Acetylcarnitine\",\"ECU0307_L-Acetylcarnitine\",\"ECU0235_Niacinamide\",\"ECU0026_Caffeine\",\"ECU0038_L-Glutamine\",\"ECU0420_Sphingosine 1-phosphate\",\"ECU0038_L-Glutamine\",\"ECU0160_Betaine\",\"ECU0070_Ornithine\",\"ECU0354_Hippuric acid\",\"ECU0349_L-Homoserine\",\"ECU0076_L-Isoleucine\",\"ECU0344_Pipecolic acid\",\"ECU0506_Indoleacrylic acid\",\"ECU0506_Indoleacrylic acid\",\"ECU0344_Pipecolic acid\",\"ECU0041_Pyroglutamic acid\",\"ECU0344_Pipecolic acid\",\"ECU0076_L-Isoleucine\",\"ECU0092_L-Leucine\",\"ECU0204_Spermidine\",\"ECU0041_Pyroglutamic acid\",\"ECU0613_L-alpha-Aminobutyric acid\",\"ECU0666_2-Piperidinone\",\"ECU0130_L-Lysine\",\"ECU0130_L-Lysine\",\"ECU0021_Creatine\",\"DEET\",\"Arachidonic acid\",\"4-Indolecarbaldehyde\",\"Monobutyl phthalate\",\"Docosahexaenoic acid ethyl ester\",\"Decarbamoyl-neosaxitoxin\",\"Sudan III\",\"Gabapentin\",\"PPG n4\",\"ECU0100_Theobromine\",\"Ethyl oleate\",\"Tributyl phosphate\",\"Caprolactam\",\"Methyl palmitate\",\"DL-Stachydrine\",\"Tris(2-butoxyethyl) phosphate\",\"Laurolactam\",\"Gabapentin\",\"Piperine\",\"Creatinine\",\"Uric acid\",\"Diisobutylphthalate\",\"1,3-Benzodioxolylbutanamine (BDB)\",\"Decanamide\",\"Monobutyl phthalate\",\"Pseudoephedrine\",\"Dibutyl phthalate\",\"Glycerophospho-N-palmitoyl ethanolamine\",\"Uric acid\",\"N-Methyl-2-AI\",\"Hexadecanamide\",\"Choline\",\"Dehydroepiandrosterone (DHEA)\",\"Dehydroepiandrosterone (DHEA)\"],\"Name\":[\"H2\",\"H7\",\"H8\",\"H9\",\"H10\",\"H12\",\"H13\",\"H15\",\"H16\",\"H17\",\"H18\",\"H19\",\"H20\",\"H21\",\"H22\",\"H23\",\"H24\",\"H25\",\"H26\",\"H29\",\"H30\",\"H32\",\"H33\",\"H34\",\"H37\",\"H38\",\"H39\",\"H40\",\"H41\",\"H42\",\"H43\",\"H44\",\"H45\",\"H46\",\"H50\",\"H51\",\"H52\",\"H53\",\"H54\",\"H55\",\"H56\",\"H57\",\"H58\",\"H60\",\"H61\",\"H62\",\"H63\",\"H64\",\"H65\",\"H1611\",\"H1623\",\"H1644\",\"H1647\",\"H1689\",\"H1717\",\"H1762\",\"H1793\",\"H1811\",\"H1815\",\"H1817\",\"H1831\",\"H1834\",\"H1860\",\"H1880\",\"H1881\",\"H1883\",\"H1890\",\"H1896\",\"H1898\",\"H1935\",\"H1958\",\"H2006\",\"H2021\",\"H2038\",\"H2051\",\"H2052\",\"H2066\",\"H2087\",\"H2100\",\"H2112\",\"H2129\",\"H2149\",\"H2217\"],\"col\":[\"green\",\"green\",\"green\",\"green\",\"green\",\"green\",\"green\",\"green\",\"green\",\"green\",\"green\",\"green\",\"green\",\"green\",\"green\",\"green\",\"green\",\"green\",\"green\",\"green\",\"green\",\"green\",\"green\",\"green\",\"green\",\"green\",\"green\",\"green\",\"green\",\"green\",\"green\",\"green\",\"green\",\"green\",\"green\",\"green\",\"green\",\"green\",\"green\",\"green\",\"green\",\"green\",\"green\",\"green\",\"green\",\"green\",\"green\",\"green\",\"green\",\"green\",\"green\",\"green\",\"green\",\"green\",\"green\",\"green\",\"green\",\"green\",\"green\",\"green\",\"green\",\"green\",\"green\",\"green\",\"green\",\"green\",\"green\",\"green\",\"green\",\"green\",\"green\",\"green\",\"green\",\"green\",\"green\",\"green\",\"green\",\"green\",\"green\",\"green\",\"green\",\"green\",\"green\"],\"group\":[null,null,null,null,null,null,null,null,null,null,null,null,null,null,null,null,null,null,null,null,null,null,null,null,null,null,null,null,null,null,null,null,null,null,null,null,null,null,null,null,null,null,null,null,null,null,null,null,null,null,null,null,null,null,null,null,null,null,null,null,null,null,null,null,null,null,null,null,null,null,null,null,null,null,null,null,null,null,null,null,null,null,null],\"x\":{\"__ndarray__\":\"yYbkY3CevL8wgd+iEzXEv4vT3Q4Pb54/eoeXT6l5w7/C6M0lcYGfv3Ta2yPpU7A/XC4oLWgasL+IjIjTJlTIv7UQIt9u1sW/QILx3vKufT/J8mCsrMaxv+hGnanANom/dqnwP7v7yL/xEZ8L6K26vwIgMqNOQoW/mo0v34GUwL9ZdQ0Lv2qyvxvujX4H/qG/GcxQUDGRx7++L7AZpufIv8fOgcFrZLu/AvUE1NtChT+B1x6tEnXJvyfA+ngMXLm/8dIHmmKJwb+iQpYZyN2iv78sUpHNgcW/47Oid9DNw7/baHVs1WqgP1qN3kPC6sS/3DL7xicAlL/5kEEUlz2Yv9bjpQztfqY/h48F+9Nxwr8Z+yokFm7Hv78rTNQWj8W/DSg3R903kr+pMHf7KhW9v/yuOSfW8au/NlnOCPPGwL8KZyS3x7WiP0RFhXB5+qo/JlhW0tDJvr99gzVs2u+lv0Bg+CNbPru/oFykL73jt78MMSAOY/C3v6E/oImDW72/z2uGVGwqvr8Eg1ZA0Benv6friqMsTrm/gB91r5mlxb95vvUpg5HFv0OGITW8NLy/YnPQJdJVor/PEeP9DIZ9P7kb7Bbw5LC/RfGRPYdWur+wN84r7Oakv39VLJMSJca/m5MwZNuYt79FlgyKU6aov1s8S0Kropy/5BpDjIFWkD8vleFSqZaRPxMLKUAcWcG/UMKa1RX+sr8fPIeIcZCqvxBChqUwO8W/+ClzmZoAu79cylMRJ0rCv/LOGUYKSJI/RXqNe9I7wL92djzkSd3Fv+FNSKuFn5E/jNURyzO+qL/IKOPhuOnDv5WMDWWTCq0/eDlfqk4wmT/nNOExahHAvzHHbRtcoq+/hHuwJs9bwr/kY+IB1VPAvw==\",\"dtype\":\"float64\",\"shape\":[83]},\"y\":{\"__ndarray__\":\"qOIRlQjixT//++rMZ1WjvwxCgUJLDLa/gBUr3D5gwT951BHcTgvBP8tfR09NeKy/C96G19JKtz+wW5QEZxShv6dO1KwXwbC/S1q8mn8RY79yc/Dfg0DFPzspPpCGsaS/tWn0vAr0ez/KdezRzy2oP4TPfbWXHr0/MAl2jpBgqr9vGrEl7nK2v1ohAWPIS7w/Hjd/3iNVub9GZQLpoLuXv7ZgjYAaNcA/0L0fAZGlx7+b48vx4NCgP/7IXewAH8k/aOrTEBaTu797ppJh2U/HP4PfpfyWSpO/oNobxsJJsb85rGuvStTJP/5/WoW0k48/NkKp7rwBzD+oF5JtvbLQPzrzPBCRork/a7/5WbNgqb9rxXmH+s+WP/DWW39+krs/NtHL4LsLzj8X8/ZkvSuYvxzRz761ZqU/J6NCTUgnqj+0YX2gD4C0P8nHgOcZIsI/cfp4An5qwT9j6tUNS9jBPxc3z5fHQJU/qnZOUp5Jur+pQUDHnKm5v0XT/6DiMJo/fLbuyabUrj+BPVyZO3Wzv5qWw/a0072/jVrisftPoT9xUJSo9Uy1v+P28OzdLqc/1k4G5SRFoL9uSNX6kcHGPywjbZUaJ86/aWy4+jvjnb9UZfEW+vrEP/wffKtOyay/UYDv+bIwqb8g9TQtYgmkv/R7tZpJEbc/2JXPVC/+tz9f13YqVUWgPwN+cvvXOaq/xcAyg1iazr+tueqQYcXCP3Oe/bdxt4y/XiHPEg1AvT98YF7g8waqv9h3bNXV4LO/DVXdaOxfkD9RMmiPyx+2v8LKt7wh9r6/uPBdAsVciL/Eg/fD4em1PzDKH7LSUcQ/V7nyfdU9wr9ZkmmvRemxPwla54H4AIk/MKSx3SK8r7+AtMYEjX2tvw==\",\"dtype\":\"float64\",\"shape\":[83]}},\"selected\":{\"id\":\"1176\",\"type\":\"Selection\"},\"selection_policy\":{\"id\":\"1175\",\"type\":\"UnionRenderers\"}},\"id\":\"1051\",\"type\":\"ColumnDataSource\"},{\"attributes\":{},\"id\":\"1027\",\"type\":\"ResetTool\"},{\"attributes\":{\"source\":{\"id\":\"1133\",\"type\":\"ColumnDataSource\"}},\"id\":\"1137\",\"type\":\"CDSView\"},{\"attributes\":{\"below\":[{\"id\":\"1063\",\"type\":\"LinearAxis\"}],\"center\":[{\"id\":\"1067\",\"type\":\"Grid\"},{\"id\":\"1072\",\"type\":\"Grid\"},{\"id\":\"1097\",\"type\":\"Legend\"},{\"id\":\"1101\",\"type\":\"Span\"},{\"id\":\"1102\",\"type\":\"Span\"}],\"left\":[{\"id\":\"1068\",\"type\":\"LinearAxis\"}],\"min_border_bottom\":20,\"min_border_left\":20,\"min_border_right\":20,\"min_border_top\":20,\"plot_height\":430,\"plot_width\":490,\"renderers\":[{\"id\":\"1089\",\"type\":\"GlyphRenderer\"}],\"title\":{\"id\":\"1053\",\"type\":\"Title\"},\"toolbar\":{\"id\":\"1079\",\"type\":\"Toolbar\"},\"toolbar_location\":null,\"x_range\":{\"id\":\"1055\",\"type\":\"DataRange1d\"},\"x_scale\":{\"id\":\"1059\",\"type\":\"LinearScale\"},\"y_range\":{\"id\":\"1057\",\"type\":\"DataRange1d\"},\"y_scale\":{\"id\":\"1061\",\"type\":\"LinearScale\"}},\"id\":\"1052\",\"subtype\":\"Figure\",\"type\":\"Plot\"},{\"attributes\":{\"source\":{\"id\":\"1123\",\"type\":\"ColumnDataSource\"}},\"id\":\"1127\",\"type\":\"CDSView\"},{\"attributes\":{\"overlay\":{\"id\":\"1046\",\"type\":\"BoxAnnotation\"}},\"id\":\"1025\",\"type\":\"BoxZoomTool\"},{\"attributes\":{\"callback\":null,\"data\":{\"x\":{\"__ndarray__\":\"Flpj9cPF8r9Ca33NFbLyv6HFLPSKlvK/1lSczT9z8r/TFW27WEjyvyhmNfcBFvK/dHrqZG/c8b86+mJd3Jvxv4jkKXGLVPG/Rs3gI8YG8b9VLnig3LLwvw3qi2YlWfC/el1y4vnz77+DSZOviivvv25YLNHLWe6/y8oSfZV/7b8pk1+jyJ3sv/RmkAZOteu/ALOYSxXH6r/mx9kCFNTpv1DjAKtE3ei/WQXQrqXj57+dvtteOOjmv4VOTOj/6+W/hn2zSQDw5L+BmQpHPfXjv/DY7F25/OK/XSsiu3QH4r+sIo0ybBbhv/wqjDqYKuC/inC119eJ3r+62vQNqMzcvxYZTQBsH9u/hYeaJd6D2b83SwW7pvvXv6HGsA5aiNa/AFv33nYr1b+kE+DPZObTv83uZPhyutK/o+oHidao0b/y5hqNqbLQv9DMBZDTsc+/esREX+84zr+Sq/AJK/zMv7oJxRfN/Mu/cMyixdw7y78MXTb2ILrKvyau82QfeMq/IpY7HBx2yr+CkTgvGbTKv0Y5u7fWMcu/+qEYGNPuy79mvcaAS+rMv/gDLbk8I86/LmXaKmSYz78YhgaXIKTQv8iYGkuLmNG/Jh9tPnao0r8xm4QkydLTv/18mnhQFtW/qlaaur5x1r8oX+nGrePXvw/kk0egatm/vhtkPQMF27/EI02fL7Hcv1/yfQ5sbd6/4FutTvcb4L+w18NTbwfhvzplj1wr+OG/ofyMQTPt4r9YHndtiuXjvxgQpOEw4OS/k2noPSTc5b/g6+3KYNjmv40X7IXi0+e/JIiuLKbN6L8+zNRIqsTpv0U9ODnwt+q/OkNmOH2m678IcyBfW4/sv9YP2KGace2/fKMfyFFM7r9GnBNdnx7vv4gewpeq5++/KDxRHVJT8L9I7pq0Y63wv8CXejmtAfG/lVpdyddP8b8TKfHQkpfxv3LcM1+U2PG/WqOrcZkS8r9aNno5ZkXyvy+eA1nGcPK/jv7oGY2U8r/HwB+blbDyv2Wb9fbCxPK/1UbaYADR8r9HKtA6QdXyvwrnbSKB0fK/Flpj9cPF8r8=\",\"dtype\":\"float64\",\"shape\":[100]},\"y\":{\"__ndarray__\":\"7ZbnjcX/5b9I/5qh7Hnmv/QUGuaQ7+a/RrbkFjlg57/jJOMSccvnvzNqG1TKMOi/eWKfYdyP6L+W/T07Rejov4WyiL6pOem/8ALFBLaD6b82OGm5Hcbpv58yy2icAOq/Ni+wxvUy6r+hx3Ts9Vzqv7AZjY5xfuq/LfAlKUaX6r/E67gjWqfqvwf/buucruq/9Qo2BAet6r+K/3cQmqLqv2CMa89gj+q/AB4AEm9z6r9Ak3Cm4U7qvza5kTreIeq/gin7NJPs6b+QlDKFN6/pv+fFCmsKaum/XMJwNVMd6b9zNer4YMnov4LzED6Kbui/RJhfqCwN6L8eNauVrKXnv+aOrbZ0OOe/apEKofXF5r/wVkJbpU7mv1plB+P+0uW/xIp2roFT5b/uCbMosdDkvyyHbioUS+S/rFrobjTD47+fkfMFnjnjv3f4lcPeruK/agLVrYUj4r/cQkdpIpjhv4hyAqVEDeG/p6J+hnuD4L9Elw4sqvbfv96kpFi76t6/0OGnwz7k3b82RckAQ+Tcv+Wml+/P69u/vCN+q+X72r+57MODexXavz+knfx+Odm/bRNX2tJo2L/4mZE3TqTXvzVOiKe77Na/Cl8+ZdhC1r/E+G6QU6fVv0/AB3nNGtW/fvrn+dad1L9BuI7j8DDUv77zUXeL1NO/+36n8wWJ078XDPcxrk7Tv8iDWlbAJdO/9mKfkWYO0781B8n1uAjTvwe/QF29FNO/kjHNZGcy078DVld4mGHTv+bQb/IfotO/Wjl0Trvz0785lSBtFlbUv65dRuvLyNS/8ahPimVL1b+AvSKqXN3Vv1Rp6NMafta/7A8mVfos178fjYvqRunXv2bbxHk+sti/fPGP2RGH2b/olkin5Wbav7AODinTUNu//HmZO+lD3L/Xx89KLT/dv6X2DlScQd6/NmQs8StK37+VeYi15Svgv4L5a2mytOC/zIAnEO8+4b/gyFcqDcrhv8MzM1B9VeK/Nxpdxa/g4r8/SBANFWvjv3HsB34e9OO/EYKO1T575L+pHhvJ6v/kvwgJ55WZgeW/7JbnjcX/5b8=\",\"dtype\":\"float64\",\"shape\":[100]}},\"selected\":{\"id\":\"1153\",\"type\":\"Selection\"},\"selection_policy\":{\"id\":\"1152\",\"type\":\"UnionRenderers\"}},\"id\":\"1103\",\"type\":\"ColumnDataSource\"},{\"attributes\":{\"callback\":null,\"data\":{\"x\":{\"__ndarray__\":\"7tIS6IdL/L+BxWA/hh/8v0cH9hHw4fu/BYnw2wST+78ZjDj3FTP7v7fWpEeGwvq/fJYK1clB+r/qBaJTZbH5v7ofO5vtEfm/zGLPDQdk+L+Jzw7uZKj3v6fKlqbI3/a/kGCRAgEL9r9Fb4pY6Sr1v3pzVqhoQPS/PQr0rHBM879gnF3j/E/yvyoQTIcRTPG/FLz1hrpB8L+IQLzdFGTuv280pp0yPOy/EJ12MgcO6r9xwL770dvnv9lruILWp+W/PP3fJFp0479xu6u8oUPhv3h8lJXeL96/oziiRP/m2b9uG4Q0ELHVvxthjo1oktG/oKj88Y4ey7+k/J2An1fDvwDsNScOsLe/AACQtgGeor9gfACCWZSRPzj13VQXXrE/gKcCpaKOvT/wpbrLE3XEP2y3+IR4ssk/4OB0wRh6zj+CjA+Vg2PRPw626nBqStM/MMqdC8vv1D/MZr4H81HWP1Ce5lJ1b9c/kOgHnitH2D+QY8yMN9jYP+ipzZoDItk/CPe0tUMk2T8ouaWL9d7YP6i7oY1gUtg/uHLkpRV/1z8kUoGi7mXWP8Ar31QNCNU/IAX4Ztpm0z+0WpHnA4TRP5wZ2B33ws4/POJpe+kCyj/Az41wxMzEP4BkVILOS74/UGZdxUoosj8AOjbVA+6UPwCcJVF42qC/oFuvENjDtr/oGmKCxdzCv5qYHaR0n8q/6FtlwfxQ0b9imR8zCW7Vv8wH4iWiotm/aC0B0nHq3b8Z5b5QhyDhvzzUNd7/UOO/DF+J0mCE5b84DoVvZbjnv2ZvQE7I6um/UHNxtkUZ7L8g6AL0nUHuv9OGQ9TLMPC/fEMRC4E78b+GU8mw2z/yv+egfWTPPPO/bt2ZZlcx9L/Ue6yldxz1v6gIPcI9/fW/gAqkCMLS9r8u3uJfKJz3v6BahSyhWPi/qFyjJmoH+b9boCUiz6f5vy93f8gqOfq/kOcdQ+e6+r8mhtzVfiz7vxDR4Gh8jfu/JPJNAXzd+7/ze1QoKxz8v8HkM0BJSfy/GR/Wxqdk/L/1psCFKm78vxOYKa/HZfy/7tIS6IdL/L8=\",\"dtype\":\"float64\",\"shape\":[100]},\"y\":{\"__ndarray__\":\"/kZijIbR6r/VkVvNquLrvwW63NK46ey/yLJIc6Hl7b8Dx1kCYdXuv4HHzlwAuO+/LiaW80pG8L8it0U/I6nwv3zePi0jBPG/LMyO7+xW8b9OMTkvK6Hxv6aYMGSR4vG/BlA6JNwa8r9jkGxo0Unyv+VB/8hAb/K/arMxrwOL8r/u1RF9/Zzyv9X6+6obpfK/hKy02lWj8r/O8AjgrZfyv8wQ7L4vgvK/SNcUn/Fi8r85Cie1Ezryv+qpgCHAB/K/qi7NxCrM8b9SiIsKkYfxv4r/vak5OvG/nDwFXHTk8L/il3GLmYbwv+BqX/cJIfC/F6p4oVxo779Sgzic7YDuv8baGnC1jO2/X1BF3K+M7L8KJ2XK5IHrv7M6oz5nbeq/nt4lPFRQ6b/T3kSf0SvovxZ/nu4MAee/QLhFJDrR5b9rGkpwkp3kv9iU4PVSZ+O/RO55hLsv4r926hdODfjgv4TiaTgTg9+/LAcnCeEa3b81yZU+/7nav5sqyn7hYti/PDi/XvEX1r8HILnli9vTv1ULmB3/r9G/gkc9ZQ8vz79qdT5KnSjLv54x4B7OUMe/aCTlBJirw7/wccL1vDzAv5js/8WND7q/qBO1IAggtL/Ay6utDmKtv4AKU5FKkKO/QG/qVcaplb+Ap5JAxsZ5v4BX8RHk33k/gOCN2ukFkT9AqP25Py2ZP6AmIveS5Z4/wNhbDn8UoT/A8O3/EXqhP3Cu4ZsZo6A/gPKW9eYgnT9ggJk7hYiWP0Ax2+q0B4s/AMkqsJPhYD/ASBQ7YkWHv4AAceykqpu/gDOlQpH1pr/oZbxZVpSwvyi6XZkQMra/fLHNVS1OvL/GUXceMHHBv+oCeZnw88S/iFv7p7mryL/SdwYrtpTMv/q8+yVvVdC/zF0S0v100r+2tUDK1qbUv6pXY+S26Na/TMS9cEo42b/GUQagL5Pbv9oQAfj49t2/CNoQ6pcw4L9yDNB3q2fhvxaqMHt2n+K/IA0IjbfW47/AhF3ULQzlv8DmJlGaPua/wp4dJcFs57/CQ1nZapXov0EQYJ9lt+m//kZijIbR6r8=\",\"dtype\":\"float64\",\"shape\":[100]}},\"selected\":{\"id\":\"1159\",\"type\":\"Selection\"},\"selection_policy\":{\"id\":\"1158\",\"type\":\"UnionRenderers\"}},\"id\":\"1118\",\"type\":\"ColumnDataSource\"},{\"attributes\":{\"fill_alpha\":0.01,\"fill_color\":\"red\",\"line_alpha\":0.01,\"line_color\":\"red\",\"x\":{\"field\":\"x\"},\"y\":{\"field\":\"y\"}},\"id\":\"1119\",\"type\":\"Patch\"},{\"attributes\":{\"line_alpha\":0.1,\"line_color\":\"#1f77b4\",\"x\":{\"field\":\"x\"},\"y\":{\"field\":\"y\"}},\"id\":\"1130\",\"type\":\"Line\"},{\"attributes\":{},\"id\":\"1044\",\"type\":\"BasicTickFormatter\"},{\"attributes\":{\"callback\":null,\"data\":{\"x\":{\"__ndarray__\":\"cki8MofTKUD/aDjf1MgpQK4C00nXoylAZLr/k7RkKUAGsZ3SrQspQFIg4coemShASw26k30NKEC+kxkcWmknQDxGk5ZdrSZAsJPzyknaJUB//H5O+PAkQAYAqKNZ8iNAMPYiQnTfIkC2ZVeIY7khQCy8RZdWgSBAdQYdNB5xHkAuWrr0v8AbQM+LGAZY9BhAnlTW5MgOFkBdhjz7DhMTQFlDRI09BBBAIHQeGvfKCUD/3iy2AHQDQKEypNVBFPo/Xsswy9BP6j+AcP3TtiOIP8TVZ0CGium/bvPkeFur+b/5/rTeWjoDwGHrz9cRignA8KM/JFG+D8B3xHPIWegSwIaRXWl73RXA3ek1/YC7GMBbObredX8bwMIaBEeAJh7APTfnHvJWIMADUIA1g4khwJIoTGO3qSLA1CYWkmW2I8Dsl7TLeK4kwD4siFfxkCXA7FAWwuVcJsC5rK7NgxEnwNGvI0sRrifAKtC22ewxKMCum3KNjpwowKslR3uI7SjAlWFYKockKcCongnqUUEpwA5ybQzLQynAjdLdBPArKcAt3Jxq2fkowFqGe9+6rSjA4G2g2uJHKMDOj6VXusgnwMpVYGrEMCfAtIHDt52AJsCvQGbU+7glwK3YVoms2iTAm+L5/5TmI8Dlu9DVsN0iwGawGhkRwSHAqTpcL9uRIMAZ/9xNj6IewHGRnelBARzAIDj0P4RCGcC9KWi3KmkWwLd7UyQleBPAbZfiwXtyEMA+ptgjmLYKwDUBt02LawTANnjla5sU/L82RtzDy2Xuv5Ki+Ljq+cG//kqftAhy5T9LPbeagKj3P+yci+7wQAJAtEXsrvSbCECntQllvt4OQOBBUfBsgRJAoSviSPmAFUAKUqcH7WoYQDDHEDtHPBtAX78zTSDyHUBy0CWB1kQgQCGcAK0ggCFASghAqKmpIkB/j0G+PsAjQOoG08PAwiRAcKw3PyWwJUDDeNh6d4cmQHeNhIHZRydAfLg9A4XwJ0ATM6UhzIAoQLDiNSMa+ChAFVuTDPRVKUA6mU8f+ZkpQOvIpD3jwylAcki8MofTKUA=\",\"dtype\":\"float64\",\"shape\":[100]},\"y\":{\"__ndarray__\":\"QOH1S7MLgj9fsg0qeDXjPxfOgeRXCfM/GSAjzTFm/D8JW4SK0dMCQMtkmqEQYgdAHGun+iPZC0DbVoijOBoQQORjtmy9NxJAGzlQI/JCFEB/RVlyuzkWQKKKWhETGhhA0IGk2gniGUADrbfJyY8bQMWvxd+XIR1A+39X7NWVHkBD9UE4BOsfQM1MmIjhjyBAs38XGmoZIUCTc90KjpEhQPGCBoPR9yFAwpA1GMtLIkAnKT46JI0iQDaxX4yZuyJAk6q1KvvWIkCvdpXbLN8iQFO2piwm1CJAuUeYe/K1IkAz6WjqsIQiQIOUTz+UQCJAeqdksOLpIUDizUGb9YAhQLhH4yg5BiFAa4Ep3it6IEAn2NsyvLofQB8MY/viYB5AEvf8lzDoHED7P1FXKVIbQH5UVMRvoBlAUgLW9sLUF0AT8KHG/PAVQCwJDeMP9xNAuF3n0AXpEUB9uMih+ZEPQGEeR2FLMgtA5B40EYO3BkCiKGHSPiYCQD1g7eVnBvs/wIT/J1Sm8T9Qf0jw2GvgP072HHtEEbS/ZYzh0Nhp5b+OJpJ83Rv0v2E/amM2bP2/U+Vgoy5OA8AEqDbAbNEHwBBQ164uOwzA5P6T7XNDEMBliGVTFVgSwFmU13xWWRTAdcb/ViZFFsBxk3PpiRkYwAnX4GCe1BnAc87CAJt0G8CYazL60vccwIWt7CW3XB7AVVjHn9ehH8CB9PWg8mIgwBrtKH/Z4yDA0QyKihtTIcAH5DATRrAhwLnwdw/5+iHANwn8fucyIsC9UPy511ciwM/jyKyjaSLAr/gC/zhoIsAm/oUmmVMiwC865mXZKyLA6HWGtiLxIcDvTVuesaMhwDGxh/HVQyHA3N0SgPLRIMDcrwywfE4gwE+AEgn4cx/AZyjhIxMqHsAPuGTAnsAcwJXQAHcPORvAagmJ6PiUGcDcWC8eDNYXwPAUIssV/hXAz7ClcfwOFMCHv5NtvgoSwLtliMzf5g/AD0f+U3GWC8AFM1nqoygHwBlZGU8IogLAIWxTp5EO/L/WKn4YSbryv8rjQa2poeK/GNz1S7MLgj8=\",\"dtype\":\"float64\",\"shape\":[100]}},\"selected\":{\"id\":\"1163\",\"type\":\"Selection\"},\"selection_policy\":{\"id\":\"1162\",\"type\":\"UnionRenderers\"}},\"id\":\"1128\",\"type\":\"ColumnDataSource\"},{\"attributes\":{\"label\":{\"field\":\"group\"},\"renderers\":[{\"id\":\"1039\",\"type\":\"GlyphRenderer\"}]},\"id\":\"1048\",\"type\":\"LegendItem\"},{\"attributes\":{\"fill_alpha\":{\"value\":0.6},\"fill_color\":{\"field\":\"col\"},\"line_alpha\":{\"value\":0.6},\"line_color\":{\"field\":\"col\"},\"size\":{\"units\":\"screen\",\"value\":5},\"x\":{\"field\":\"x\"},\"y\":{\"field\":\"y\"}},\"id\":\"1037\",\"type\":\"Circle\"},{\"attributes\":{\"fill_alpha\":0.07,\"fill_color\":\"blue\",\"line_alpha\":0.07,\"line_color\":\"blue\",\"x\":{\"field\":\"x\"},\"y\":{\"field\":\"y\"}},\"id\":\"1134\",\"type\":\"Patch\"},{\"attributes\":{\"data_source\":{\"id\":\"1123\",\"type\":\"ColumnDataSource\"},\"glyph\":{\"id\":\"1124\",\"type\":\"Line\"},\"hover_glyph\":null,\"muted_glyph\":null,\"nonselection_glyph\":{\"id\":\"1125\",\"type\":\"Line\"},\"selection_glyph\":null,\"view\":{\"id\":\"1127\",\"type\":\"CDSView\"}},\"id\":\"1126\",\"type\":\"GlyphRenderer\"},{\"attributes\":{\"callback\":null,\"data\":{\"x\":{\"__ndarray__\":\"cki8MofTKUD/aDjf1MgpQK4C00nXoylAZLr/k7RkKUAGsZ3SrQspQFIg4coemShASw26k30NKEC+kxkcWmknQDxGk5ZdrSZAsJPzyknaJUB//H5O+PAkQAYAqKNZ8iNAMPYiQnTfIkC2ZVeIY7khQCy8RZdWgSBAdQYdNB5xHkAuWrr0v8AbQM+LGAZY9BhAnlTW5MgOFkBdhjz7DhMTQFlDRI09BBBAIHQeGvfKCUD/3iy2AHQDQKEypNVBFPo/Xsswy9BP6j+AcP3TtiOIP8TVZ0CGium/bvPkeFur+b/5/rTeWjoDwGHrz9cRignA8KM/JFG+D8B3xHPIWegSwIaRXWl73RXA3ek1/YC7GMBbObredX8bwMIaBEeAJh7APTfnHvJWIMADUIA1g4khwJIoTGO3qSLA1CYWkmW2I8Dsl7TLeK4kwD4siFfxkCXA7FAWwuVcJsC5rK7NgxEnwNGvI0sRrifAKtC22ewxKMCum3KNjpwowKslR3uI7SjAlWFYKockKcCongnqUUEpwA5ybQzLQynAjdLdBPArKcAt3Jxq2fkowFqGe9+6rSjA4G2g2uJHKMDOj6VXusgnwMpVYGrEMCfAtIHDt52AJsCvQGbU+7glwK3YVoms2iTAm+L5/5TmI8Dlu9DVsN0iwGawGhkRwSHAqTpcL9uRIMAZ/9xNj6IewHGRnelBARzAIDj0P4RCGcC9KWi3KmkWwLd7UyQleBPAbZfiwXtyEMA+ptgjmLYKwDUBt02LawTANnjla5sU/L82RtzDy2Xuv5Ki+Ljq+cG//kqftAhy5T9LPbeagKj3P+yci+7wQAJAtEXsrvSbCECntQllvt4OQOBBUfBsgRJAoSviSPmAFUAKUqcH7WoYQDDHEDtHPBtAX78zTSDyHUBy0CWB1kQgQCGcAK0ggCFASghAqKmpIkB/j0G+PsAjQOoG08PAwiRAcKw3PyWwJUDDeNh6d4cmQHeNhIHZRydAfLg9A4XwJ0ATM6UhzIAoQLDiNSMa+ChAFVuTDPRVKUA6mU8f+ZkpQOvIpD3jwylAcki8MofTKUA=\",\"dtype\":\"float64\",\"shape\":[100]},\"y\":{\"__ndarray__\":\"QOH1S7MLgj9fsg0qeDXjPxfOgeRXCfM/GSAjzTFm/D8JW4SK0dMCQMtkmqEQYgdAHGun+iPZC0DbVoijOBoQQORjtmy9NxJAGzlQI/JCFEB/RVlyuzkWQKKKWhETGhhA0IGk2gniGUADrbfJyY8bQMWvxd+XIR1A+39X7NWVHkBD9UE4BOsfQM1MmIjhjyBAs38XGmoZIUCTc90KjpEhQPGCBoPR9yFAwpA1GMtLIkAnKT46JI0iQDaxX4yZuyJAk6q1KvvWIkCvdpXbLN8iQFO2piwm1CJAuUeYe/K1IkAz6WjqsIQiQIOUTz+UQCJAeqdksOLpIUDizUGb9YAhQLhH4yg5BiFAa4Ep3it6IEAn2NsyvLofQB8MY/viYB5AEvf8lzDoHED7P1FXKVIbQH5UVMRvoBlAUgLW9sLUF0AT8KHG/PAVQCwJDeMP9xNAuF3n0AXpEUB9uMih+ZEPQGEeR2FLMgtA5B40EYO3BkCiKGHSPiYCQD1g7eVnBvs/wIT/J1Sm8T9Qf0jw2GvgP072HHtEEbS/ZYzh0Nhp5b+OJpJ83Rv0v2E/amM2bP2/U+Vgoy5OA8AEqDbAbNEHwBBQ164uOwzA5P6T7XNDEMBliGVTFVgSwFmU13xWWRTAdcb/ViZFFsBxk3PpiRkYwAnX4GCe1BnAc87CAJt0G8CYazL60vccwIWt7CW3XB7AVVjHn9ehH8CB9PWg8mIgwBrtKH/Z4yDA0QyKihtTIcAH5DATRrAhwLnwdw/5+iHANwn8fucyIsC9UPy511ciwM/jyKyjaSLAr/gC/zhoIsAm/oUmmVMiwC865mXZKyLA6HWGtiLxIcDvTVuesaMhwDGxh/HVQyHA3N0SgPLRIMDcrwywfE4gwE+AEgn4cx/AZyjhIxMqHsAPuGTAnsAcwJXQAHcPORvAagmJ6PiUGcDcWC8eDNYXwPAUIssV/hXAz7ClcfwOFMCHv5NtvgoSwLtliMzf5g/AD0f+U3GWC8AFM1nqoygHwBlZGU8IogLAIWxTp5EO/L/WKn4YSbryv8rjQa2poeK/GNz1S7MLgj8=\",\"dtype\":\"float64\",\"shape\":[100]}},\"selected\":{\"id\":\"1167\",\"type\":\"Selection\"},\"selection_policy\":{\"id\":\"1166\",\"type\":\"UnionRenderers\"}},\"id\":\"1138\",\"type\":\"ColumnDataSource\"}],\"root_ids\":[\"1181\"]},\"title\":\"Bokeh Application\",\"version\":\"1.1.0\"}};\n",
       "  var render_items = [{\"docid\":\"2e06a72d-bb3b-4c6c-8292-1412a424c71f\",\"roots\":{\"1181\":\"51714648-619f-4a65-83f4-74705229d0d1\"}}];\n",
       "  root.Bokeh.embed.embed_items_notebook(docs_json, render_items);\n",
       "\n",
       "  }\n",
       "  if (root.Bokeh !== undefined) {\n",
       "    embed_document(root);\n",
       "  } else {\n",
       "    var attempts = 0;\n",
       "    var timer = setInterval(function(root) {\n",
       "      if (root.Bokeh !== undefined) {\n",
       "        embed_document(root);\n",
       "        clearInterval(timer);\n",
       "      }\n",
       "      attempts++;\n",
       "      if (attempts > 100) {\n",
       "        console.log(\"Bokeh: ERROR: Unable to run BokehJS code because BokehJS library is missing\");\n",
       "        clearInterval(timer);\n",
       "      }\n",
       "    }, 10, root)\n",
       "  }\n",
       "})(window);"
      ],
      "application/vnd.bokehjs_exec.v0+json": ""
     },
     "metadata": {
      "application/vnd.bokehjs_exec.v0+json": {
       "id": "1181"
      }
     },
     "output_type": "display_data"
    }
   ],
   "source": [
    "# Perform PCA analysis\n",
    "\n",
    "cb.plot.pca(Xknn1,\n",
    "            pcx=1,                                                  # pc for x-axis\n",
    "            pcy=2,                                                  # pc for y-axis\n",
    "            group_label=DataTable1['SampleType'],                    # colour in PCA score plot\n",
    "            sample_label=DataTable1[['Idx','SampleType']],           # labels for Hover in PCA score plot\n",
    "            peak_label=PeakTableClean1[['Name','Label']])            # labels for Hover in PCA loadings plot"
   ]
  },
  {
   "cell_type": "code",
   "execution_count": 12,
   "metadata": {},
   "outputs": [
    {
     "data": {
      "text/html": [
       "\n",
       "    <div class=\"bk-root\">\n",
       "        <a href=\"https://bokeh.pydata.org\" target=\"_blank\" class=\"bk-logo bk-logo-small bk-logo-notebook\"></a>\n",
       "        <span id=\"1548\">Loading BokehJS ...</span>\n",
       "    </div>"
      ]
     },
     "metadata": {},
     "output_type": "display_data"
    },
    {
     "data": {
      "application/javascript": [
       "\n",
       "(function(root) {\n",
       "  function now() {\n",
       "    return new Date();\n",
       "  }\n",
       "\n",
       "  var force = true;\n",
       "\n",
       "  if (typeof root._bokeh_onload_callbacks === \"undefined\" || force === true) {\n",
       "    root._bokeh_onload_callbacks = [];\n",
       "    root._bokeh_is_loading = undefined;\n",
       "  }\n",
       "\n",
       "  var JS_MIME_TYPE = 'application/javascript';\n",
       "  var HTML_MIME_TYPE = 'text/html';\n",
       "  var EXEC_MIME_TYPE = 'application/vnd.bokehjs_exec.v0+json';\n",
       "  var CLASS_NAME = 'output_bokeh rendered_html';\n",
       "\n",
       "  /**\n",
       "   * Render data to the DOM node\n",
       "   */\n",
       "  function render(props, node) {\n",
       "    var script = document.createElement(\"script\");\n",
       "    node.appendChild(script);\n",
       "  }\n",
       "\n",
       "  /**\n",
       "   * Handle when an output is cleared or removed\n",
       "   */\n",
       "  function handleClearOutput(event, handle) {\n",
       "    var cell = handle.cell;\n",
       "\n",
       "    var id = cell.output_area._bokeh_element_id;\n",
       "    var server_id = cell.output_area._bokeh_server_id;\n",
       "    // Clean up Bokeh references\n",
       "    if (id != null && id in Bokeh.index) {\n",
       "      Bokeh.index[id].model.document.clear();\n",
       "      delete Bokeh.index[id];\n",
       "    }\n",
       "\n",
       "    if (server_id !== undefined) {\n",
       "      // Clean up Bokeh references\n",
       "      var cmd = \"from bokeh.io.state import curstate; print(curstate().uuid_to_server['\" + server_id + \"'].get_sessions()[0].document.roots[0]._id)\";\n",
       "      cell.notebook.kernel.execute(cmd, {\n",
       "        iopub: {\n",
       "          output: function(msg) {\n",
       "            var id = msg.content.text.trim();\n",
       "            if (id in Bokeh.index) {\n",
       "              Bokeh.index[id].model.document.clear();\n",
       "              delete Bokeh.index[id];\n",
       "            }\n",
       "          }\n",
       "        }\n",
       "      });\n",
       "      // Destroy server and session\n",
       "      var cmd = \"import bokeh.io.notebook as ion; ion.destroy_server('\" + server_id + \"')\";\n",
       "      cell.notebook.kernel.execute(cmd);\n",
       "    }\n",
       "  }\n",
       "\n",
       "  /**\n",
       "   * Handle when a new output is added\n",
       "   */\n",
       "  function handleAddOutput(event, handle) {\n",
       "    var output_area = handle.output_area;\n",
       "    var output = handle.output;\n",
       "\n",
       "    // limit handleAddOutput to display_data with EXEC_MIME_TYPE content only\n",
       "    if ((output.output_type != \"display_data\") || (!output.data.hasOwnProperty(EXEC_MIME_TYPE))) {\n",
       "      return\n",
       "    }\n",
       "\n",
       "    var toinsert = output_area.element.find(\".\" + CLASS_NAME.split(' ')[0]);\n",
       "\n",
       "    if (output.metadata[EXEC_MIME_TYPE][\"id\"] !== undefined) {\n",
       "      toinsert[toinsert.length - 1].firstChild.textContent = output.data[JS_MIME_TYPE];\n",
       "      // store reference to embed id on output_area\n",
       "      output_area._bokeh_element_id = output.metadata[EXEC_MIME_TYPE][\"id\"];\n",
       "    }\n",
       "    if (output.metadata[EXEC_MIME_TYPE][\"server_id\"] !== undefined) {\n",
       "      var bk_div = document.createElement(\"div\");\n",
       "      bk_div.innerHTML = output.data[HTML_MIME_TYPE];\n",
       "      var script_attrs = bk_div.children[0].attributes;\n",
       "      for (var i = 0; i < script_attrs.length; i++) {\n",
       "        toinsert[toinsert.length - 1].firstChild.setAttribute(script_attrs[i].name, script_attrs[i].value);\n",
       "      }\n",
       "      // store reference to server id on output_area\n",
       "      output_area._bokeh_server_id = output.metadata[EXEC_MIME_TYPE][\"server_id\"];\n",
       "    }\n",
       "  }\n",
       "\n",
       "  function register_renderer(events, OutputArea) {\n",
       "\n",
       "    function append_mime(data, metadata, element) {\n",
       "      // create a DOM node to render to\n",
       "      var toinsert = this.create_output_subarea(\n",
       "        metadata,\n",
       "        CLASS_NAME,\n",
       "        EXEC_MIME_TYPE\n",
       "      );\n",
       "      this.keyboard_manager.register_events(toinsert);\n",
       "      // Render to node\n",
       "      var props = {data: data, metadata: metadata[EXEC_MIME_TYPE]};\n",
       "      render(props, toinsert[toinsert.length - 1]);\n",
       "      element.append(toinsert);\n",
       "      return toinsert\n",
       "    }\n",
       "\n",
       "    /* Handle when an output is cleared or removed */\n",
       "    events.on('clear_output.CodeCell', handleClearOutput);\n",
       "    events.on('delete.Cell', handleClearOutput);\n",
       "\n",
       "    /* Handle when a new output is added */\n",
       "    events.on('output_added.OutputArea', handleAddOutput);\n",
       "\n",
       "    /**\n",
       "     * Register the mime type and append_mime function with output_area\n",
       "     */\n",
       "    OutputArea.prototype.register_mime_type(EXEC_MIME_TYPE, append_mime, {\n",
       "      /* Is output safe? */\n",
       "      safe: true,\n",
       "      /* Index of renderer in `output_area.display_order` */\n",
       "      index: 0\n",
       "    });\n",
       "  }\n",
       "\n",
       "  // register the mime type if in Jupyter Notebook environment and previously unregistered\n",
       "  if (root.Jupyter !== undefined) {\n",
       "    var events = require('base/js/events');\n",
       "    var OutputArea = require('notebook/js/outputarea').OutputArea;\n",
       "\n",
       "    if (OutputArea.prototype.mime_types().indexOf(EXEC_MIME_TYPE) == -1) {\n",
       "      register_renderer(events, OutputArea);\n",
       "    }\n",
       "  }\n",
       "\n",
       "  \n",
       "  if (typeof (root._bokeh_timeout) === \"undefined\" || force === true) {\n",
       "    root._bokeh_timeout = Date.now() + 5000;\n",
       "    root._bokeh_failed_load = false;\n",
       "  }\n",
       "\n",
       "  var NB_LOAD_WARNING = {'data': {'text/html':\n",
       "     \"<div style='background-color: #fdd'>\\n\"+\n",
       "     \"<p>\\n\"+\n",
       "     \"BokehJS does not appear to have successfully loaded. If loading BokehJS from CDN, this \\n\"+\n",
       "     \"may be due to a slow or bad network connection. Possible fixes:\\n\"+\n",
       "     \"</p>\\n\"+\n",
       "     \"<ul>\\n\"+\n",
       "     \"<li>re-rerun `output_notebook()` to attempt to load from CDN again, or</li>\\n\"+\n",
       "     \"<li>use INLINE resources instead, as so:</li>\\n\"+\n",
       "     \"</ul>\\n\"+\n",
       "     \"<code>\\n\"+\n",
       "     \"from bokeh.resources import INLINE\\n\"+\n",
       "     \"output_notebook(resources=INLINE)\\n\"+\n",
       "     \"</code>\\n\"+\n",
       "     \"</div>\"}};\n",
       "\n",
       "  function display_loaded() {\n",
       "    var el = document.getElementById(\"1548\");\n",
       "    if (el != null) {\n",
       "      el.textContent = \"BokehJS is loading...\";\n",
       "    }\n",
       "    if (root.Bokeh !== undefined) {\n",
       "      if (el != null) {\n",
       "        el.textContent = \"BokehJS \" + root.Bokeh.version + \" successfully loaded.\";\n",
       "      }\n",
       "    } else if (Date.now() < root._bokeh_timeout) {\n",
       "      setTimeout(display_loaded, 100)\n",
       "    }\n",
       "  }\n",
       "\n",
       "\n",
       "  function run_callbacks() {\n",
       "    try {\n",
       "      root._bokeh_onload_callbacks.forEach(function(callback) {\n",
       "        if (callback != null)\n",
       "          callback();\n",
       "      });\n",
       "    } finally {\n",
       "      delete root._bokeh_onload_callbacks\n",
       "    }\n",
       "    console.debug(\"Bokeh: all callbacks have finished\");\n",
       "  }\n",
       "\n",
       "  function load_libs(css_urls, js_urls, callback) {\n",
       "    if (css_urls == null) css_urls = [];\n",
       "    if (js_urls == null) js_urls = [];\n",
       "\n",
       "    root._bokeh_onload_callbacks.push(callback);\n",
       "    if (root._bokeh_is_loading > 0) {\n",
       "      console.debug(\"Bokeh: BokehJS is being loaded, scheduling callback at\", now());\n",
       "      return null;\n",
       "    }\n",
       "    if (js_urls == null || js_urls.length === 0) {\n",
       "      run_callbacks();\n",
       "      return null;\n",
       "    }\n",
       "    console.debug(\"Bokeh: BokehJS not loaded, scheduling load and callback at\", now());\n",
       "    root._bokeh_is_loading = css_urls.length + js_urls.length;\n",
       "\n",
       "    function on_load() {\n",
       "      root._bokeh_is_loading--;\n",
       "      if (root._bokeh_is_loading === 0) {\n",
       "        console.debug(\"Bokeh: all BokehJS libraries/stylesheets loaded\");\n",
       "        run_callbacks()\n",
       "      }\n",
       "    }\n",
       "\n",
       "    function on_error() {\n",
       "      console.error(\"failed to load \" + url);\n",
       "    }\n",
       "\n",
       "    for (var i = 0; i < css_urls.length; i++) {\n",
       "      var url = css_urls[i];\n",
       "      const element = document.createElement(\"link\");\n",
       "      element.onload = on_load;\n",
       "      element.onerror = on_error;\n",
       "      element.rel = \"stylesheet\";\n",
       "      element.type = \"text/css\";\n",
       "      element.href = url;\n",
       "      console.debug(\"Bokeh: injecting link tag for BokehJS stylesheet: \", url);\n",
       "      document.body.appendChild(element);\n",
       "    }\n",
       "\n",
       "    for (var i = 0; i < js_urls.length; i++) {\n",
       "      var url = js_urls[i];\n",
       "      var element = document.createElement('script');\n",
       "      element.onload = on_load;\n",
       "      element.onerror = on_error;\n",
       "      element.async = false;\n",
       "      element.src = url;\n",
       "      console.debug(\"Bokeh: injecting script tag for BokehJS library: \", url);\n",
       "      document.head.appendChild(element);\n",
       "    }\n",
       "  };var element = document.getElementById(\"1548\");\n",
       "  if (element == null) {\n",
       "    console.error(\"Bokeh: ERROR: autoload.js configured with elementid '1548' but no matching script tag was found. \")\n",
       "    return false;\n",
       "  }\n",
       "\n",
       "  function inject_raw_css(css) {\n",
       "    const element = document.createElement(\"style\");\n",
       "    element.appendChild(document.createTextNode(css));\n",
       "    document.body.appendChild(element);\n",
       "  }\n",
       "\n",
       "  var js_urls = [\"https://cdn.pydata.org/bokeh/release/bokeh-1.1.0.min.js\", \"https://cdn.pydata.org/bokeh/release/bokeh-widgets-1.1.0.min.js\", \"https://cdn.pydata.org/bokeh/release/bokeh-tables-1.1.0.min.js\", \"https://cdn.pydata.org/bokeh/release/bokeh-gl-1.1.0.min.js\"];\n",
       "  var css_urls = [\"https://cdn.pydata.org/bokeh/release/bokeh-1.1.0.min.css\", \"https://cdn.pydata.org/bokeh/release/bokeh-widgets-1.1.0.min.css\", \"https://cdn.pydata.org/bokeh/release/bokeh-tables-1.1.0.min.css\"];\n",
       "\n",
       "  var inline_js = [\n",
       "    function(Bokeh) {\n",
       "      Bokeh.set_log_level(\"info\");\n",
       "    },\n",
       "    \n",
       "    function(Bokeh) {\n",
       "      \n",
       "    },\n",
       "    function(Bokeh) {} // ensure no trailing comma for IE\n",
       "  ];\n",
       "\n",
       "  function run_inline_js() {\n",
       "    \n",
       "    if ((root.Bokeh !== undefined) || (force === true)) {\n",
       "      for (var i = 0; i < inline_js.length; i++) {\n",
       "        inline_js[i].call(root, root.Bokeh);\n",
       "      }if (force === true) {\n",
       "        display_loaded();\n",
       "      }} else if (Date.now() < root._bokeh_timeout) {\n",
       "      setTimeout(run_inline_js, 100);\n",
       "    } else if (!root._bokeh_failed_load) {\n",
       "      console.log(\"Bokeh: BokehJS failed to load within specified timeout.\");\n",
       "      root._bokeh_failed_load = true;\n",
       "    } else if (force !== true) {\n",
       "      var cell = $(document.getElementById(\"1548\")).parents('.cell').data().cell;\n",
       "      cell.output_area.append_execute_result(NB_LOAD_WARNING)\n",
       "    }\n",
       "\n",
       "  }\n",
       "\n",
       "  if (root._bokeh_is_loading === 0) {\n",
       "    console.debug(\"Bokeh: BokehJS loaded, going straight to plotting\");\n",
       "    run_inline_js();\n",
       "  } else {\n",
       "    load_libs(css_urls, js_urls, function() {\n",
       "      console.debug(\"Bokeh: BokehJS plotting callback run at\", now());\n",
       "      run_inline_js();\n",
       "    });\n",
       "  }\n",
       "}(window));"
      ],
      "application/vnd.bokehjs_load.v0+json": "\n(function(root) {\n  function now() {\n    return new Date();\n  }\n\n  var force = true;\n\n  if (typeof root._bokeh_onload_callbacks === \"undefined\" || force === true) {\n    root._bokeh_onload_callbacks = [];\n    root._bokeh_is_loading = undefined;\n  }\n\n  \n\n  \n  if (typeof (root._bokeh_timeout) === \"undefined\" || force === true) {\n    root._bokeh_timeout = Date.now() + 5000;\n    root._bokeh_failed_load = false;\n  }\n\n  var NB_LOAD_WARNING = {'data': {'text/html':\n     \"<div style='background-color: #fdd'>\\n\"+\n     \"<p>\\n\"+\n     \"BokehJS does not appear to have successfully loaded. If loading BokehJS from CDN, this \\n\"+\n     \"may be due to a slow or bad network connection. Possible fixes:\\n\"+\n     \"</p>\\n\"+\n     \"<ul>\\n\"+\n     \"<li>re-rerun `output_notebook()` to attempt to load from CDN again, or</li>\\n\"+\n     \"<li>use INLINE resources instead, as so:</li>\\n\"+\n     \"</ul>\\n\"+\n     \"<code>\\n\"+\n     \"from bokeh.resources import INLINE\\n\"+\n     \"output_notebook(resources=INLINE)\\n\"+\n     \"</code>\\n\"+\n     \"</div>\"}};\n\n  function display_loaded() {\n    var el = document.getElementById(\"1548\");\n    if (el != null) {\n      el.textContent = \"BokehJS is loading...\";\n    }\n    if (root.Bokeh !== undefined) {\n      if (el != null) {\n        el.textContent = \"BokehJS \" + root.Bokeh.version + \" successfully loaded.\";\n      }\n    } else if (Date.now() < root._bokeh_timeout) {\n      setTimeout(display_loaded, 100)\n    }\n  }\n\n\n  function run_callbacks() {\n    try {\n      root._bokeh_onload_callbacks.forEach(function(callback) {\n        if (callback != null)\n          callback();\n      });\n    } finally {\n      delete root._bokeh_onload_callbacks\n    }\n    console.debug(\"Bokeh: all callbacks have finished\");\n  }\n\n  function load_libs(css_urls, js_urls, callback) {\n    if (css_urls == null) css_urls = [];\n    if (js_urls == null) js_urls = [];\n\n    root._bokeh_onload_callbacks.push(callback);\n    if (root._bokeh_is_loading > 0) {\n      console.debug(\"Bokeh: BokehJS is being loaded, scheduling callback at\", now());\n      return null;\n    }\n    if (js_urls == null || js_urls.length === 0) {\n      run_callbacks();\n      return null;\n    }\n    console.debug(\"Bokeh: BokehJS not loaded, scheduling load and callback at\", now());\n    root._bokeh_is_loading = css_urls.length + js_urls.length;\n\n    function on_load() {\n      root._bokeh_is_loading--;\n      if (root._bokeh_is_loading === 0) {\n        console.debug(\"Bokeh: all BokehJS libraries/stylesheets loaded\");\n        run_callbacks()\n      }\n    }\n\n    function on_error() {\n      console.error(\"failed to load \" + url);\n    }\n\n    for (var i = 0; i < css_urls.length; i++) {\n      var url = css_urls[i];\n      const element = document.createElement(\"link\");\n      element.onload = on_load;\n      element.onerror = on_error;\n      element.rel = \"stylesheet\";\n      element.type = \"text/css\";\n      element.href = url;\n      console.debug(\"Bokeh: injecting link tag for BokehJS stylesheet: \", url);\n      document.body.appendChild(element);\n    }\n\n    for (var i = 0; i < js_urls.length; i++) {\n      var url = js_urls[i];\n      var element = document.createElement('script');\n      element.onload = on_load;\n      element.onerror = on_error;\n      element.async = false;\n      element.src = url;\n      console.debug(\"Bokeh: injecting script tag for BokehJS library: \", url);\n      document.head.appendChild(element);\n    }\n  };var element = document.getElementById(\"1548\");\n  if (element == null) {\n    console.error(\"Bokeh: ERROR: autoload.js configured with elementid '1548' but no matching script tag was found. \")\n    return false;\n  }\n\n  function inject_raw_css(css) {\n    const element = document.createElement(\"style\");\n    element.appendChild(document.createTextNode(css));\n    document.body.appendChild(element);\n  }\n\n  var js_urls = [\"https://cdn.pydata.org/bokeh/release/bokeh-1.1.0.min.js\", \"https://cdn.pydata.org/bokeh/release/bokeh-widgets-1.1.0.min.js\", \"https://cdn.pydata.org/bokeh/release/bokeh-tables-1.1.0.min.js\", \"https://cdn.pydata.org/bokeh/release/bokeh-gl-1.1.0.min.js\"];\n  var css_urls = [\"https://cdn.pydata.org/bokeh/release/bokeh-1.1.0.min.css\", \"https://cdn.pydata.org/bokeh/release/bokeh-widgets-1.1.0.min.css\", \"https://cdn.pydata.org/bokeh/release/bokeh-tables-1.1.0.min.css\"];\n\n  var inline_js = [\n    function(Bokeh) {\n      Bokeh.set_log_level(\"info\");\n    },\n    \n    function(Bokeh) {\n      \n    },\n    function(Bokeh) {} // ensure no trailing comma for IE\n  ];\n\n  function run_inline_js() {\n    \n    if ((root.Bokeh !== undefined) || (force === true)) {\n      for (var i = 0; i < inline_js.length; i++) {\n        inline_js[i].call(root, root.Bokeh);\n      }if (force === true) {\n        display_loaded();\n      }} else if (Date.now() < root._bokeh_timeout) {\n      setTimeout(run_inline_js, 100);\n    } else if (!root._bokeh_failed_load) {\n      console.log(\"Bokeh: BokehJS failed to load within specified timeout.\");\n      root._bokeh_failed_load = true;\n    } else if (force !== true) {\n      var cell = $(document.getElementById(\"1548\")).parents('.cell').data().cell;\n      cell.output_area.append_execute_result(NB_LOAD_WARNING)\n    }\n\n  }\n\n  if (root._bokeh_is_loading === 0) {\n    console.debug(\"Bokeh: BokehJS loaded, going straight to plotting\");\n    run_inline_js();\n  } else {\n    load_libs(css_urls, js_urls, function() {\n      console.debug(\"Bokeh: BokehJS plotting callback run at\", now());\n      run_inline_js();\n    });\n  }\n}(window));"
     },
     "metadata": {},
     "output_type": "display_data"
    },
    {
     "data": {
      "text/html": [
       "\n",
       "\n",
       "\n",
       "\n",
       "\n",
       "\n",
       "  <div class=\"bk-root\" id=\"9f7ca224-7853-43f2-bd7e-382593450312\" data-root-id=\"1586\"></div>\n"
      ]
     },
     "metadata": {},
     "output_type": "display_data"
    },
    {
     "data": {
      "application/javascript": [
       "(function(root) {\n",
       "  function embed_document(root) {\n",
       "    \n",
       "  var docs_json = {\"548f3638-d95f-4ef8-8a4e-23ef735804d6\":{\"roots\":{\"references\":[{\"attributes\":{\"children\":[{\"id\":\"1585\",\"type\":\"ToolbarBox\"},{\"id\":\"1583\",\"type\":\"GridBox\"}]},\"id\":\"1586\",\"type\":\"Column\"},{\"attributes\":{},\"id\":\"1466\",\"type\":\"LinearScale\"},{\"attributes\":{\"axis_label\":\"PC 1 (27.6%)\",\"axis_label_text_font_size\":{\"value\":\"13pt\"},\"formatter\":{\"id\":\"1497\",\"type\":\"BasicTickFormatter\"},\"ticker\":{\"id\":\"1469\",\"type\":\"BasicTicker\"}},\"id\":\"1468\",\"type\":\"LinearAxis\"},{\"attributes\":{\"callback\":null},\"id\":\"1462\",\"type\":\"DataRange1d\"},{\"attributes\":{\"fill_alpha\":0.1,\"fill_color\":\"#1f77b4\",\"line_alpha\":0.1,\"line_color\":\"#1f77b4\",\"x\":{\"field\":\"x\"},\"y\":{\"field\":\"y\"}},\"id\":\"1545\",\"type\":\"Patch\"},{\"attributes\":{\"dimension\":1,\"ticker\":{\"id\":\"1474\",\"type\":\"BasicTicker\"}},\"id\":\"1477\",\"type\":\"Grid\"},{\"attributes\":{},\"id\":\"1464\",\"type\":\"LinearScale\"},{\"attributes\":{\"ticker\":{\"id\":\"1469\",\"type\":\"BasicTicker\"}},\"id\":\"1472\",\"type\":\"Grid\"},{\"attributes\":{\"source\":{\"id\":\"1538\",\"type\":\"ColumnDataSource\"}},\"id\":\"1542\",\"type\":\"CDSView\"},{\"attributes\":{\"line_alpha\":{\"value\":0.15},\"line_width\":{\"value\":3},\"location\":0},\"id\":\"1506\",\"type\":\"Span\"},{\"attributes\":{\"callback\":null,\"data\":{\"x\":{\"__ndarray__\":\"LjL36/YyA0CCtWPAGR8DQNTvXhmu9QJALFZiqd62AkCwJXYv7GICQM58czQt+gFAirjQsQ19AUCKCVSiDuwAQIT8Hn3FRwBAEQc4N7ch/z+NpNkVG5D9P+YAG5NU3Ps/QZnp4yQI+j8V5hqmbhX4PzmD7u4zBvY/AqYgOZTc8z/5I680yprxP6YTJfVShu4/GFaTTTiw6T8WFmG2QLjkPxyxzbYWR98/aGIQEqru1D8UDlAYy+PEP0DJ0lSrM2K/CLifgKWSxb/0L9XI43HVvx5g7+KOCeC/07oDzwVR5b9sTDeK5Ynqv5qIagDMru+/XCou2jVd8r9ZK3+byNP0v4e99kGUOPe/IvbDHiGJ+b/Ni51hDMP7vyGnZY4K5P2/G3XB2unp/78CHZo4SukAwOZ3tEsJzgHAepi5WkaiAsCuFvidJmUDwGpGiTPhFQTAFiZk7r+zBMDS1ScSID4FwNoC3PpytAXAaFv6rz4WBsAkeSliHmMGwFanJ9PCmgbAIGZ6p/K8BsCcdo6hiskGwHh9C8Z9wAbAmMk1adWhBsCMc1AlsW0GwJa/CbpGJAbAvlYT1eHFBcAmdB/E41IFwM5wkxDDywTAohJXBQsxBMDekz4fW4MDwExlo2hmwwLASCTVwPLxAcBWAyEQ2A8BwKvnQWn/HQDAv049MsQ6/r/II5xLER78v7tU03sT6Pm/Q1GQMhKb979Bwo+YbDn1v5Ybvh2XxfK/SBpp8RhC8L/N6DvOEmPrv7rZx5UaLea/XUYoT6jn4L8TI3cIVjDXv+V5imRwEMm/KHtn9TQfnr84IIGo/G7BP/qG3KQvOdM/GuqUCkyY3T9QUqRJEeXjP8zQ9XsY4ug/cIbcOBe+7T855geVBTrxPxOOHpiMf/M/FQU8Mkmt9T8GeQp2/MD3P9ov+kyCuPk/1bE8rNOR+z9/A8+rCEv9P/dna31a4v4/nhyuoBIrAEBUSKbbdNIAQMxLrGSnZgFAdiHjdxHnAUDs5Pu1LlMCQEyYqayPqgJACMuCSdrsAkAKtto2yhkDQJoXMiIxMQNALjL36/YyA0A=\",\"dtype\":\"float64\",\"shape\":[100]},\"y\":{\"__ndarray__\":\"eNOOm5PC1j+NvnCHzhjfPyYcHINKsOM/KArT/a7I5z8zsjX/W9HrP8uGGAYpxu8/yy4OB4HR8T+cOvDh9bHzPwJV4M+DgvU/Slxy8UtB9z8mA0K5gez4P0QfssZsgvo/3ADgq2oB/D8G4vac8Gf9PzzPJgeNtP4/6IabDenl/z+iTXX1ZH0AQNBBxhoJ+QBA9REJg2FlAUC8wfN+/sEBQINrypaADgJAIELI7JhKAkDWnWuOCXYCQAJHUbSlkAJAZCtd8FGaAkAF6QBKBJMCQCMJg0jEegJAzFI866pRAkAQNdOP4hcCQK3Yj8amzQFAxN31FERzAUBAEOOmFwkBQKtihO6OjwBARzCEMycHAECUJMwj2uD+P9rOKtL3l/0/3u13d/o0/D8akAsCULn6P+6ZDNB/Jvk/JpgCHCl+9z/K7M5QAcL1PwuOxkbS8/M/qiO9a3gV8j8oA+jX4CjwP7OWJqMOYOw/kShqg+hZ6D+yhfQ2dUPkP+z263HrIOA/zI2fvBzt1z8marLcpCLPP8CwANxW3Lw/UPeEVNSPkb/yOJG4qazCv4iw+7JyeNG/QobufvR22b+/w1hVzqTgv6OpOWotdOS/c54BD6ol6L8Z9tSidbXrv8Wwvz/kH++/ssbJQbgw8b98OImYX7vyv+Kq01JRLvS/9l0OEA+I9b8aBnhqNMf2v0KmimZ46ve/zt4axq7w+L+WHdc9ydj5v06m54vYofq/TjyQbg1L+7+UMtV5udP7v7SmR8tPO/y/UJA/m2WB/L/A8O2qsqX8v2ys1Y4RqPy/UEle1X+I/L+sz1gJHkf8v/4zdJAv5Pu/hN7DZRpg+7887p+wZrv6vxKUSzi+9vm/vDPytOsS+b/osa/+2RD4vw5YexuT8fa/btnuLD+29b+4JQQ/I2D0v0K0BPmf8PK/EqwDMjBp8b9bRrPUzpbvvx8FaVfgMey/26HQohSn6L+/QIx1Evrkv4oGqtKjLuG/DKF2M2SR2r8C7C/9g5jSv85+1pO99cS/qN2EQZIGor/OwzFImjS4P2e8mIr4zMw/cNOOm5PC1j8=\",\"dtype\":\"float64\",\"shape\":[100]}},\"selected\":{\"id\":\"1570\",\"type\":\"Selection\"},\"selection_policy\":{\"id\":\"1569\",\"type\":\"UnionRenderers\"}},\"id\":\"1538\",\"type\":\"ColumnDataSource\"},{\"attributes\":{\"source\":{\"id\":\"1513\",\"type\":\"ColumnDataSource\"}},\"id\":\"1517\",\"type\":\"CDSView\"},{\"attributes\":{\"fill_alpha\":0.07,\"fill_color\":\"red\",\"line_alpha\":0.07,\"line_color\":\"red\",\"x\":{\"field\":\"x\"},\"y\":{\"field\":\"y\"}},\"id\":\"1519\",\"type\":\"Patch\"},{\"attributes\":{\"data_source\":{\"id\":\"1518\",\"type\":\"ColumnDataSource\"},\"glyph\":{\"id\":\"1519\",\"type\":\"Patch\"},\"hover_glyph\":null,\"muted_glyph\":null,\"nonselection_glyph\":{\"id\":\"1520\",\"type\":\"Patch\"},\"selection_glyph\":null,\"view\":{\"id\":\"1522\",\"type\":\"CDSView\"}},\"id\":\"1521\",\"type\":\"GlyphRenderer\"},{\"attributes\":{\"source\":{\"id\":\"1406\",\"type\":\"ColumnDataSource\"}},\"id\":\"1445\",\"type\":\"CDSView\"},{\"attributes\":{\"below\":[{\"id\":\"1418\",\"type\":\"LinearAxis\"}],\"center\":[{\"id\":\"1422\",\"type\":\"Grid\"},{\"id\":\"1427\",\"type\":\"Grid\"},{\"id\":\"1452\",\"type\":\"Legend\"}],\"left\":[{\"id\":\"1423\",\"type\":\"LinearAxis\"}],\"min_border_bottom\":20,\"min_border_left\":20,\"min_border_right\":20,\"min_border_top\":20,\"plot_height\":430,\"plot_width\":490,\"renderers\":[{\"id\":\"1444\",\"type\":\"GlyphRenderer\"},{\"id\":\"1511\",\"type\":\"GlyphRenderer\"},{\"id\":\"1516\",\"type\":\"GlyphRenderer\"},{\"id\":\"1521\",\"type\":\"GlyphRenderer\"},{\"id\":\"1526\",\"type\":\"GlyphRenderer\"},{\"id\":\"1531\",\"type\":\"GlyphRenderer\"},{\"id\":\"1536\",\"type\":\"GlyphRenderer\"},{\"id\":\"1541\",\"type\":\"GlyphRenderer\"},{\"id\":\"1546\",\"type\":\"GlyphRenderer\"}],\"title\":{\"id\":\"1408\",\"type\":\"Title\"},\"toolbar\":{\"id\":\"1434\",\"type\":\"Toolbar\"},\"toolbar_location\":null,\"x_range\":{\"id\":\"1410\",\"type\":\"DataRange1d\"},\"x_scale\":{\"id\":\"1414\",\"type\":\"LinearScale\"},\"y_range\":{\"id\":\"1412\",\"type\":\"DataRange1d\"},\"y_scale\":{\"id\":\"1416\",\"type\":\"LinearScale\"}},\"id\":\"1407\",\"subtype\":\"Figure\",\"type\":\"Plot\"},{\"attributes\":{\"dimension\":1,\"ticker\":{\"id\":\"1424\",\"type\":\"BasicTicker\"}},\"id\":\"1427\",\"type\":\"Grid\"},{\"attributes\":{\"callback\":null},\"id\":\"1460\",\"type\":\"DataRange1d\"},{\"attributes\":{},\"id\":\"1474\",\"type\":\"BasicTicker\"},{\"attributes\":{\"line_alpha\":0.1,\"line_color\":\"#1f77b4\",\"x\":{\"field\":\"x\"},\"y\":{\"field\":\"y\"}},\"id\":\"1535\",\"type\":\"Line\"},{\"attributes\":{},\"id\":\"1557\",\"type\":\"UnionRenderers\"},{\"attributes\":{},\"id\":\"1469\",\"type\":\"BasicTicker\"},{\"attributes\":{},\"id\":\"1567\",\"type\":\"UnionRenderers\"},{\"attributes\":{},\"id\":\"1428\",\"type\":\"PanTool\"},{\"attributes\":{\"data_source\":{\"id\":\"1508\",\"type\":\"ColumnDataSource\"},\"glyph\":{\"id\":\"1509\",\"type\":\"Line\"},\"hover_glyph\":null,\"muted_glyph\":null,\"nonselection_glyph\":{\"id\":\"1510\",\"type\":\"Line\"},\"selection_glyph\":null,\"view\":{\"id\":\"1512\",\"type\":\"CDSView\"}},\"id\":\"1511\",\"type\":\"GlyphRenderer\"},{\"attributes\":{\"callback\":null,\"data\":{\"x\":{\"__ndarray__\":\"5vmFkBXKKUAQng0aQbEpQPimR4l6fSlA4uZLPfcuKUBJquQkCMYoQDBXIWsZQyhA2eHVB7KmJ0AYB3o0c/EmQNG298UXJCZAmP8TbHM/JUAGAjnXcUQkQL3bgcUVNCNA9voC+HcPIkD6ymERxtcgQGIazL2CHB9A3MWKGntoHEBQ4/yUPpYZQKAiWay1qBZAKAyeA+WiE0AmpB5F6ocQQGJ7hNjxtQpANCqO8a0+BEAx4rk7ZmH7P9iUZ0AMS+w/4MuAhPvrqj8bRQXdqvbov+iWzurdxPm/1ryAnMN7A8DUMoFG2wIKwAifIK19OBDAmb6XfcFfE8DX/zzv+HMWwJB2Un/3cRnAUf1Sk6dWHMBo+OKmDR8fwEiNbq8l5CDABe4nP9EnIsAVqS/dO1kjwLKaELUqdyTAawPXB3eAJcAsIeVbD3QmwNic2pb4UCfAbzRsAE8WKMAa0CAtR8MowGMIAtAuVynAFvdncm3RKcBA3CIRhTEqwP+VYJ4SdyrAewTIZ86hKsAXGWFgjLEqwKlh/U08pirAz0Dy2el/KsBDlROFvD4qwE40+3734inAQDHHYPlsKcAEVpbLO90owNNRJ+tSNCjAINwb3exyJ8CnPX390JkmwHNDOxnfqSXALHJ5hw6kJMD/SJgqbYkjwGpmAVoeWyLADFbVtVkaIcBgNmHL05AfwJIzpodWzRzAOm8S7BTtGcB3vJHrBfMWwCOsCxI74hPAgWqhWt29EMBO9obbUxILwHjj9ZTdjgTAhdZceR3w+7/nJBp8yFLtv7Ys6yTvc7W/ioe3Ui7x5z+Gjdg1ZTj5Pw7BTW1BLQNAAv/gLLOoCUDLqSih7AMQQNmYmyARIhNAYMqrVpArFkAh1mvNSB0ZQPEnSJEx9BtAs/zsUV2tHkDRhlez/qIgQBVZrVmy3SFAUuo2NYUFI0BbXfJURhkkQCcc9HfZFyVA8p5qMjgAJkCW1SD8ctEmQO1ZaCeyiidAAOVsvzYrKEBT2QtNW7IoQIv5ZIGUHylA9nh0xXFyKUC6XiKunaopQK6YT1TexylA5vmFkBXKKUA=\",\"dtype\":\"float64\",\"shape\":[100]},\"y\":{\"__ndarray__\":\"AX8M8GTA5j9apeAe/Mv1P8T+rB7aEgBARqgRuFcxBUBV+sz5LzwKQBKEaEIwLg9ASKg2xh8BEkAMN9HXsVkUQA5YPUFjnhZAJeEza93MGEC4cfek4OIaQN+Uw3VG3hxA3e481AO9HkAoxMyglT4gQGu4KmN3DiFAOKsz51DNIUDxF4VxXXoiQCpJKqDqFCNAV819IlmcI0AQKWNdHRAkQEl9L/u/byRAjcmsZt66JEAv/LgwK/EkQKgPGGBuEiVAI+0mq4UeJUAtmjObZBUlQFBCVpkU9yRAZd695LTDJEA5eXpyenskQL9F5ravHiRAGszlWLStI0A1S07P/CgjQDzy1+gRkSJAPrMXP5DmIUDCDRKVJyohQC04DSKaXCBAINe6knf9HkDqYfN/4iIdQDOudEFeKxtA+Sto4PEYGUDFlWciwO0WQFYf3VUFrBRAXVoRBBVWEkB6440Wr9wPQPQXukaP7gpAS44On9/mBUC0gnt/z8oAQHagYZJGP/c/0VC2wruq6T8OzBn8BxXDPzMjWMtVHOC/KKwGoUJy8r9sDMcd8L78v79yE7XKdAPAVDiL1NtzCMAXGeXvhFcNwDwc/+RdDRHAPRX8y0tcE8AELGAIK5YVwLDgciqwuBfAlErX1KfBGcDSmEYB+a4bwNCnIyqnfh3AqQetVtQuH8DrjNiD4V4gwAMxZAHsFCHAW1Qe/c24IcCZ+/OH3kkiwAtRvhiIxyLAzK5nJkkxI8C3yHKttIYjwEtRWqByxyPATUNVQkDzI8CTPyJs8AkkwN8Uk7prCyTA7XaoprD3I8DoCiWH084jwJgplnv+kCPALfTnQHE+I8D/fbHvgNciwKbFfKSXXCLAcOlkEjTOIcBLWHsA6SwhwCOgerJceSDA/6HFepBoH8BbQWCR7bwdwIjz4HmJ8RvAS6kfwT0IGsAvHovHAgMYwGm1PLnt4xXAXXddaC6tE8CtuhIMDWERwJesiszPAw7AE0lgpWEkCcDsF3SD1SgEwBhY0oacLP6/eAup5Azk879Jd7mnKwXjv1idZYapoq0/6n4M8GTA5j8=\",\"dtype\":\"float64\",\"shape\":[100]}},\"selected\":{\"id\":\"1572\",\"type\":\"Selection\"},\"selection_policy\":{\"id\":\"1571\",\"type\":\"UnionRenderers\"}},\"id\":\"1543\",\"type\":\"ColumnDataSource\"},{\"attributes\":{},\"id\":\"1570\",\"type\":\"Selection\"},{\"attributes\":{\"fill_alpha\":0.07,\"fill_color\":\"blue\",\"line_alpha\":0.07,\"line_color\":\"blue\",\"x\":{\"field\":\"x\"},\"y\":{\"field\":\"y\"}},\"id\":\"1539\",\"type\":\"Patch\"},{\"attributes\":{\"callback\":null,\"renderers\":[{\"id\":\"1444\",\"type\":\"GlyphRenderer\"}],\"tooltips\":[[\"Idx\",\"@Idx\"],[\"SampleType\",\"@SampleType\"]]},\"id\":\"1454\",\"type\":\"HoverTool\"},{\"attributes\":{\"data_source\":{\"id\":\"1406\",\"type\":\"ColumnDataSource\"},\"glyph\":{\"id\":\"1442\",\"type\":\"Circle\"},\"hover_glyph\":null,\"muted_glyph\":null,\"nonselection_glyph\":{\"id\":\"1443\",\"type\":\"Circle\"},\"selection_glyph\":null,\"view\":{\"id\":\"1445\",\"type\":\"CDSView\"}},\"id\":\"1444\",\"type\":\"GlyphRenderer\"},{\"attributes\":{\"dimension\":\"height\",\"line_alpha\":{\"value\":0.15},\"line_width\":{\"value\":3},\"location\":0},\"id\":\"1507\",\"type\":\"Span\"},{\"attributes\":{\"line_alpha\":0.1,\"line_color\":\"#1f77b4\",\"line_width\":2,\"x\":{\"field\":\"x\"},\"y\":{\"field\":\"y\"}},\"id\":\"1530\",\"type\":\"Line\"},{\"attributes\":{\"fill_alpha\":0.01,\"fill_color\":\"red\",\"line_alpha\":0.01,\"line_color\":\"red\",\"x\":{\"field\":\"x\"},\"y\":{\"field\":\"y\"}},\"id\":\"1524\",\"type\":\"Patch\"},{\"attributes\":{},\"id\":\"1555\",\"type\":\"UnionRenderers\"},{\"attributes\":{},\"id\":\"1563\",\"type\":\"UnionRenderers\"},{\"attributes\":{\"fill_alpha\":{\"value\":0.1},\"fill_color\":{\"value\":\"#1f77b4\"},\"line_alpha\":{\"value\":0.1},\"line_color\":{\"value\":\"#1f77b4\"},\"size\":{\"units\":\"screen\",\"value\":7},\"x\":{\"field\":\"x\"},\"y\":{\"field\":\"y\"}},\"id\":\"1493\",\"type\":\"Triangle\"},{\"attributes\":{},\"id\":\"1562\",\"type\":\"Selection\"},{\"attributes\":{\"callback\":null,\"renderers\":[{\"id\":\"1494\",\"type\":\"GlyphRenderer\"}],\"tooltips\":[[\"Name\",\"@Name\"],[\"Label\",\"@Label\"]]},\"id\":\"1504\",\"type\":\"HoverTool\"},{\"attributes\":{\"text\":\"PCA Loadings Plot (PC1 vs. PC2)\",\"text_font_size\":{\"value\":\"15pt\"}},\"id\":\"1458\",\"type\":\"Title\"},{\"attributes\":{\"label\":{\"field\":\"group\"},\"renderers\":[{\"id\":\"1444\",\"type\":\"GlyphRenderer\"}]},\"id\":\"1453\",\"type\":\"LegendItem\"},{\"attributes\":{},\"id\":\"1431\",\"type\":\"SaveTool\"},{\"attributes\":{\"fill_alpha\":0.1,\"fill_color\":\"#1f77b4\",\"line_alpha\":0.1,\"line_color\":\"#1f77b4\",\"x\":{\"field\":\"x\"},\"y\":{\"field\":\"y\"}},\"id\":\"1520\",\"type\":\"Patch\"},{\"attributes\":{},\"id\":\"1556\",\"type\":\"Selection\"},{\"attributes\":{\"fill_alpha\":{\"value\":0.6},\"fill_color\":{\"field\":\"col\"},\"line_alpha\":{\"value\":0.6},\"line_color\":{\"field\":\"col\"},\"size\":{\"units\":\"screen\",\"value\":5},\"x\":{\"field\":\"x\"},\"y\":{\"field\":\"y\"}},\"id\":\"1442\",\"type\":\"Circle\"},{\"attributes\":{\"callback\":null,\"data\":{\"Idx\":[1,2,3,4,5,6,7,8,9,10,11,12,13,14,15,16,17,18,19,20,21,22,23,24,25,26,27,28,29,30],\"SampleType\":[\"Sample\",\"Sample\",\"QC\",\"Sample\",\"Sample\",\"Sample\",\"Sample\",\"Sample\",\"QC\",\"Sample\",\"Sample\",\"Sample\",\"Sample\",\"Sample\",\"Sample\",\"Sample\",\"Sample\",\"QC\",\"Sample\",\"Sample\",\"Sample\",\"Sample\",\"QC\",\"Sample\",\"QC\",\"Sample\",\"Sample\",\"Sample\",\"Sample\",\"Sample\"],\"col\":[\"blue\",\"blue\",\"red\",\"blue\",\"blue\",\"blue\",\"blue\",\"blue\",\"red\",\"blue\",\"blue\",\"blue\",\"blue\",\"blue\",\"blue\",\"blue\",\"blue\",\"red\",\"blue\",\"blue\",\"blue\",\"blue\",\"red\",\"blue\",\"red\",\"blue\",\"blue\",\"blue\",\"blue\",\"blue\"],\"group\":[\"Sample\",\"Sample\",\"QC\",\"Sample\",\"Sample\",\"Sample\",\"Sample\",\"Sample\",\"QC\",\"Sample\",\"Sample\",\"Sample\",\"Sample\",\"Sample\",\"Sample\",\"Sample\",\"Sample\",\"QC\",\"Sample\",\"Sample\",\"Sample\",\"Sample\",\"QC\",\"Sample\",\"QC\",\"Sample\",\"Sample\",\"Sample\",\"Sample\",\"Sample\"],\"x\":{\"__ndarray__\":\"gl8RgiklEUC6sUYZaX4SwJAzOTpZfPM/ygaXYxg4IEDoy4fsgqwSwOC17yF6IA3A8/cEr003FcCnfTWsHIYDwK0KJ6FhJ+4/IBd5tyh9H0AjxTtsUYkXwLzl/Xch1hBAdYdMFT/TD0BiqifrMssTwMTQREz/tRLAe9niFuCgHkCma6qxOfoBwPBRgSnBYPM/pn/oQVbgEEA0aP+eUyoZwO8Qy/JcFP+/xoHIga6LH0DKkcBR9v7xP6ZBd/u07RTAOXJCGCyX8T8X36YKlNAOQHylZuv5ixbAJFEeIm+zAsBC/7+biGoTwA6F6jxRQRxA\",\"dtype\":\"float64\",\"shape\":[30]},\"y\":{\"__ndarray__\":\"ky55p0YAvj+u7XnLFm0WwHjB3GlZnva/8QkP4y8q4D/5uMFj1SEbQNZzJxInWAHARuJpKP4PFcCS4ei4k+P+v9MXcOUTA/O/cU+zDwqv1D8eQRe02CkeQLyYgPZZWLY/3KjnJdvQ4D8/lS2CM/wVwGEQ3jjjqhlA+zDzpbhU6D/29b2YSaL2v5+0e5tbQPe/0HqkxCCR7j86KZD9dUscQCLzLCzg0Py/348z7jK4sL8d1P4ZGkfzv+Fpn9PkmRbAH2VdvAKO9r9v7BhPCYziP+caqmtFzhPAfJO7caUV7b/dfCqvRgcgQFqscf/99wFA\",\"dtype\":\"float64\",\"shape\":[30]}},\"selected\":{\"id\":\"1556\",\"type\":\"Selection\"},\"selection_policy\":{\"id\":\"1555\",\"type\":\"UnionRenderers\"}},\"id\":\"1406\",\"type\":\"ColumnDataSource\"},{\"attributes\":{\"line_alpha\":0.8,\"line_color\":\"blue\",\"line_width\":2,\"x\":{\"field\":\"x\"},\"y\":{\"field\":\"y\"}},\"id\":\"1529\",\"type\":\"Line\"},{\"attributes\":{},\"id\":\"1447\",\"type\":\"BasicTickFormatter\"},{\"attributes\":{\"source\":{\"id\":\"1456\",\"type\":\"ColumnDataSource\"}},\"id\":\"1495\",\"type\":\"CDSView\"},{\"attributes\":{},\"id\":\"1560\",\"type\":\"Selection\"},{\"attributes\":{},\"id\":\"1561\",\"type\":\"UnionRenderers\"},{\"attributes\":{},\"id\":\"1568\",\"type\":\"Selection\"},{\"attributes\":{\"children\":[[{\"id\":\"1407\",\"subtype\":\"Figure\",\"type\":\"Plot\"},0,0],[{\"id\":\"1457\",\"subtype\":\"Figure\",\"type\":\"Plot\"},0,1]]},\"id\":\"1583\",\"type\":\"GridBox\"},{\"attributes\":{},\"id\":\"1566\",\"type\":\"Selection\"},{\"attributes\":{},\"id\":\"1499\",\"type\":\"BasicTickFormatter\"},{\"attributes\":{\"items\":[{\"id\":\"1453\",\"type\":\"LegendItem\"}]},\"id\":\"1452\",\"type\":\"Legend\"},{\"attributes\":{},\"id\":\"1580\",\"type\":\"UnionRenderers\"},{\"attributes\":{\"line_alpha\":0.1,\"line_color\":\"#1f77b4\",\"line_width\":2,\"x\":{\"field\":\"x\"},\"y\":{\"field\":\"y\"}},\"id\":\"1510\",\"type\":\"Line\"},{\"attributes\":{\"fill_alpha\":0.01,\"fill_color\":\"blue\",\"line_alpha\":0.01,\"line_color\":\"blue\",\"x\":{\"field\":\"x\"},\"y\":{\"field\":\"y\"}},\"id\":\"1544\",\"type\":\"Patch\"},{\"attributes\":{\"below\":[{\"id\":\"1468\",\"type\":\"LinearAxis\"}],\"center\":[{\"id\":\"1472\",\"type\":\"Grid\"},{\"id\":\"1477\",\"type\":\"Grid\"},{\"id\":\"1502\",\"type\":\"Legend\"},{\"id\":\"1506\",\"type\":\"Span\"},{\"id\":\"1507\",\"type\":\"Span\"}],\"left\":[{\"id\":\"1473\",\"type\":\"LinearAxis\"}],\"min_border_bottom\":20,\"min_border_left\":20,\"min_border_right\":20,\"min_border_top\":20,\"plot_height\":430,\"plot_width\":490,\"renderers\":[{\"id\":\"1494\",\"type\":\"GlyphRenderer\"}],\"title\":{\"id\":\"1458\",\"type\":\"Title\"},\"toolbar\":{\"id\":\"1484\",\"type\":\"Toolbar\"},\"toolbar_location\":null,\"x_range\":{\"id\":\"1460\",\"type\":\"DataRange1d\"},\"x_scale\":{\"id\":\"1464\",\"type\":\"LinearScale\"},\"y_range\":{\"id\":\"1462\",\"type\":\"DataRange1d\"},\"y_scale\":{\"id\":\"1466\",\"type\":\"LinearScale\"}},\"id\":\"1457\",\"subtype\":\"Figure\",\"type\":\"Plot\"},{\"attributes\":{},\"id\":\"1558\",\"type\":\"Selection\"},{\"attributes\":{\"source\":{\"id\":\"1533\",\"type\":\"ColumnDataSource\"}},\"id\":\"1537\",\"type\":\"CDSView\"},{\"attributes\":{\"label\":{\"field\":\"group\"},\"renderers\":[{\"id\":\"1494\",\"type\":\"GlyphRenderer\"}]},\"id\":\"1503\",\"type\":\"LegendItem\"},{\"attributes\":{},\"id\":\"1571\",\"type\":\"UnionRenderers\"},{\"attributes\":{},\"id\":\"1414\",\"type\":\"LinearScale\"},{\"attributes\":{\"data_source\":{\"id\":\"1513\",\"type\":\"ColumnDataSource\"},\"glyph\":{\"id\":\"1514\",\"type\":\"Line\"},\"hover_glyph\":null,\"muted_glyph\":null,\"nonselection_glyph\":{\"id\":\"1515\",\"type\":\"Line\"},\"selection_glyph\":null,\"view\":{\"id\":\"1517\",\"type\":\"CDSView\"}},\"id\":\"1516\",\"type\":\"GlyphRenderer\"},{\"attributes\":{\"data_source\":{\"id\":\"1456\",\"type\":\"ColumnDataSource\"},\"glyph\":{\"id\":\"1492\",\"type\":\"Triangle\"},\"hover_glyph\":null,\"muted_glyph\":null,\"nonselection_glyph\":{\"id\":\"1493\",\"type\":\"Triangle\"},\"selection_glyph\":null,\"view\":{\"id\":\"1495\",\"type\":\"CDSView\"}},\"id\":\"1494\",\"type\":\"GlyphRenderer\"},{\"attributes\":{},\"id\":\"1479\",\"type\":\"WheelZoomTool\"},{\"attributes\":{\"text\":\"PCA Score Plot (PC1 vs. PC2)\",\"text_font_size\":{\"value\":\"15pt\"}},\"id\":\"1408\",\"type\":\"Title\"},{\"attributes\":{\"data_source\":{\"id\":\"1538\",\"type\":\"ColumnDataSource\"},\"glyph\":{\"id\":\"1539\",\"type\":\"Patch\"},\"hover_glyph\":null,\"muted_glyph\":null,\"nonselection_glyph\":{\"id\":\"1540\",\"type\":\"Patch\"},\"selection_glyph\":null,\"view\":{\"id\":\"1542\",\"type\":\"CDSView\"}},\"id\":\"1541\",\"type\":\"GlyphRenderer\"},{\"attributes\":{\"toolbar\":{\"id\":\"1584\",\"type\":\"ProxyToolbar\"},\"toolbar_location\":\"above\"},\"id\":\"1585\",\"type\":\"ToolbarBox\"},{\"attributes\":{\"tools\":[{\"id\":\"1428\",\"type\":\"PanTool\"},{\"id\":\"1429\",\"type\":\"WheelZoomTool\"},{\"id\":\"1430\",\"type\":\"BoxZoomTool\"},{\"id\":\"1431\",\"type\":\"SaveTool\"},{\"id\":\"1432\",\"type\":\"ResetTool\"},{\"id\":\"1433\",\"type\":\"HelpTool\"},{\"id\":\"1454\",\"type\":\"HoverTool\"},{\"id\":\"1478\",\"type\":\"PanTool\"},{\"id\":\"1479\",\"type\":\"WheelZoomTool\"},{\"id\":\"1480\",\"type\":\"BoxZoomTool\"},{\"id\":\"1481\",\"type\":\"SaveTool\"},{\"id\":\"1482\",\"type\":\"ResetTool\"},{\"id\":\"1483\",\"type\":\"HelpTool\"},{\"id\":\"1504\",\"type\":\"HoverTool\"}]},\"id\":\"1584\",\"type\":\"ProxyToolbar\"},{\"attributes\":{\"callback\":null},\"id\":\"1412\",\"type\":\"DataRange1d\"},{\"attributes\":{},\"id\":\"1478\",\"type\":\"PanTool\"},{\"attributes\":{\"callback\":null,\"data\":{\"x\":{\"__ndarray__\":\"LjL36/YyA0CCtWPAGR8DQNTvXhmu9QJALFZiqd62AkCwJXYv7GICQM58czQt+gFAirjQsQ19AUCKCVSiDuwAQIT8Hn3FRwBAEQc4N7ch/z+NpNkVG5D9P+YAG5NU3Ps/QZnp4yQI+j8V5hqmbhX4PzmD7u4zBvY/AqYgOZTc8z/5I680yprxP6YTJfVShu4/GFaTTTiw6T8WFmG2QLjkPxyxzbYWR98/aGIQEqru1D8UDlAYy+PEP0DJ0lSrM2K/CLifgKWSxb/0L9XI43HVvx5g7+KOCeC/07oDzwVR5b9sTDeK5Ynqv5qIagDMru+/XCou2jVd8r9ZK3+byNP0v4e99kGUOPe/IvbDHiGJ+b/Ni51hDMP7vyGnZY4K5P2/G3XB2unp/78CHZo4SukAwOZ3tEsJzgHAepi5WkaiAsCuFvidJmUDwGpGiTPhFQTAFiZk7r+zBMDS1ScSID4FwNoC3PpytAXAaFv6rz4WBsAkeSliHmMGwFanJ9PCmgbAIGZ6p/K8BsCcdo6hiskGwHh9C8Z9wAbAmMk1adWhBsCMc1AlsW0GwJa/CbpGJAbAvlYT1eHFBcAmdB/E41IFwM5wkxDDywTAohJXBQsxBMDekz4fW4MDwExlo2hmwwLASCTVwPLxAcBWAyEQ2A8BwKvnQWn/HQDAv049MsQ6/r/II5xLER78v7tU03sT6Pm/Q1GQMhKb979Bwo+YbDn1v5Ybvh2XxfK/SBpp8RhC8L/N6DvOEmPrv7rZx5UaLea/XUYoT6jn4L8TI3cIVjDXv+V5imRwEMm/KHtn9TQfnr84IIGo/G7BP/qG3KQvOdM/GuqUCkyY3T9QUqRJEeXjP8zQ9XsY4ug/cIbcOBe+7T855geVBTrxPxOOHpiMf/M/FQU8Mkmt9T8GeQp2/MD3P9ov+kyCuPk/1bE8rNOR+z9/A8+rCEv9P/dna31a4v4/nhyuoBIrAEBUSKbbdNIAQMxLrGSnZgFAdiHjdxHnAUDs5Pu1LlMCQEyYqayPqgJACMuCSdrsAkAKtto2yhkDQJoXMiIxMQNALjL36/YyA0A=\",\"dtype\":\"float64\",\"shape\":[100]},\"y\":{\"__ndarray__\":\"eNOOm5PC1j+NvnCHzhjfPyYcHINKsOM/KArT/a7I5z8zsjX/W9HrP8uGGAYpxu8/yy4OB4HR8T+cOvDh9bHzPwJV4M+DgvU/Slxy8UtB9z8mA0K5gez4P0QfssZsgvo/3ADgq2oB/D8G4vac8Gf9PzzPJgeNtP4/6IabDenl/z+iTXX1ZH0AQNBBxhoJ+QBA9REJg2FlAUC8wfN+/sEBQINrypaADgJAIELI7JhKAkDWnWuOCXYCQAJHUbSlkAJAZCtd8FGaAkAF6QBKBJMCQCMJg0jEegJAzFI866pRAkAQNdOP4hcCQK3Yj8amzQFAxN31FERzAUBAEOOmFwkBQKtihO6OjwBARzCEMycHAECUJMwj2uD+P9rOKtL3l/0/3u13d/o0/D8akAsCULn6P+6ZDNB/Jvk/JpgCHCl+9z/K7M5QAcL1PwuOxkbS8/M/qiO9a3gV8j8oA+jX4CjwP7OWJqMOYOw/kShqg+hZ6D+yhfQ2dUPkP+z263HrIOA/zI2fvBzt1z8marLcpCLPP8CwANxW3Lw/UPeEVNSPkb/yOJG4qazCv4iw+7JyeNG/QobufvR22b+/w1hVzqTgv6OpOWotdOS/c54BD6ol6L8Z9tSidbXrv8Wwvz/kH++/ssbJQbgw8b98OImYX7vyv+Kq01JRLvS/9l0OEA+I9b8aBnhqNMf2v0KmimZ46ve/zt4axq7w+L+WHdc9ydj5v06m54vYofq/TjyQbg1L+7+UMtV5udP7v7SmR8tPO/y/UJA/m2WB/L/A8O2qsqX8v2ys1Y4RqPy/UEle1X+I/L+sz1gJHkf8v/4zdJAv5Pu/hN7DZRpg+7887p+wZrv6vxKUSzi+9vm/vDPytOsS+b/osa/+2RD4vw5YexuT8fa/btnuLD+29b+4JQQ/I2D0v0K0BPmf8PK/EqwDMjBp8b9bRrPUzpbvvx8FaVfgMey/26HQohSn6L+/QIx1Evrkv4oGqtKjLuG/DKF2M2SR2r8C7C/9g5jSv85+1pO99cS/qN2EQZIGor/OwzFImjS4P2e8mIr4zMw/cNOOm5PC1j8=\",\"dtype\":\"float64\",\"shape\":[100]}},\"selected\":{\"id\":\"1566\",\"type\":\"Selection\"},\"selection_policy\":{\"id\":\"1565\",\"type\":\"UnionRenderers\"}},\"id\":\"1528\",\"type\":\"ColumnDataSource\"},{\"attributes\":{\"axis_label\":\"PC 2 (17.2%)\",\"axis_label_text_font_size\":{\"value\":\"13pt\"},\"formatter\":{\"id\":\"1449\",\"type\":\"BasicTickFormatter\"},\"ticker\":{\"id\":\"1424\",\"type\":\"BasicTicker\"}},\"id\":\"1423\",\"type\":\"LinearAxis\"},{\"attributes\":{\"source\":{\"id\":\"1523\",\"type\":\"ColumnDataSource\"}},\"id\":\"1527\",\"type\":\"CDSView\"},{\"attributes\":{},\"id\":\"1483\",\"type\":\"HelpTool\"},{\"attributes\":{\"source\":{\"id\":\"1508\",\"type\":\"ColumnDataSource\"}},\"id\":\"1512\",\"type\":\"CDSView\"},{\"attributes\":{},\"id\":\"1481\",\"type\":\"SaveTool\"},{\"attributes\":{\"source\":{\"id\":\"1543\",\"type\":\"ColumnDataSource\"}},\"id\":\"1547\",\"type\":\"CDSView\"},{\"attributes\":{},\"id\":\"1497\",\"type\":\"BasicTickFormatter\"},{\"attributes\":{},\"id\":\"1432\",\"type\":\"ResetTool\"},{\"attributes\":{\"callback\":null,\"data\":{\"x\":{\"__ndarray__\":\"MItaIAQe8D8fPvE/DxLwP/g6tJP+B/A/kSV197j/7z+RWpG0YvPvP027VxYH6+8/ltJYuq7m7z9/hDkbXubvPxASFYwV6u8/Rm4nONHx7z+zPMAmif3vP8wzvaGYBvA/hepXtVwQ8D+SMg69BhzwP4yJz7KKKfA/FOoBqNo48D+MU97T5knwPzYctqOdXPA/AUgQzetw8D/AN4xhvIbwPzgxdeT4nfA/OoLwYYm28D/EWa6HVNDwP3PjA78/6/A/Tb1TSC8H8T8Ph6hXBiTxP9gOZDKnQfE/toHkTfNf8T8pCQBvy37xP4hhNsoPnvE/vDl3JKC98T9Bk1v0W93xP/zir4Mi/fE/FWAsEdMc8j92vjjyTDzyP9aGmLRvW/I/O1bdPxt68j/Kinz2L5jyPz1DZtaOtfI/yBj8mBnS8j+GoEbSsu3yP6yISQ8+CPM/Hw5X858h8z9+j0RUvjnzP50qY1WAUPM/55Yggc5l8z+t0TXhknnzP9iuShW5i/M/0Pf2Zy6c8z/FcQvi4arzPxvqDlzEt/M/AULdjcjC8z/QXlgc48vzP1DiHKUK0/M/vpkuyDfY8z/aqpIvZdvzP8qoz5SP3PM/ZOVNxLXb8z/bg5Se2NjzPwYGYhf70/M/xkKhMiLN8z+l6D3/VMTzP+3g3Y+cufM/RxOH8QOt8z/YLTsgmJ7zPwwwlflnjvM/CoR2LYR88z+6ctMs/2jzP4GtsBbtU/M/TIZlo2M98z88NzgOeiXzP2tOa/1IDPM/PO3UaOrx8j+KDBp/edbyP5pdqYkSuvI/DaqSz9Kc8j93wVh32H7yP+YQ3WdCYPI/4+2EKDBB8j8Qa7nAwSHyP+s245YXAvI/a40ET1Li8T//qROpksLxP/5oOF/5ovE/TeUPBKeD8T+/2Bjhu2TxP8dba9VXRvE/VlPeNJoo8T+yarynoQvxPxLjKQuM7/A/n8xbUnbU8D9lZMBofLrwP3FaNxW5ofA/0qp33kWK8D+Cfb/wOnTwP9os6QSvX/A/TCL/SLdM8D82rmZKZzvwP0dcuOHQK/A/MItaIAQe8D8=\",\"dtype\":\"float64\",\"shape\":[100]},\"y\":{\"__ndarray__\":\"vl5LN0c6879NrydYQUbzv6xpWVFdVPO//qeTl4xk87+cVtx7vnbzv5zRvjzgivO/nFahGd2g87+3XClonrjzv6TFmKsL0vO/UtILrgrt87/+1X2bfwn0v87NeB5NJ/S/CUtSflRG9L9uhNa+dWb0v6/pQMGPh/S/aTxgZoCp9L8A/cKxJMz0v4npx+1Y7/S/o2Ft0PgS9b9hvbmg3zb1v+YHllzoWvW/HBj03u1+9b+UtBgGy6L1vzpK4tlaxvW/GcHksXjp9b/HJjNbAAz2v4o6sD3OLfa/SGS/gL9O9r/OQzAvsm72v2nRP1qFjfa/h/qKOxmr9r/eu89VT8f2v5f1WpQK4va/qZMCaS/79r+sI43ooxL3v4OQaeVPKPe/MXmbCB08978IcsLo9k33vwpzJB/LXfe/OcOlWolr978W05pwI3f3v+WvYmuNgPe/4gG7lr2H979G4MCJrIz3v0UrlC5Vj/e/ZoyVx7SP97/qtTnyyo33v6P3bqeZife/kMCUOSWD97/FJQdQdHr3v0MGQ+CPb/e/rN2pJINi97/0yu6QW1P3v0a5OMQoQve/cvYHefwu979G0O9y6hn3v30PN2oIA/e/eVB09W3q9r8jTj1xNND2v3cvAuZ2tPa/wsov7FGX9r8gmLWO43j2v+y1DSxLWfa/auvmVak49r/Z/pGvHxf2v3P6VMvQ9PW/sR7IBuDR9b8fPmFmca71v+oWU3CpivW/6e/mBq1m9b90SHdCoUL1v3HMMkurHvW/Q/fOMvD69L9K4VHOlNf0v4+bGpC9tPS/5DxPYo6S9L/TWteBKnH0vwUYCVq0UPS/qDkuYU0x9L/A1gX2FRP0v8YvZj4t9vO/HxQhB7Ha879T7kulvcDzv0whC9ltqPO/ytH+sdqR87/DiG11G33zv+xPR4ZFavO/igIaT2xZ8789jA0uoUrzv2G3/GLzPfO/hv+8/28z878unKXaISvzvxenY4MRJfO/DuImOkUh878qNTDpwB/zv8OJyCCGIPO/JyukFZQj879hVrSh5yjzvw4hZkd7MPO/vl5LN0c6878=\",\"dtype\":\"float64\",\"shape\":[100]}},\"selected\":{\"id\":\"1558\",\"type\":\"Selection\"},\"selection_policy\":{\"id\":\"1557\",\"type\":\"UnionRenderers\"}},\"id\":\"1508\",\"type\":\"ColumnDataSource\"},{\"attributes\":{\"line_alpha\":0.1,\"line_color\":\"#1f77b4\",\"x\":{\"field\":\"x\"},\"y\":{\"field\":\"y\"}},\"id\":\"1515\",\"type\":\"Line\"},{\"attributes\":{},\"id\":\"1433\",\"type\":\"HelpTool\"},{\"attributes\":{\"axis_label\":\"PC 1 (27.6%)\",\"axis_label_text_font_size\":{\"value\":\"13pt\"},\"formatter\":{\"id\":\"1447\",\"type\":\"BasicTickFormatter\"},\"ticker\":{\"id\":\"1419\",\"type\":\"BasicTicker\"}},\"id\":\"1418\",\"type\":\"LinearAxis\"},{\"attributes\":{},\"id\":\"1565\",\"type\":\"UnionRenderers\"},{\"attributes\":{\"callback\":null},\"id\":\"1410\",\"type\":\"DataRange1d\"},{\"attributes\":{},\"id\":\"1564\",\"type\":\"Selection\"},{\"attributes\":{},\"id\":\"1482\",\"type\":\"ResetTool\"},{\"attributes\":{\"callback\":null,\"data\":{\"x\":{\"__ndarray__\":\"VL52Hl3Q6z+Ns3F25JrrPyxXSDvhbes//gxg04FJ6z9d6R696y3rP3B0RWg7G+s/8ImeGIQR6z/BjCPSzxDrP+tmqU4fGes/bvog/Wkq6z9dyGsKnkTrP+mzu3OgZ+s/rvBqIk2T6z+TaC8Rd8frP1xAg3roA+w/LqQSEGNI7D/suPU6oJTsP7J9dGRR6Ow/Y5sJRyBD7T9NoFBHr6TtP/b7g9SZDO4/uEMn0HR67j/s43L8zu3uP8hqD3ExZu8/gBioFSDj7z9+LesQDTLwPzAs8VBNdPA/Ktjnfwy48D/5lhTIBP3wP+Yj/RDvQvE/LgKxSIOJ8T/ZFRSueNDxP0zO3RuGF/I/vJP/U2Je8j8gviRLxKTyP/JB/nNj6vI//XQMCvgu8z9S05lbO3LzP+GBmhLos/M/R3AlfLrz8z+obD3OcDH0P+45omvLbPQ/OMBjJY2l9D/cvvN5e9v0P7H8dNFeDvU/j8sJtwI+9T9RzOYONmr1P/I18kjLkvU/G3G7j5i39T/SnZrzd9j1P66Py5FH9fU/1/Bbt+kN9j88isj/RCL2PwkiKm9EMvY/CfXWh9c99j/GfmJb8kT2P4IK6paNR/Y/ZV+hiqZF9j+uv5csPz/2PwJgshZeNPY/Y2zefw4l9j9mnoEwYBH2P2JPNXJn+fU/zcvc+jzd9T+IdizT/bz1P+b9uzjLmPU/aHzCe8pw9T9o15/YJEX1P8cBW00HFvU/0vNAa6Lj9D9OJ9QkKq70PzUzQJjVdfQ/ELqI1t469D9HPK6ngv3zP+uBBkwAvvM/4DEJO5l88z9FzNPfkDnzP6qYqlMs9fI/aCu+FrKv8j+17n7HaWnyPy+ZydibIvI/Haw4R5Hb8T8H9edNk5TxP8ig9xrrTfE/x7AchOEH8T/slIy7vsLwP0tPkQXKfvA/atgSb0k88D8m/cIKA/fvP9BeFx9qee8/VAcQk0kA7z9HBPVCHozuPzrGs+5fHe4/hFVuvoC07T/ec87M7FHtPw74lbcJ9uw/qELfNjah7D/dxXm7yVPsPztGxxQUDuw/Vb52Hl3Q6z8=\",\"dtype\":\"float64\",\"shape\":[100]},\"y\":{\"__ndarray__\":\"hG1eHfKc8L+rnqgvurfwv3yy481G1/C/kieCcnf78L/1LFLPJiTxv0Au8vMqUfG/4x4MeVWC8b879Cqwc7fxv3//+NdO8PG//0yxVKws8r/y2YnsTWzyv/lZ2AfyrvK/XG2v9FP08r9pla4tLDzzvyrou6MwhvO/HYRbChXS878JElYmix/0v+hBXR5DbvS/HSJbzeu99L8geBcWMw71v1Ph3DfGXvW//HrGI1Kv9b+jIl7Sg//1vxANM5kIT/a/+nkQgI6d9r9RrXyVxOr2v4EUKUJbNve/I5X9mgSA979+cmqxdMf3vyT+reFhDPi/bWS9HoVO+L8LVYI7mo34vy0IIjFgyfi/pi4FYpkB+b89tFvZCzb5v0vb2oaBZvm/Fhx4dsiS+b9gVecDs7r5v5w5pwkY3vm/MXlrC9P8+b/w8LhbxBb6v8gXjTzRK/q/qgLv+uM7+r8XlE0F7Eb6v6XIk/zdTPq/cIXhv7NN+r8w09xybEn6v80ClX4MQPq/cNH2jJ0x+r+dO9Z+Lh76v0pEmFzTBfq/En+MQaXo+b/vpgtCwsb5vyrvdUxNoPm/ugQxBW51+b9M3sqdUEb5v3Z6a6clE/m/6IHE4CHc+L/aaLL/faH4v8Ubx3Z2Y/i/w3n6Nksi+L/818BtP973v35/yz+Zl/e/joe6gKFO97/0lApoowP3vwHhi0Pstva/7nSyJ8to9r8wvhGekBn2v1GDV1KOyfW/cM0bvhZ59b/CjtzTfCj1vzypfKkT2PS/BHmeIi6I9L/uKzKbHjn0v9H5j5I26/O/b8F1V8ae878Ooz61HFTzv3ruqaKGC/O/Sx6F8k7F8r+AqIoGvoHyvyEmxYQZQfK/irvDD6QD8r9yw+kBncnxv+aKICxAk/G/6m8umMVg8b8I8vJOYTLxv5pAwyJDCPG/YpEefpbi8L8pEO02gsHwv5GJd2YopfC/NxVBRqaN8L/t+uYRFHvwv9PgJe6EbfC/MgIe1QZl8L+exuqHomHwv3WTnIVbY/C/HSWeBzBq8L8ZJ4kDGXbwv+onaDIKh/C/hG1eHfKc8L8=\",\"dtype\":\"float64\",\"shape\":[100]}},\"selected\":{\"id\":\"1560\",\"type\":\"Selection\"},\"selection_policy\":{\"id\":\"1559\",\"type\":\"UnionRenderers\"}},\"id\":\"1513\",\"type\":\"ColumnDataSource\"},{\"attributes\":{\"callback\":null,\"data\":{\"Label\":[\"Ethylenediaminetetraacetic acid (EDTA)\",\"Ethylenediaminetetraacetic acid (EDTA)\",\"ECU0035_Carnitine\",\"ECU0128_D-Tryptophan\",\"Piperine\",\"ECU0077_L-Phenylalanine\",\"ECU0506_Indoleacrylic acid\",\"ECU0131_L-Valine\",\"D-(+)-Proline\",\"ECU0077_L-Phenylalanine\",\"ECU0026_Caffeine\",\"ECU0131_L-Valine\",\"Creatinine\",\"DL-Stachydrine\",\"ECU0110_L-Tyrosine\",\"ECU0307_L-Acetylcarnitine\",\"Uric acid\",\"ECU0076_L-Isoleucine\",\"ECU0307_L-Acetylcarnitine\",\"ECU0100_Theobromine\",\"DL-Stachydrine\",\"ECU0060_L-Arginine\",\"ECU0110_L-Tyrosine\",\"3-Acetamidophenol\",\"ECU0100_Theobromine\",\"Uric acid\",\"Pseudoephedrine\",\"ECU0093_L-Methionine\",\"3-Acetamidophenol\",\"ECU0110_L-Tyrosine\",\"N-Methyl-2-AI\",\"Glycerophospho-N-palmitoyl ethanolamine\",\"ECU0482_2-Hydroxycinnamic acid\",\"ECU0354_Hippuric acid\",\"3-Acetamidophenol\",\"ECU0041_Pyroglutamic acid\",\"ECU0363_Decanoylcarnitine\",\"ECU0060_L-Arginine\",\"ECU0344_Pipecolic acid\",\"Gabapentin\",\"L-Methionine sulfoxide\",\"N-Benzylformamide\",\"ECU0426_Phenylacetylglutamine\",\"ECU0454_Lyso-PAF C16\",\"ECU0063_L-Histidine\",\"4-[2-(4-Allyl-2,6-dimethoxyphenoxy)-1-hydroxypropyl]-2-methoxyphenol\",\"Docosahexaenoic acid ethyl ester\",\"4-Indolecarbaldehyde\",\"ECU0665_Glycoursodeoxycholic acid\",\"ECU0247_L-Kynurenine\",\"L-Methionine sulfoxide\",\"ECU0428_Propionylcarnitine\",\"ECU0420_Sphingosine 1-phosphate\",\"1,5-Naphthalenediamine\",\"ECU0130_L-Lysine\",\"ECU0613_L-alpha-Aminobutyric acid\",\"Methyl palmitate\",\"ECU0168_Indole-3-methyl acetate\",\"Docosahexaenoic acid\",\"ECU0665_Glycoursodeoxycholic acid\",\"Gabapentin\",\"ECU0130_L-Lysine\",\"ECU0676_DL-2-Aminooctanoic acid\",\"ECU0015_Indoleacetic acid\",\"ECU0041_Pyroglutamic acid\",\"ECU0108_Cortisol\",\"Hexanoylcarnitine\",\"Choline\",\"ECU0182_alpha-Linolenic acid\",\"ECU0243_5-Methoxyindoleacetate\",\"Tris(2-butoxyethyl) phosphate\",\"ECU0006_trans-Cinnamic acid\",\"Cyclo(leucylprolyl)\",\"ECU0595_Glycocholic acid\",\"Decanamide\",\"ECU0613_L-alpha-Aminobutyric acid\",\"MDPBP\",\"Isoquinoline\",\"ECU0006_trans-Cinnamic acid\",\"Docosahexaenoic acid ethyl ester\",\"Formestane\",\"Methyl palmitate\",\"Isoquinoline\",\"Arachidonic acid\",\"Dehydroepiandrosterone (DHEA)\",\"Tetranor-12(S)-HETE\",\"ECU0039_Tyrosol\"],\"Name\":[\"P3\",\"P8\",\"P10\",\"P12\",\"P13\",\"P14\",\"P16\",\"P17\",\"P19\",\"P20\",\"P22\",\"P24\",\"P27\",\"P31\",\"P35\",\"P37\",\"P38\",\"P50\",\"P57\",\"P58\",\"P61\",\"P64\",\"P66\",\"P73\",\"P85\",\"P100\",\"P110\",\"P118\",\"P121\",\"P132\",\"P134\",\"P138\",\"P143\",\"P147\",\"P148\",\"P149\",\"P150\",\"P159\",\"P167\",\"P171\",\"P173\",\"P175\",\"P207\",\"P210\",\"P238\",\"P239\",\"P241\",\"P253\",\"P262\",\"P269\",\"P276\",\"P313\",\"P322\",\"P324\",\"P334\",\"P356\",\"P361\",\"P383\",\"P391\",\"P394\",\"P398\",\"P407\",\"P414\",\"P436\",\"P455\",\"P531\",\"P539\",\"P569\",\"P593\",\"P631\",\"P661\",\"P687\",\"P690\",\"P703\",\"P715\",\"P716\",\"P734\",\"P765\",\"P802\",\"P808\",\"P825\",\"P901\",\"P913\",\"P1023\",\"P1259\",\"P1297\",\"P1781\"],\"col\":[\"green\",\"green\",\"green\",\"green\",\"green\",\"green\",\"green\",\"green\",\"green\",\"green\",\"green\",\"green\",\"green\",\"green\",\"green\",\"green\",\"green\",\"green\",\"green\",\"green\",\"green\",\"green\",\"green\",\"green\",\"green\",\"green\",\"green\",\"green\",\"green\",\"green\",\"green\",\"green\",\"green\",\"green\",\"green\",\"green\",\"green\",\"green\",\"green\",\"green\",\"green\",\"green\",\"green\",\"green\",\"green\",\"green\",\"green\",\"green\",\"green\",\"green\",\"green\",\"green\",\"green\",\"green\",\"green\",\"green\",\"green\",\"green\",\"green\",\"green\",\"green\",\"green\",\"green\",\"green\",\"green\",\"green\",\"green\",\"green\",\"green\",\"green\",\"green\",\"green\",\"green\",\"green\",\"green\",\"green\",\"green\",\"green\",\"green\",\"green\",\"green\",\"green\",\"green\",\"green\",\"green\",\"green\",\"green\"],\"group\":[null,null,null,null,null,null,null,null,null,null,null,null,null,null,null,null,null,null,null,null,null,null,null,null,null,null,null,null,null,null,null,null,null,null,null,null,null,null,null,null,null,null,null,null,null,null,null,null,null,null,null,null,null,null,null,null,null,null,null,null,null,null,null,null,null,null,null,null,null,null,null,null,null,null,null,null,null,null,null,null,null,null,null,null,null,null,null],\"x\":{\"__ndarray__\":\"4NtTaiK3tr8kxB92Taawv2RnCtCUkcI/xHFucv67yD9L4HDCQsO8P4i3R8oOtbU/2Y7/AfDJyD/WC3ySYmKDP5tZZQtYs8Q/YbhecG7Znz8RG+3O+RvBP4eaEhDqJ4A/iVSOG7HtvD+GgeCprGWHvydY1CgpQbA/uWa8xx2Um7/4liIJ2CO8P5WNVNFqmrU/FQLVv5zaqj/h5P+0Rs7AP6jY+NMAG5u/4aDEuu7mwT97wnIMM/izP0fLtUtLi7m/A7Xd2OLwsz+Z9k0vqLe2P358z8aPkbe/dPneP8lrvz+b1W/2JSm4v6z7KgcZ57I/Mmcs53t+tb8mvsVNZPjEPw7X+yPQiKs/Zlap+njpxD8NfdxPbki0v4qLaoTbtLU/B/6HwFUXpD9r0pBuUDW6PzLYJFdrh6c/FXlP9uchv7/5Y1g8QROwP7HL7UHIEaI/lTZ3quIlvT8T8nkosyS5P0gLCXU+abC/KoygFxl4mj/Pnydmwj2/P7tgrvup/cc/nWDEXhf6xD98b8EYmMHFPzROI97+17A/HJGpMIaEwT+c6YmH9xrIP21KvTqdasg/FFRjlyQbq7/6jgmVSiShv+0MYUublIg/ScaGuTFAur8Gi2DgoZy8v8kP75JLgME/AkW1z8VDvb8hoi4rFV1sP/vh+jE4LKU/4h2T2HLqxj+FE2H+5PC8P/j/gVjosaY/s9UlU3Bfqb8VDHHLDQO/P5vs+P6jLsa/xEVLDFSmwD93CX4ltcWWP5PajFoxJ7c/02KPyR6bwj99ywMM+BrCP29085bN8Jc/6Mm/02SKkT/VsZY5Fz6mPz7TkAkbWbm/wZ9lZmIWtj+T5bqcZbDEP85BvzOnOb0/UZKMr1dFij/gMfWhbwvHP1D0h/N9kMK/DFpk2w4pkz/VANCqY6S2PxB/P/c/ZZy/\",\"dtype\":\"float64\",\"shape\":[87]},\"y\":{\"__ndarray__\":\"Z1W0N6WfwT+90CmU9NPJP4dj5brHIps//0i4/xlqrr8FXvUEz561vx6YEsUvd5C/PzyjBRo1q78Z0+ehKCS2P01bQyPb9bA/CvqxTfHklL/5wkkC0ljFP0ab4o7i2LC/x73fDARjnb/AhNKaErXHvwOJFn81fJu/2IQZ6F6TvL9/k0pCBuPAP9Y7+SYiB76/Vhy9YjmAyr+ggglelxDEP/hxQCN3Psu/lbHvi7DTr79KO7G+mcqpP0RmdgMYW8s/KtVYeuf5wT/9CpIyZk+aPy0rFmUtosw/whwej4rBvL/CVKlaWg/MP7RjLQReOo+/aiicoo9QzD/P1gt+KWy6P9U1M6DA3py/WlKVV+QBob/gPsqEsZbKPxB16RbmDaC/t8WKk5eUw7/4Xw4p0dqlv9PReQW61qe/I/p9pw6hj7+qWvABjgqFv8sW/viuBbC/PxYvsZ62hD/HFr3c+8HCP78q8Z59c70/INHqRBcThL8kflvTFQYVP7bfqOvLE62/L46yyEk2aL8IbT0S1CCyP1GmmtMw466/ZYsFU1utp79oD1dkhIWiP2Hgc3bgArG/f3wqPeG5Yr8jFcC7obWwP0oz9I1MKIG/+oGSkZjRlj/Y+gIXD7vGv1LBkQ85x8M/pf9vMXSRkb8YNxK0RUa3vyZ15RYJ57g/IvQktgb4uT9a6bDp5trFv+rlcrZQjsy/NyTyLQLMu7/BAQgfmSWEP9Qp7t00Lbe/651P8dWWwr9+d4mWO8Vav7MKeN/7m2i/252z8sU1rz/HdPUwtivGP8ySBqRZ77Q/lTyS6kXlbD/so7VM7nWlPziHWvrm+5g/kApYupPzrb+qt2E+/6iEP7NZV4w8qsQ/I7nwi7ROY785mhA5SDW2P32+7YaMfMO/dHxW6kMnmT8Acga+o8+jv1yXCb34WoG/\",\"dtype\":\"float64\",\"shape\":[87]}},\"selected\":{\"id\":\"1581\",\"type\":\"Selection\"},\"selection_policy\":{\"id\":\"1580\",\"type\":\"UnionRenderers\"}},\"id\":\"1456\",\"type\":\"ColumnDataSource\"},{\"attributes\":{\"fill_alpha\":{\"value\":0.1},\"fill_color\":{\"value\":\"#1f77b4\"},\"line_alpha\":{\"value\":0.1},\"line_color\":{\"value\":\"#1f77b4\"},\"size\":{\"units\":\"screen\",\"value\":5},\"x\":{\"field\":\"x\"},\"y\":{\"field\":\"y\"}},\"id\":\"1443\",\"type\":\"Circle\"},{\"attributes\":{\"callback\":null,\"data\":{\"x\":{\"__ndarray__\":\"VL52Hl3Q6z+Ns3F25JrrPyxXSDvhbes//gxg04FJ6z9d6R696y3rP3B0RWg7G+s/8ImeGIQR6z/BjCPSzxDrP+tmqU4fGes/bvog/Wkq6z9dyGsKnkTrP+mzu3OgZ+s/rvBqIk2T6z+TaC8Rd8frP1xAg3roA+w/LqQSEGNI7D/suPU6oJTsP7J9dGRR6Ow/Y5sJRyBD7T9NoFBHr6TtP/b7g9SZDO4/uEMn0HR67j/s43L8zu3uP8hqD3ExZu8/gBioFSDj7z9+LesQDTLwPzAs8VBNdPA/Ktjnfwy48D/5lhTIBP3wP+Yj/RDvQvE/LgKxSIOJ8T/ZFRSueNDxP0zO3RuGF/I/vJP/U2Je8j8gviRLxKTyP/JB/nNj6vI//XQMCvgu8z9S05lbO3LzP+GBmhLos/M/R3AlfLrz8z+obD3OcDH0P+45omvLbPQ/OMBjJY2l9D/cvvN5e9v0P7H8dNFeDvU/j8sJtwI+9T9RzOYONmr1P/I18kjLkvU/G3G7j5i39T/SnZrzd9j1P66Py5FH9fU/1/Bbt+kN9j88isj/RCL2PwkiKm9EMvY/CfXWh9c99j/GfmJb8kT2P4IK6paNR/Y/ZV+hiqZF9j+uv5csPz/2PwJgshZeNPY/Y2zefw4l9j9mnoEwYBH2P2JPNXJn+fU/zcvc+jzd9T+IdizT/bz1P+b9uzjLmPU/aHzCe8pw9T9o15/YJEX1P8cBW00HFvU/0vNAa6Lj9D9OJ9QkKq70PzUzQJjVdfQ/ELqI1t469D9HPK6ngv3zP+uBBkwAvvM/4DEJO5l88z9FzNPfkDnzP6qYqlMs9fI/aCu+FrKv8j+17n7HaWnyPy+ZydibIvI/Haw4R5Hb8T8H9edNk5TxP8ig9xrrTfE/x7AchOEH8T/slIy7vsLwP0tPkQXKfvA/atgSb0k88D8m/cIKA/fvP9BeFx9qee8/VAcQk0kA7z9HBPVCHozuPzrGs+5fHe4/hFVuvoC07T/ec87M7FHtPw74lbcJ9uw/qELfNjah7D/dxXm7yVPsPztGxxQUDuw/Vb52Hl3Q6z8=\",\"dtype\":\"float64\",\"shape\":[100]},\"y\":{\"__ndarray__\":\"hG1eHfKc8L+rnqgvurfwv3yy481G1/C/kieCcnf78L/1LFLPJiTxv0Au8vMqUfG/4x4MeVWC8b879Cqwc7fxv3//+NdO8PG//0yxVKws8r/y2YnsTWzyv/lZ2AfyrvK/XG2v9FP08r9pla4tLDzzvyrou6MwhvO/HYRbChXS878JElYmix/0v+hBXR5DbvS/HSJbzeu99L8geBcWMw71v1Ph3DfGXvW//HrGI1Kv9b+jIl7Sg//1vxANM5kIT/a/+nkQgI6d9r9RrXyVxOr2v4EUKUJbNve/I5X9mgSA979+cmqxdMf3vyT+reFhDPi/bWS9HoVO+L8LVYI7mo34vy0IIjFgyfi/pi4FYpkB+b89tFvZCzb5v0vb2oaBZvm/Fhx4dsiS+b9gVecDs7r5v5w5pwkY3vm/MXlrC9P8+b/w8LhbxBb6v8gXjTzRK/q/qgLv+uM7+r8XlE0F7Eb6v6XIk/zdTPq/cIXhv7NN+r8w09xybEn6v80ClX4MQPq/cNH2jJ0x+r+dO9Z+Lh76v0pEmFzTBfq/En+MQaXo+b/vpgtCwsb5vyrvdUxNoPm/ugQxBW51+b9M3sqdUEb5v3Z6a6clE/m/6IHE4CHc+L/aaLL/faH4v8Ubx3Z2Y/i/w3n6Nksi+L/818BtP973v35/yz+Zl/e/joe6gKFO97/0lApoowP3vwHhi0Pstva/7nSyJ8to9r8wvhGekBn2v1GDV1KOyfW/cM0bvhZ59b/CjtzTfCj1vzypfKkT2PS/BHmeIi6I9L/uKzKbHjn0v9H5j5I26/O/b8F1V8ae878Ooz61HFTzv3ruqaKGC/O/Sx6F8k7F8r+AqIoGvoHyvyEmxYQZQfK/irvDD6QD8r9yw+kBncnxv+aKICxAk/G/6m8umMVg8b8I8vJOYTLxv5pAwyJDCPG/YpEefpbi8L8pEO02gsHwv5GJd2YopfC/NxVBRqaN8L/t+uYRFHvwv9PgJe6EbfC/MgIe1QZl8L+exuqHomHwv3WTnIVbY/C/HSWeBzBq8L8ZJ4kDGXbwv+onaDIKh/C/hG1eHfKc8L8=\",\"dtype\":\"float64\",\"shape\":[100]}},\"selected\":{\"id\":\"1564\",\"type\":\"Selection\"},\"selection_policy\":{\"id\":\"1563\",\"type\":\"UnionRenderers\"}},\"id\":\"1523\",\"type\":\"ColumnDataSource\"},{\"attributes\":{\"ticker\":{\"id\":\"1419\",\"type\":\"BasicTicker\"}},\"id\":\"1422\",\"type\":\"Grid\"},{\"attributes\":{\"source\":{\"id\":\"1518\",\"type\":\"ColumnDataSource\"}},\"id\":\"1522\",\"type\":\"CDSView\"},{\"attributes\":{\"fill_alpha\":0.1,\"fill_color\":\"#1f77b4\",\"line_alpha\":0.1,\"line_color\":\"#1f77b4\",\"x\":{\"field\":\"x\"},\"y\":{\"field\":\"y\"}},\"id\":\"1540\",\"type\":\"Patch\"},{\"attributes\":{},\"id\":\"1416\",\"type\":\"LinearScale\"},{\"attributes\":{},\"id\":\"1449\",\"type\":\"BasicTickFormatter\"},{\"attributes\":{\"line_alpha\":0.4,\"line_color\":\"red\",\"x\":{\"field\":\"x\"},\"y\":{\"field\":\"y\"}},\"id\":\"1514\",\"type\":\"Line\"},{\"attributes\":{},\"id\":\"1559\",\"type\":\"UnionRenderers\"},{\"attributes\":{\"callback\":null,\"data\":{\"x\":{\"__ndarray__\":\"MItaIAQe8D8fPvE/DxLwP/g6tJP+B/A/kSV197j/7z+RWpG0YvPvP027VxYH6+8/ltJYuq7m7z9/hDkbXubvPxASFYwV6u8/Rm4nONHx7z+zPMAmif3vP8wzvaGYBvA/hepXtVwQ8D+SMg69BhzwP4yJz7KKKfA/FOoBqNo48D+MU97T5knwPzYctqOdXPA/AUgQzetw8D/AN4xhvIbwPzgxdeT4nfA/OoLwYYm28D/EWa6HVNDwP3PjA78/6/A/Tb1TSC8H8T8Ph6hXBiTxP9gOZDKnQfE/toHkTfNf8T8pCQBvy37xP4hhNsoPnvE/vDl3JKC98T9Bk1v0W93xP/zir4Mi/fE/FWAsEdMc8j92vjjyTDzyP9aGmLRvW/I/O1bdPxt68j/Kinz2L5jyPz1DZtaOtfI/yBj8mBnS8j+GoEbSsu3yP6yISQ8+CPM/Hw5X858h8z9+j0RUvjnzP50qY1WAUPM/55Yggc5l8z+t0TXhknnzP9iuShW5i/M/0Pf2Zy6c8z/FcQvi4arzPxvqDlzEt/M/AULdjcjC8z/QXlgc48vzP1DiHKUK0/M/vpkuyDfY8z/aqpIvZdvzP8qoz5SP3PM/ZOVNxLXb8z/bg5Se2NjzPwYGYhf70/M/xkKhMiLN8z+l6D3/VMTzP+3g3Y+cufM/RxOH8QOt8z/YLTsgmJ7zPwwwlflnjvM/CoR2LYR88z+6ctMs/2jzP4GtsBbtU/M/TIZlo2M98z88NzgOeiXzP2tOa/1IDPM/PO3UaOrx8j+KDBp/edbyP5pdqYkSuvI/DaqSz9Kc8j93wVh32H7yP+YQ3WdCYPI/4+2EKDBB8j8Qa7nAwSHyP+s245YXAvI/a40ET1Li8T//qROpksLxP/5oOF/5ovE/TeUPBKeD8T+/2Bjhu2TxP8dba9VXRvE/VlPeNJoo8T+yarynoQvxPxLjKQuM7/A/n8xbUnbU8D9lZMBofLrwP3FaNxW5ofA/0qp33kWK8D+Cfb/wOnTwP9os6QSvX/A/TCL/SLdM8D82rmZKZzvwP0dcuOHQK/A/MItaIAQe8D8=\",\"dtype\":\"float64\",\"shape\":[100]},\"y\":{\"__ndarray__\":\"vl5LN0c6879NrydYQUbzv6xpWVFdVPO//qeTl4xk87+cVtx7vnbzv5zRvjzgivO/nFahGd2g87+3XClonrjzv6TFmKsL0vO/UtILrgrt87/+1X2bfwn0v87NeB5NJ/S/CUtSflRG9L9uhNa+dWb0v6/pQMGPh/S/aTxgZoCp9L8A/cKxJMz0v4npx+1Y7/S/o2Ft0PgS9b9hvbmg3zb1v+YHllzoWvW/HBj03u1+9b+UtBgGy6L1vzpK4tlaxvW/GcHksXjp9b/HJjNbAAz2v4o6sD3OLfa/SGS/gL9O9r/OQzAvsm72v2nRP1qFjfa/h/qKOxmr9r/eu89VT8f2v5f1WpQK4va/qZMCaS/79r+sI43ooxL3v4OQaeVPKPe/MXmbCB08978IcsLo9k33vwpzJB/LXfe/OcOlWolr978W05pwI3f3v+WvYmuNgPe/4gG7lr2H979G4MCJrIz3v0UrlC5Vj/e/ZoyVx7SP97/qtTnyyo33v6P3bqeZife/kMCUOSWD97/FJQdQdHr3v0MGQ+CPb/e/rN2pJINi97/0yu6QW1P3v0a5OMQoQve/cvYHefwu979G0O9y6hn3v30PN2oIA/e/eVB09W3q9r8jTj1xNND2v3cvAuZ2tPa/wsov7FGX9r8gmLWO43j2v+y1DSxLWfa/auvmVak49r/Z/pGvHxf2v3P6VMvQ9PW/sR7IBuDR9b8fPmFmca71v+oWU3CpivW/6e/mBq1m9b90SHdCoUL1v3HMMkurHvW/Q/fOMvD69L9K4VHOlNf0v4+bGpC9tPS/5DxPYo6S9L/TWteBKnH0vwUYCVq0UPS/qDkuYU0x9L/A1gX2FRP0v8YvZj4t9vO/HxQhB7Ha879T7kulvcDzv0whC9ltqPO/ytH+sdqR87/DiG11G33zv+xPR4ZFavO/igIaT2xZ8789jA0uoUrzv2G3/GLzPfO/hv+8/28z878unKXaISvzvxenY4MRJfO/DuImOkUh878qNTDpwB/zv8OJyCCGIPO/JyukFZQj879hVrSh5yjzvw4hZkd7MPO/vl5LN0c6878=\",\"dtype\":\"float64\",\"shape\":[100]}},\"selected\":{\"id\":\"1562\",\"type\":\"Selection\"},\"selection_policy\":{\"id\":\"1561\",\"type\":\"UnionRenderers\"}},\"id\":\"1518\",\"type\":\"ColumnDataSource\"},{\"attributes\":{\"overlay\":{\"id\":\"1451\",\"type\":\"BoxAnnotation\"}},\"id\":\"1430\",\"type\":\"BoxZoomTool\"},{\"attributes\":{\"data_source\":{\"id\":\"1528\",\"type\":\"ColumnDataSource\"},\"glyph\":{\"id\":\"1529\",\"type\":\"Line\"},\"hover_glyph\":null,\"muted_glyph\":null,\"nonselection_glyph\":{\"id\":\"1530\",\"type\":\"Line\"},\"selection_glyph\":null,\"view\":{\"id\":\"1532\",\"type\":\"CDSView\"}},\"id\":\"1531\",\"type\":\"GlyphRenderer\"},{\"attributes\":{\"overlay\":{\"id\":\"1501\",\"type\":\"BoxAnnotation\"}},\"id\":\"1480\",\"type\":\"BoxZoomTool\"},{\"attributes\":{\"active_drag\":\"auto\",\"active_inspect\":\"auto\",\"active_multi\":null,\"active_scroll\":\"auto\",\"active_tap\":\"auto\",\"tools\":[{\"id\":\"1428\",\"type\":\"PanTool\"},{\"id\":\"1429\",\"type\":\"WheelZoomTool\"},{\"id\":\"1430\",\"type\":\"BoxZoomTool\"},{\"id\":\"1431\",\"type\":\"SaveTool\"},{\"id\":\"1432\",\"type\":\"ResetTool\"},{\"id\":\"1433\",\"type\":\"HelpTool\"},{\"id\":\"1454\",\"type\":\"HoverTool\"}]},\"id\":\"1434\",\"type\":\"Toolbar\"},{\"attributes\":{\"line_alpha\":0.4,\"line_color\":\"blue\",\"x\":{\"field\":\"x\"},\"y\":{\"field\":\"y\"}},\"id\":\"1534\",\"type\":\"Line\"},{\"attributes\":{\"items\":[{\"id\":\"1503\",\"type\":\"LegendItem\"}],\"visible\":false},\"id\":\"1502\",\"type\":\"Legend\"},{\"attributes\":{},\"id\":\"1572\",\"type\":\"Selection\"},{\"attributes\":{\"fill_alpha\":{\"value\":0.6},\"fill_color\":{\"field\":\"col\"},\"line_alpha\":{\"value\":0.6},\"line_color\":{\"field\":\"col\"},\"size\":{\"units\":\"screen\",\"value\":7},\"x\":{\"field\":\"x\"},\"y\":{\"field\":\"y\"}},\"id\":\"1492\",\"type\":\"Triangle\"},{\"attributes\":{\"bottom_units\":\"screen\",\"fill_alpha\":{\"value\":0.5},\"fill_color\":{\"value\":\"lightgrey\"},\"left_units\":\"screen\",\"level\":\"overlay\",\"line_alpha\":{\"value\":1.0},\"line_color\":{\"value\":\"black\"},\"line_dash\":[4,4],\"line_width\":{\"value\":2},\"render_mode\":\"css\",\"right_units\":\"screen\",\"top_units\":\"screen\"},\"id\":\"1451\",\"type\":\"BoxAnnotation\"},{\"attributes\":{\"source\":{\"id\":\"1528\",\"type\":\"ColumnDataSource\"}},\"id\":\"1532\",\"type\":\"CDSView\"},{\"attributes\":{\"callback\":null,\"data\":{\"x\":{\"__ndarray__\":\"5vmFkBXKKUAQng0aQbEpQPimR4l6fSlA4uZLPfcuKUBJquQkCMYoQDBXIWsZQyhA2eHVB7KmJ0AYB3o0c/EmQNG298UXJCZAmP8TbHM/JUAGAjnXcUQkQL3bgcUVNCNA9voC+HcPIkD6ymERxtcgQGIazL2CHB9A3MWKGntoHEBQ4/yUPpYZQKAiWay1qBZAKAyeA+WiE0AmpB5F6ocQQGJ7hNjxtQpANCqO8a0+BEAx4rk7ZmH7P9iUZ0AMS+w/4MuAhPvrqj8bRQXdqvbov+iWzurdxPm/1ryAnMN7A8DUMoFG2wIKwAifIK19OBDAmb6XfcFfE8DX/zzv+HMWwJB2Un/3cRnAUf1Sk6dWHMBo+OKmDR8fwEiNbq8l5CDABe4nP9EnIsAVqS/dO1kjwLKaELUqdyTAawPXB3eAJcAsIeVbD3QmwNic2pb4UCfAbzRsAE8WKMAa0CAtR8MowGMIAtAuVynAFvdncm3RKcBA3CIRhTEqwP+VYJ4SdyrAewTIZ86hKsAXGWFgjLEqwKlh/U08pirAz0Dy2el/KsBDlROFvD4qwE40+3734inAQDHHYPlsKcAEVpbLO90owNNRJ+tSNCjAINwb3exyJ8CnPX390JkmwHNDOxnfqSXALHJ5hw6kJMD/SJgqbYkjwGpmAVoeWyLADFbVtVkaIcBgNmHL05AfwJIzpodWzRzAOm8S7BTtGcB3vJHrBfMWwCOsCxI74hPAgWqhWt29EMBO9obbUxILwHjj9ZTdjgTAhdZceR3w+7/nJBp8yFLtv7Ys6yTvc7W/ioe3Ui7x5z+Gjdg1ZTj5Pw7BTW1BLQNAAv/gLLOoCUDLqSih7AMQQNmYmyARIhNAYMqrVpArFkAh1mvNSB0ZQPEnSJEx9BtAs/zsUV2tHkDRhlez/qIgQBVZrVmy3SFAUuo2NYUFI0BbXfJURhkkQCcc9HfZFyVA8p5qMjgAJkCW1SD8ctEmQO1ZaCeyiidAAOVsvzYrKEBT2QtNW7IoQIv5ZIGUHylA9nh0xXFyKUC6XiKunaopQK6YT1TexylA5vmFkBXKKUA=\",\"dtype\":\"float64\",\"shape\":[100]},\"y\":{\"__ndarray__\":\"AX8M8GTA5j9apeAe/Mv1P8T+rB7aEgBARqgRuFcxBUBV+sz5LzwKQBKEaEIwLg9ASKg2xh8BEkAMN9HXsVkUQA5YPUFjnhZAJeEza93MGEC4cfek4OIaQN+Uw3VG3hxA3e481AO9HkAoxMyglT4gQGu4KmN3DiFAOKsz51DNIUDxF4VxXXoiQCpJKqDqFCNAV819IlmcI0AQKWNdHRAkQEl9L/u/byRAjcmsZt66JEAv/LgwK/EkQKgPGGBuEiVAI+0mq4UeJUAtmjObZBUlQFBCVpkU9yRAZd695LTDJEA5eXpyenskQL9F5ravHiRAGszlWLStI0A1S07P/CgjQDzy1+gRkSJAPrMXP5DmIUDCDRKVJyohQC04DSKaXCBAINe6knf9HkDqYfN/4iIdQDOudEFeKxtA+Sto4PEYGUDFlWciwO0WQFYf3VUFrBRAXVoRBBVWEkB6440Wr9wPQPQXukaP7gpAS44On9/mBUC0gnt/z8oAQHagYZJGP/c/0VC2wruq6T8OzBn8BxXDPzMjWMtVHOC/KKwGoUJy8r9sDMcd8L78v79yE7XKdAPAVDiL1NtzCMAXGeXvhFcNwDwc/+RdDRHAPRX8y0tcE8AELGAIK5YVwLDgciqwuBfAlErX1KfBGcDSmEYB+a4bwNCnIyqnfh3AqQetVtQuH8DrjNiD4V4gwAMxZAHsFCHAW1Qe/c24IcCZ+/OH3kkiwAtRvhiIxyLAzK5nJkkxI8C3yHKttIYjwEtRWqByxyPATUNVQkDzI8CTPyJs8AkkwN8Uk7prCyTA7XaoprD3I8DoCiWH084jwJgplnv+kCPALfTnQHE+I8D/fbHvgNciwKbFfKSXXCLAcOlkEjTOIcBLWHsA6SwhwCOgerJceSDA/6HFepBoH8BbQWCR7bwdwIjz4HmJ8RvAS6kfwT0IGsAvHovHAgMYwGm1PLnt4xXAXXddaC6tE8CtuhIMDWERwJesiszPAw7AE0lgpWEkCcDsF3SD1SgEwBhY0oacLP6/eAup5Azk879Jd7mnKwXjv1idZYapoq0/6n4M8GTA5j8=\",\"dtype\":\"float64\",\"shape\":[100]}},\"selected\":{\"id\":\"1568\",\"type\":\"Selection\"},\"selection_policy\":{\"id\":\"1567\",\"type\":\"UnionRenderers\"}},\"id\":\"1533\",\"type\":\"ColumnDataSource\"},{\"attributes\":{\"data_source\":{\"id\":\"1533\",\"type\":\"ColumnDataSource\"},\"glyph\":{\"id\":\"1534\",\"type\":\"Line\"},\"hover_glyph\":null,\"muted_glyph\":null,\"nonselection_glyph\":{\"id\":\"1535\",\"type\":\"Line\"},\"selection_glyph\":null,\"view\":{\"id\":\"1537\",\"type\":\"CDSView\"}},\"id\":\"1536\",\"type\":\"GlyphRenderer\"},{\"attributes\":{\"bottom_units\":\"screen\",\"fill_alpha\":{\"value\":0.5},\"fill_color\":{\"value\":\"lightgrey\"},\"left_units\":\"screen\",\"level\":\"overlay\",\"line_alpha\":{\"value\":1.0},\"line_color\":{\"value\":\"black\"},\"line_dash\":[4,4],\"line_width\":{\"value\":2},\"render_mode\":\"css\",\"right_units\":\"screen\",\"top_units\":\"screen\"},\"id\":\"1501\",\"type\":\"BoxAnnotation\"},{\"attributes\":{\"fill_alpha\":0.1,\"fill_color\":\"#1f77b4\",\"line_alpha\":0.1,\"line_color\":\"#1f77b4\",\"x\":{\"field\":\"x\"},\"y\":{\"field\":\"y\"}},\"id\":\"1525\",\"type\":\"Patch\"},{\"attributes\":{},\"id\":\"1419\",\"type\":\"BasicTicker\"},{\"attributes\":{},\"id\":\"1581\",\"type\":\"Selection\"},{\"attributes\":{},\"id\":\"1429\",\"type\":\"WheelZoomTool\"},{\"attributes\":{\"axis_label\":\"PC 2 (17.2%)\",\"axis_label_text_font_size\":{\"value\":\"13pt\"},\"formatter\":{\"id\":\"1499\",\"type\":\"BasicTickFormatter\"},\"ticker\":{\"id\":\"1474\",\"type\":\"BasicTicker\"}},\"id\":\"1473\",\"type\":\"LinearAxis\"},{\"attributes\":{},\"id\":\"1569\",\"type\":\"UnionRenderers\"},{\"attributes\":{\"data_source\":{\"id\":\"1543\",\"type\":\"ColumnDataSource\"},\"glyph\":{\"id\":\"1544\",\"type\":\"Patch\"},\"hover_glyph\":null,\"muted_glyph\":null,\"nonselection_glyph\":{\"id\":\"1545\",\"type\":\"Patch\"},\"selection_glyph\":null,\"view\":{\"id\":\"1547\",\"type\":\"CDSView\"}},\"id\":\"1546\",\"type\":\"GlyphRenderer\"},{\"attributes\":{\"data_source\":{\"id\":\"1523\",\"type\":\"ColumnDataSource\"},\"glyph\":{\"id\":\"1524\",\"type\":\"Patch\"},\"hover_glyph\":null,\"muted_glyph\":null,\"nonselection_glyph\":{\"id\":\"1525\",\"type\":\"Patch\"},\"selection_glyph\":null,\"view\":{\"id\":\"1527\",\"type\":\"CDSView\"}},\"id\":\"1526\",\"type\":\"GlyphRenderer\"},{\"attributes\":{\"line_alpha\":0.8,\"line_color\":\"red\",\"line_width\":2,\"x\":{\"field\":\"x\"},\"y\":{\"field\":\"y\"}},\"id\":\"1509\",\"type\":\"Line\"},{\"attributes\":{},\"id\":\"1424\",\"type\":\"BasicTicker\"},{\"attributes\":{\"active_drag\":\"auto\",\"active_inspect\":\"auto\",\"active_multi\":null,\"active_scroll\":\"auto\",\"active_tap\":\"auto\",\"tools\":[{\"id\":\"1478\",\"type\":\"PanTool\"},{\"id\":\"1479\",\"type\":\"WheelZoomTool\"},{\"id\":\"1480\",\"type\":\"BoxZoomTool\"},{\"id\":\"1481\",\"type\":\"SaveTool\"},{\"id\":\"1482\",\"type\":\"ResetTool\"},{\"id\":\"1483\",\"type\":\"HelpTool\"},{\"id\":\"1504\",\"type\":\"HoverTool\"}]},\"id\":\"1484\",\"type\":\"Toolbar\"}],\"root_ids\":[\"1586\"]},\"title\":\"Bokeh Application\",\"version\":\"1.1.0\"}};\n",
       "  var render_items = [{\"docid\":\"548f3638-d95f-4ef8-8a4e-23ef735804d6\",\"roots\":{\"1586\":\"9f7ca224-7853-43f2-bd7e-382593450312\"}}];\n",
       "  root.Bokeh.embed.embed_items_notebook(docs_json, render_items);\n",
       "\n",
       "  }\n",
       "  if (root.Bokeh !== undefined) {\n",
       "    embed_document(root);\n",
       "  } else {\n",
       "    var attempts = 0;\n",
       "    var timer = setInterval(function(root) {\n",
       "      if (root.Bokeh !== undefined) {\n",
       "        embed_document(root);\n",
       "        clearInterval(timer);\n",
       "      }\n",
       "      attempts++;\n",
       "      if (attempts > 100) {\n",
       "        console.log(\"Bokeh: ERROR: Unable to run BokehJS code because BokehJS library is missing\");\n",
       "        clearInterval(timer);\n",
       "      }\n",
       "    }, 10, root)\n",
       "  }\n",
       "})(window);"
      ],
      "application/vnd.bokehjs_exec.v0+json": ""
     },
     "metadata": {
      "application/vnd.bokehjs_exec.v0+json": {
       "id": "1586"
      }
     },
     "output_type": "display_data"
    }
   ],
   "source": [
    "# Perform PCA analysis\n",
    "\n",
    "cb.plot.pca(Xknn2,\n",
    "            pcx=1,                                                  # pc for x-axis\n",
    "            pcy=2,                                                  # pc for y-axis\n",
    "            group_label=DataTable2['SampleType'],                    # colour in PCA score plot\n",
    "            sample_label=DataTable2[['Idx','SampleType']],           # labels for Hover in PCA score plot\n",
    "            peak_label=PeakTableClean2[['Name','Label']])            # labels for Hover in PCA loadings plot"
   ]
  },
  {
   "cell_type": "markdown",
   "metadata": {},
   "source": [
    "<div style=\"background-color:rgb(255, 250, 250); padding:10px;  border: 1px solid lightgrey; padding-left: 1em; padding-right: 1em;\">\n",
    "\n",
    "## 6. Merge multi blocks\n",
    "\n",
    "Merge each of the multiple different peak and data blocks into one multi peak and data block \n",
    "\n",
    "</div>"
   ]
  },
  {
   "cell_type": "code",
   "execution_count": 13,
   "metadata": {
    "scrolled": false
   },
   "outputs": [],
   "source": [
    "peak_blocks = dict((block,'') for block in blocks) #Prepare a dictionary of all block types for each peak table\n",
    "data_blocks = dict((block,'') for block in blocks) #Prepare a dictionary of all block types for each data table\n",
    "\n",
    "peak_blocks[blocks[0]] = PeakTableClean1\n",
    "data_blocks[blocks[0]] = pd.merge(DataTable1.T[~DataTable1.T.index.isin(PeakTable1['Name'])].T.reset_index(drop=True), pd.DataFrame(Xknn1, columns=peaklist1), left_index=True, right_index=True)\n",
    "\n",
    "peak_blocks[blocks[1]] = PeakTableClean2\n",
    "data_blocks[blocks[1]] = pd.merge(DataTable2.T[~DataTable2.T.index.isin(PeakTable2['Name'])].T.reset_index(drop=True), pd.DataFrame(Xknn2, columns=peaklist2), left_index=True, right_index=True)\n",
    "\n",
    "MultiBlockPeaks,MultiBlockData = cimcb_vis.utils.mergeBlocks(peak_blocks, data_blocks)"
   ]
  },
  {
   "cell_type": "markdown",
   "metadata": {},
   "source": [
    "<div style=\"background-color:rgb(255, 250, 250); padding:5px;  border: 1px solid lightgrey; padding-left: 1em; padding-right: 1em;\">\n",
    "\n",
    "### Display Multi Block Data\n",
    "\n",
    "Using the <b>BeakerX</b> package we can interactively view and check the Multi Block Data simply by calling the function <span style=\"font-family: monaco; font-size: 14px; background-color:white;\">display(MultiBlockData)</span><br>\n",
    "</div>"
   ]
  },
  {
   "cell_type": "code",
   "execution_count": 14,
   "metadata": {},
   "outputs": [
    {
     "data": {
      "application/vnd.jupyter.widget-view+json": {
       "model_id": "a4576bc4c43545f8b583e92aca4a3255",
       "version_major": 2,
       "version_minor": 0
      }
     },
     "metadata": {},
     "output_type": "display_data"
    }
   ],
   "source": [
    "display(MultiBlockData)"
   ]
  },
  {
   "cell_type": "markdown",
   "metadata": {},
   "source": [
    "<div style=\"background-color:rgb(255, 250, 250); padding:5px;  border: 1px solid lightgrey; padding-left: 1em; padding-right: 1em;\">\n",
    "\n",
    "### Display the Multi Block Peaks\n",
    "\n",
    "Using the <b>BeakerX</b> package we can interactively view and check the Multi Block Peaks simply by calling the function <span style=\"font-family: monaco; font-size: 14px; background-color:white;\">display(MultiBlockPeaks)</span><br>\n",
    "</div>"
   ]
  },
  {
   "cell_type": "code",
   "execution_count": 15,
   "metadata": {},
   "outputs": [
    {
     "data": {
      "application/vnd.jupyter.widget-view+json": {
       "model_id": "43cddda678ba4da99f2f7ad0f20c4799",
       "version_major": 2,
       "version_minor": 0
      }
     },
     "metadata": {},
     "output_type": "display_data"
    }
   ],
   "source": [
    "display(MultiBlockPeaks)"
   ]
  },
  {
   "cell_type": "markdown",
   "metadata": {},
   "source": [
    "<div style=\"background-color:rgb(255, 250, 250); padding:10px;  border: 1px solid lightgrey; padding-left: 1em; padding-right: 1em;\">\n",
    "\n",
    "## 7. Correlation analysis\n",
    "\n",
    "The multi blocks are then correlated to generate a correlation matrix using spearman or pearson correlation algorithm\n",
    "\n",
    "</div>  "
   ]
  },
  {
   "cell_type": "code",
   "execution_count": 16,
   "metadata": {},
   "outputs": [
    {
     "name": "stderr",
     "output_type": "stream",
     "text": [
      "100%|██████████| 170/170 [00:16<00:00, 11.41it/s]\n"
     ]
    }
   ],
   "source": [
    "correlationType = \"spearman\"; #\"pearson\"\n",
    "\n",
    "ScoreBlocks,PvalueBlocks = cimcb_vis.corrAnalysis(MultiBlockPeaks, MultiBlockData, correlationType)"
   ]
  },
  {
   "cell_type": "markdown",
   "metadata": {},
   "source": [
    "<div style=\"background-color:rgb(255, 250, 250); padding:5px;  border: 1px solid lightgrey; padding-left: 1em; padding-right: 1em;\">\n",
    "\n",
    "### Display Correlation Coefficients\n",
    "Using the <b>BeakerX</b> package we can interactively view and check the correlation coefficients simply by calling the function <span style=\"font-family: monaco; font-size: 14px; background-color:white;\">display(corr_blocks)</span><br>\n",
    "</div>"
   ]
  },
  {
   "cell_type": "code",
   "execution_count": 17,
   "metadata": {},
   "outputs": [
    {
     "data": {
      "application/vnd.jupyter.widget-view+json": {
       "model_id": "96045c4a798b42b0a02f808c6e2bbbae",
       "version_major": 2,
       "version_minor": 0
      }
     },
     "metadata": {},
     "output_type": "display_data"
    }
   ],
   "source": [
    "display(ScoreBlocks)"
   ]
  },
  {
   "cell_type": "markdown",
   "metadata": {},
   "source": [
    "<div style=\"background-color:rgb(255, 250, 250); padding:5px;  border: 1px solid lightgrey; padding-left: 1em; padding-right: 1em;\">\n",
    "\n",
    "### Display Correlation Pvalues\n",
    "Using the <b>BeakerX</b> package we can interactively view and check the correlation p-values simply by calling the function <span style=\"font-family: monaco; font-size: 14px; background-color:white;\">display(pval_blocks)</span><br>\n",
    "</div>"
   ]
  },
  {
   "cell_type": "code",
   "execution_count": 18,
   "metadata": {},
   "outputs": [
    {
     "data": {
      "application/vnd.jupyter.widget-view+json": {
       "model_id": "0f8bed43d07f4b1581dce6163b041355",
       "version_major": 2,
       "version_minor": 0
      }
     },
     "metadata": {},
     "output_type": "display_data"
    }
   ],
   "source": [
    "display(PvalueBlocks)"
   ]
  },
  {
   "cell_type": "markdown",
   "metadata": {},
   "source": [
    "<div style=\"background-color:rgb(255, 250, 250); padding:10px;  border: 1px solid lightgrey; padding-left: 1em; padding-right: 1em;\">\n",
    "\n",
    "## 8.  Generate Edges\n",
    "\n",
    "The correlation data is filtered and placed in a network of edges\n",
    "\n",
    "</div>"
   ]
  },
  {
   "cell_type": "code",
   "execution_count": 19,
   "metadata": {},
   "outputs": [],
   "source": [
    "networkEdges = cimcb_vis.Edge(peaks=MultiBlockPeaks, scores=ScoreBlocks, pvalues=PvalueBlocks)\n",
    "\n",
    "params = dict({'filterScoreType': 'Pval', 'hard_threshold': 0.01, 'sign': \"BOTH\", 'verbose': 0})\n",
    "\n",
    "networkEdges.set_params(**params)\n",
    "\n",
    "networkEdges.run()\n",
    "\n",
    "edges = networkEdges.getEdges()"
   ]
  },
  {
   "cell_type": "markdown",
   "metadata": {},
   "source": [
    "<div style=\"background-color:rgb(255, 250, 250); padding:5px;  border: 1px solid lightgrey; padding-left: 1em; padding-right: 1em;\">\n",
    "\n",
    "### Display edge data used in the Hierarchical edge bundle\n",
    "\n",
    "Using the <b>BeakerX</b> package we can interactively view and check the edge data simply by calling the function <span style=\"font-family: monaco; font-size: 14px; background-color:white;\">display(edges)</span><br>\n",
    "</div>"
   ]
  },
  {
   "cell_type": "code",
   "execution_count": 20,
   "metadata": {},
   "outputs": [
    {
     "data": {
      "application/vnd.jupyter.widget-view+json": {
       "model_id": "0b3523ea51544515a0712aa9b56560af",
       "version_major": 2,
       "version_minor": 0
      }
     },
     "metadata": {},
     "output_type": "display_data"
    }
   ],
   "source": [
    "display(edges)"
   ]
  },
  {
   "cell_type": "markdown",
   "metadata": {},
   "source": [
    "<div style=\"background-color:rgb(255, 250, 250); padding:10px;  border: 1px solid lightgrey; padding-left: 1em; padding-right: 1em;\">\n",
    "\n",
    "## 9.  Sort edges\n",
    "\n",
    "Sort the edges for visualisation preference\n",
    "\n",
    "</div>"
   ]
  },
  {
   "cell_type": "code",
   "execution_count": 21,
   "metadata": {},
   "outputs": [],
   "source": [
    "#edges.sort_values(['start_index', 'end_index'], inplace=True, ascending=True)\n",
    "#edges.sort_values('Pval', inplace=True, ascending=False)\n",
    "edges.sort_values('Score', inplace=True, ascending=False)"
   ]
  },
  {
   "cell_type": "markdown",
   "metadata": {},
   "source": [
    "<div style=\"background-color:rgb(255, 250, 250); padding:10px;  border: 1px solid lightgrey; padding-left: 1em; padding-right: 1em;\">\n",
    "\n",
    "## 10.  Plot Hierarchical Edge Bundle\n",
    "\n",
    "The edges from the network structure are then used to generate a Hierarchical edge bundle in D3 JavaScript and embedded in HTML for interactive visualisation\n",
    "\n",
    "</div>"
   ]
  },
  {
   "cell_type": "code",
   "execution_count": 22,
   "metadata": {},
   "outputs": [
    {
     "data": {
      "text/html": [
       "\n",
       "        <iframe\n",
       "            width=\"1340\"\n",
       "            height=\"1250\"\n",
       "            src=\"hEdgeBundle_HemePen_Plasma.html\"\n",
       "            frameborder=\"0\"\n",
       "            allowfullscreen\n",
       "        ></iframe>\n",
       "        "
      ],
      "text/plain": [
       "<IPython.lib.display.IFrame at 0x1159c5da0>"
      ]
     },
     "execution_count": 22,
     "metadata": {},
     "output_type": "execute_result"
    }
   ],
   "source": [
    "html_file = 'hEdgeBundle_HemePen_Plasma.html';\n",
    "\n",
    "params = dict({'diameter': 960, 'innerRadiusOffset': 120, 'groupSeparation': 5, 'linkFadeOpacity': 0.01, 'fontSize': 10\n",
    "               , 'backgroundColor': 'white', 'sliderTextColor': 'black', 'filterOffSet': -60, 'color_scale': 'Score', 'edge_cmap': 'brg'})\n",
    "\n",
    "bundle = cimcb_vis.edgeBundle(edges)\n",
    "\n",
    "bundle.set_params(**params)\n",
    "\n",
    "html = HTML(bundle.run()).data\n",
    "\n",
    "with open(home + html_file, 'w') as f:\n",
    "    f.write(html)\n",
    "\n",
    "IFrame(html_file, width=1340, height=1250)"
   ]
  },
  {
   "cell_type": "code",
   "execution_count": null,
   "metadata": {},
   "outputs": [],
   "source": []
  }
 ],
 "metadata": {
  "kernelspec": {
   "display_name": "Python 3",
   "language": "python",
   "name": "python3"
  },
  "language_info": {
   "codemirror_mode": {
    "name": "ipython",
    "version": 3
   },
   "file_extension": ".py",
   "mimetype": "text/x-python",
   "name": "python",
   "nbconvert_exporter": "python",
   "pygments_lexer": "ipython3",
   "version": "3.7.2"
  },
  "toc": {
   "base_numbering": 1,
   "nav_menu": {},
   "number_sections": false,
   "sideBar": false,
   "skip_h1_title": false,
   "title_cell": "Table of Contents",
   "title_sidebar": "Contents",
   "toc_cell": false,
   "toc_position": {},
   "toc_section_display": false,
   "toc_window_display": false
  }
 },
 "nbformat": 4,
 "nbformat_minor": 2
}
